{
 "cells": [
  {
   "cell_type": "code",
   "execution_count": 18,
   "metadata": {},
   "outputs": [
    {
     "data": {
      "text/plain": [
       "array([[0],\n",
       "       [0],\n",
       "       [0],\n",
       "       [1]])"
      ]
     },
     "execution_count": 18,
     "metadata": {},
     "output_type": "execute_result"
    }
   ],
   "source": [
    "import numpy as np\n",
    "X=np.array([[0,0,1],[0,1,1],[1,0,1],[1,1,1]])\n",
    "Y=np.array([[0,0,0,1]]).T   #and gate  #to keep y in 2d\n",
    "Y"
   ]
  },
  {
   "cell_type": "code",
   "execution_count": 19,
   "metadata": {},
   "outputs": [],
   "source": [
    "def sig(z):     #sigmoid fn\n",
    "    return 1/(1+np.exp(-z))"
   ]
  },
  {
   "cell_type": "code",
   "execution_count": 20,
   "metadata": {},
   "outputs": [],
   "source": [
    "def dsig(z):\n",
    "    return sig(z)*(1-sig(z))"
   ]
  },
  {
   "cell_type": "code",
   "execution_count": 21,
   "metadata": {},
   "outputs": [],
   "source": [
    "weights=2*np.random.random((3,1))-1"
   ]
  },
  {
   "cell_type": "code",
   "execution_count": 22,
   "metadata": {},
   "outputs": [],
   "source": [
    "def forward(x,weights):\n",
    "    output0=X\n",
    "    input_o=np.dot(output0,weights)\n",
    "    output=sig(input_o)\n",
    "    return output"
   ]
  },
  {
   "cell_type": "code",
   "execution_count": 25,
   "metadata": {},
   "outputs": [],
   "source": [
    "# def train(X,Y,weights,lr):  \n",
    "#     for it in range(10000):\n",
    "#         output0=X\n",
    "#         input_o=np.dot(output0,weights)\n",
    "#         output=sig(input_o)\n",
    "#         first_term=output-Y\n",
    "#         second_term=dsig(input_o)\n",
    "#         first_two_terms=first_term*second_term\n",
    "#         changes=np.array([[0.0],[0.0],[0.0]])  #3 weights so. take 3 size array of slope weights\n",
    "#         for i in range(3):\n",
    "#             for j in range(4):\n",
    "#                 changes[i][0]+=first_two_terms[[j][0]*output0[j][i]\n",
    "#         weights=weights-lr*changes\n",
    "#      return weights\n",
    "def train(X, Y, weights, lr):\n",
    "    for it in range(100000):\n",
    "        output0 = X\n",
    "        input_o = np.dot(output0, weights)\n",
    "        output = sig(input_o)\n",
    "        first_term = output - Y\n",
    "        second_term = dsig(input_o)\n",
    "        first_two_terms = first_term * second_term\n",
    "        changes = np.array([[0.0], [0.0], [0.0]])\n",
    "        for i in range(3):\n",
    "            for j in range(4):\n",
    "                changes[i][0] += first_two_terms[j][0]*output0[j][i]\n",
    "        weights = weights - lr*changes\n",
    "    return weights"
   ]
  },
  {
   "cell_type": "code",
   "execution_count": null,
   "metadata": {},
   "outputs": [],
   "source": []
  },
  {
   "cell_type": "code",
   "execution_count": 26,
   "metadata": {},
   "outputs": [
    {
     "data": {
      "text/plain": [
       "(array([[  8.01864378],\n",
       "        [  8.01864378],\n",
       "        [-12.11443189]]), array([[5.47982513e-06],\n",
       "        [1.63701821e-02],\n",
       "        [1.63701821e-02],\n",
       "        [9.80599317e-01]]))"
      ]
     },
     "execution_count": 26,
     "metadata": {},
     "output_type": "execute_result"
    }
   ],
   "source": [
    "final_weights=train(X,Y,weights,0.1)\n",
    "final_weights,forward(X,final_weights)"
   ]
  },
  {
   "cell_type": "code",
   "execution_count": null,
   "metadata": {},
   "outputs": [],
   "source": []
  },
  {
   "cell_type": "code",
   "execution_count": null,
   "metadata": {},
   "outputs": [],
   "source": []
  },
  {
   "cell_type": "code",
   "execution_count": null,
   "metadata": {},
   "outputs": [],
   "source": []
  }
 ],
 "metadata": {
  "kernelspec": {
   "display_name": "Python 3",
   "language": "python",
   "name": "python3"
  },
  "language_info": {
   "codemirror_mode": {
    "name": "ipython",
    "version": 3
   },
   "file_extension": ".py",
   "mimetype": "text/x-python",
   "name": "python",
   "nbconvert_exporter": "python",
   "pygments_lexer": "ipython3",
   "version": "3.7.1"
  }
 },
 "nbformat": 4,
 "nbformat_minor": 2
}
