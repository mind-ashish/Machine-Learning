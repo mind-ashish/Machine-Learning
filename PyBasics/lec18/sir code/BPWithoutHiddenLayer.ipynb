{
 "cells": [
  {
   "cell_type": "code",
   "execution_count": 1,
   "metadata": {
    "collapsed": true
   },
   "outputs": [],
   "source": [
    "import numpy as np"
   ]
  },
  {
   "cell_type": "code",
   "execution_count": 21,
   "metadata": {},
   "outputs": [
    {
     "data": {
      "text/plain": [
       "array([[0],\n",
       "       [1],\n",
       "       [1],\n",
       "       [0]])"
      ]
     },
     "execution_count": 21,
     "metadata": {},
     "output_type": "execute_result"
    }
   ],
   "source": [
    "X = np.array([[0,0, 1], [0,1, 1], [1,0, 1], [1,1, 1]])\n",
    "Y = np.array([[0,1,1,0]]).T\n",
    "Y"
   ]
  },
  {
   "cell_type": "code",
   "execution_count": 3,
   "metadata": {
    "collapsed": true
   },
   "outputs": [],
   "source": [
    "def sig(z):\n",
    "    return 1/(1 + np.exp(-z))"
   ]
  },
  {
   "cell_type": "code",
   "execution_count": 10,
   "metadata": {
    "collapsed": true
   },
   "outputs": [],
   "source": [
    "def dsig(z):\n",
    "    return sig(z)*(1 - sig(z))"
   ]
  },
  {
   "cell_type": "code",
   "execution_count": 5,
   "metadata": {
    "collapsed": true
   },
   "outputs": [],
   "source": [
    "weights = 2 * np.random.random((3,1)) - 1"
   ]
  },
  {
   "cell_type": "code",
   "execution_count": 17,
   "metadata": {
    "collapsed": true
   },
   "outputs": [],
   "source": [
    "def forward(x, weights):\n",
    "    output0 = X\n",
    "    input_o = np.dot(output0, weights)\n",
    "    output = sig(input_o)\n",
    "    return output"
   ]
  },
  {
   "cell_type": "code",
   "execution_count": 15,
   "metadata": {},
   "outputs": [],
   "source": [
    "def train(X, Y, weights, lr):\n",
    "    for it in range(100000):\n",
    "        output0 = X\n",
    "        input_o = np.dot(output0, weights)\n",
    "        output = sig(input_o)\n",
    "        first_term = output - Y\n",
    "        second_term = dsig(input_o)\n",
    "        first_two_terms = first_term * second_term\n",
    "        changes = np.array([[0.0], [0.0], [0.0]])\n",
    "        for i in range(3):\n",
    "            for j in range(4):\n",
    "                changes[i][0] += first_two_terms[j][0]*output0[j][i]\n",
    "        weights = weights - lr*changes\n",
    "    return weights"
   ]
  },
  {
   "cell_type": "code",
   "execution_count": 22,
   "metadata": {},
   "outputs": [
    {
     "data": {
      "text/plain": [
       "(array([[  2.48087814e-16],\n",
       "        [  2.48740698e-16],\n",
       "        [ -3.30334576e-16]]), array([[ 0.5],\n",
       "        [ 0.5],\n",
       "        [ 0.5],\n",
       "        [ 0.5]]))"
      ]
     },
     "execution_count": 22,
     "metadata": {},
     "output_type": "execute_result"
    }
   ],
   "source": [
    "final_weights = train(X, Y, weights, 0.1)\n",
    "final_weights, forward(X, final_weights)\n"
   ]
  }
 ],
 "metadata": {
  "kernelspec": {
   "display_name": "Python 3",
   "language": "python",
   "name": "python3"
  },
  "language_info": {
   "codemirror_mode": {
    "name": "ipython",
    "version": 3
   },
   "file_extension": ".py",
   "mimetype": "text/x-python",
   "name": "python",
   "nbconvert_exporter": "python",
   "pygments_lexer": "ipython3",
   "version": "3.7.1"
  }
 },
 "nbformat": 4,
 "nbformat_minor": 1
}
