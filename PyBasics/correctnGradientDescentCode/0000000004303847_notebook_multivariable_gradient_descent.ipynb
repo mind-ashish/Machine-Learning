{
 "cells": [
  {
   "cell_type": "code",
   "execution_count": 4,
   "metadata": {},
   "outputs": [],
   "source": [
    "def pred(x,m):\n",
    "   \n",
    "    x_add = np.ones((x.shape[0],1))\n",
    "    y_pred = np.zeros((x.shape[0],1))\n",
    "    x = np.append(x, x_add, axis=1)\n",
    "    k = x.shape[0]\n",
    "    l = x.shape[1]\n",
    "    for i in range(k):\n",
    "        for j in range(l):\n",
    "            y_pred[j] = x[i][j]*m[j]\n",
    "    return y_pred"
   ]
  },
  {
   "cell_type": "code",
   "execution_count": 5,
   "metadata": {},
   "outputs": [],
   "source": [
    "def cost(x,y,m):\n",
    "    er = float(0)\n",
    "    k = x.shape[0]\n",
    "    l = x.shape[1]\n",
    "\n",
    "    for i in range(k):\n",
    "        for j in  range(l):\n",
    "            er = er +(float(y[j][0]) - float(x[i][j])*float(m[j][0]))**2\n",
    "    return er/k"
   ]
  },
  {
   "cell_type": "code",
   "execution_count": 6,
   "metadata": {},
   "outputs": [],
   "source": [
    "def gradient_descent(x,y,learning_rate = 0.01 , num_iter = 1000):\n",
    "    m = np.zeros((x.shape[1],1))\n",
    "    #print(\"start : \",cost(x,y,m))\n",
    "    for i in range(num_iter):\n",
    "        m = stochastic_step_gradient(x,y,learning_rate,m)\n",
    "        #print(i,\" : \",cost(x,y,m) )\n",
    "    return m"
   ]
  },
  {
   "cell_type": "code",
   "execution_count": 7,
   "metadata": {},
   "outputs": [],
   "source": [
    "def stochastic_step_gradient(x,y,learning_rate,m):\n",
    "    l = x.shape[0]\n",
    "    k = x.shape[1]\n",
    "    slope_m = 0\n",
    "    #print(m.shape)\n",
    "    for i in range(l):\n",
    "        for j in range(k):\n",
    "            slope_m = float((2.0/l)*float(x[i][j])) * float( float((x[i][j]*m[j])) - (float(y[i]) ))\n",
    "            m[j] =  m[j] - learning_rate*slope_m\n",
    "    return m"
   ]
  },
  {
   "cell_type": "code",
   "execution_count": 8,
   "metadata": {},
   "outputs": [],
   "source": [
    "def run(x,y):\n",
    "    learning_rate = 0.001\n",
    "    num_iter = 95\n",
    "    x_add = np.ones((x.shape[0],1))\n",
    "    \n",
    "    m = np.zeros((x.shape[1] + 1,1))\n",
    "    x = np.append(x, x_add, axis=1)\n",
    "   \n",
    "    m = gradient_descent(x,y,learning_rate,num_iter)\n",
    "    return m"
   ]
  },
  {
   "cell_type": "code",
   "execution_count": 9,
   "metadata": {},
   "outputs": [],
   "source": [
    "import pandas as pd\n",
    "import numpy as np\n",
    "import os\n",
    "import matplotlib.pyplot as plt\n",
    "from sklearn.preprocessing import StandardScaler\n",
    "from sklearn.linear_model import LinearRegression\n",
    "from sklearn import datasets\n",
    "alg = LinearRegression()\n",
    "scaler = StandardScaler()"
   ]
  },
  {
   "cell_type": "code",
   "execution_count": 15,
   "metadata": {},
   "outputs": [
    {
     "data": {
      "text/plain": [
       "LinearRegression(copy_X=True, fit_intercept=True, n_jobs=None,\n",
       "         normalize=False)"
      ]
     },
     "execution_count": 15,
     "metadata": {},
     "output_type": "execute_result"
    }
   ],
   "source": [
    "boston_train = pd.read_csv(\"0000000000002417_training_boston_x_y_train.csv\",header = None)\n",
    "X_train = pd.DataFrame(boston_train.iloc[1:,0:-1],dtype =float)\n",
    "Y_train = pd.DataFrame(boston_train.iloc[1:,-1:]).values\n",
    "\n",
    "count = X_train.shape[1]\n",
    "for i in range(13):\n",
    "    X_train[count] = X_train[i]**2\n",
    "    count = count + 1\n",
    "    X_train[count] = X_train[i]**3 \n",
    "    count = count + 1\n",
    "    for j in range(13):\n",
    "        if( j > i):\n",
    "            X_train[count]= X_train[i]*X_train[j]\n",
    "            count = count + 1\n",
    "\n",
    "alg.fit(X_train,Y_train)"
   ]
  },
  {
   "cell_type": "code",
   "execution_count": 18,
   "metadata": {},
   "outputs": [],
   "source": [
    "m = np.array (run(x_train_scaled,Y_train))\n",
    "boston_test = pd.read_csv(\"0000000000002417_test_boston_x_test.csv\",header = None)\n",
    "X_test = pd.DataFrame(boston_test.iloc[:,:])\n",
    "count = 13\n",
    "for i in range(13):\n",
    "    X_test[count] = X_test[i]**2\n",
    "    count = count + 1\n",
    "    X_test[count] = X_test[i]**3\n",
    "    count = count + 1\n",
    "    for j in range(13):\n",
    "        if( j > i):\n",
    "            X_test[count]= X_test[i]*X_test[j]\n",
    "            count = count + 1\n",
    "\n",
    "\n",
    "\n",
    "\n",
    "#print(x_test_scaled.shape)\n",
    "#y_pred= np.array(pred(X_test,m))\n",
    "#print(y_pred)\n",
    "y_pred1 =alg.predict(X_test)\n",
    "import csv\n",
    "with open('mycsv22.csv', 'w',newline = '') as f:\n",
    "    thewriter = csv.writer(f)\n",
    "    for i in y_pred1:\n",
    "        thewriter.writerow(i)\n",
    "\n"
   ]
  }
 ],
 "metadata": {
  "kernelspec": {
   "display_name": "Python 3",
   "language": "python",
   "name": "python3"
  },
  "language_info": {
   "codemirror_mode": {
    "name": "ipython",
    "version": 3
   },
   "file_extension": ".py",
   "mimetype": "text/x-python",
   "name": "python",
   "nbconvert_exporter": "python",
   "pygments_lexer": "ipython3",
   "version": "3.7.1"
  }
 },
 "nbformat": 4,
 "nbformat_minor": 2
}
