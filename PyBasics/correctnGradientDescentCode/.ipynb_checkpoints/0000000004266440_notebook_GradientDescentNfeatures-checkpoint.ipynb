{
 "cells": [
  {
   "cell_type": "code",
   "execution_count": 2,
   "metadata": {},
   "outputs": [],
   "source": [
    "import numpy as np\n",
    "data=np.genfromtxt(\"C:/Users/Prashant Verma/Desktop/training_boston_x_y_train.csv\",delimiter=\",\")"
   ]
  },
  {
   "cell_type": "code",
   "execution_count": 537,
   "metadata": {},
   "outputs": [
    {
     "name": "stdout",
     "output_type": "stream",
     "text": [
      "(379, 13)\n"
     ]
    }
   ],
   "source": [
    "x_train=np.delete(data,-1,1)\n",
    "print(x_train.shape)\n",
    "y_train=np.delete(data,np.s_[0:13],1)\n",
    "ones = np.ones([x_train.shape[0],1])\n",
    "xn_train = np.concatenate((x_train,ones),axis=1)"
   ]
  },
  {
   "cell_type": "code",
   "execution_count": 582,
   "metadata": {},
   "outputs": [],
   "source": [
    "x_test=np.genfromtxt(\"C:/Users/Prashant Verma/Desktop/test_boston_x_test.csv\",delimiter=\",\")\n",
    "df1=pd.DataFrame(x_test)\n",
    "some=13\n",
    "for i in range(13):\n",
    "    df1[some]=df1[i]**2\n",
    "    some+=1\n",
    "for i in range(13):    \n",
    "    for j in range(13):\n",
    "        if j>i:\n",
    "            df1[some]=df1[i]*df1[j]\n",
    "            some+=1\n",
    "df1.to_csv(\"tryinggscaling.csv\")"
   ]
  },
  {
   "cell_type": "code",
   "execution_count": 586,
   "metadata": {},
   "outputs": [
    {
     "data": {
      "text/plain": [
       "(127, 104)"
      ]
     },
     "execution_count": 586,
     "metadata": {},
     "output_type": "execute_result"
    }
   ],
   "source": [
    "xtestnew=np.genfromtxt(\"C:/Users/Prashant Verma/Desktop/see/tryinggscaling.csv\",delimiter=\",\")\n",
    "xtestnew.shape"
   ]
  },
  {
   "cell_type": "code",
   "execution_count": 541,
   "metadata": {},
   "outputs": [],
   "source": [
    "df=pd.DataFrame(x_train)\n",
    "some=13\n",
    "for i in range(13):\n",
    "    df[some]=df[i]**2\n",
    "    some+=1\n",
    "for i in range(13):    \n",
    "    for j in range(13):\n",
    "        if j>i:\n",
    "            df[some]=df[i]*df[j]\n",
    "            some+=1"
   ]
  },
  {
   "cell_type": "code",
   "execution_count": 543,
   "metadata": {},
   "outputs": [],
   "source": [
    "df.to_csv(\"tryingscaling.csv\")\n"
   ]
  },
  {
   "cell_type": "code",
   "execution_count": 551,
   "metadata": {},
   "outputs": [
    {
     "data": {
      "text/plain": [
       "(379, 105)"
      ]
     },
     "execution_count": 551,
     "metadata": {},
     "output_type": "execute_result"
    }
   ],
   "source": [
    "xnew=np.genfromtxt(\"C:/Users/Prashant Verma/Desktop/see/tryingscaling.csv\",delimiter=\",\")\n",
    "ones = np.ones([xnew.shape[0],1])\n",
    "xnew = np.concatenate((xnew,ones),axis=1)\n",
    "xnew.shape"
   ]
  },
  {
   "cell_type": "code",
   "execution_count": null,
   "metadata": {},
   "outputs": [],
   "source": []
  },
  {
   "cell_type": "code",
   "execution_count": 519,
   "metadata": {},
   "outputs": [],
   "source": [
    "def cost(y,x,m):\n",
    "    return ((y-(x.dot(m)))**2).mean()"
   ]
  },
  {
   "cell_type": "code",
   "execution_count": 553,
   "metadata": {},
   "outputs": [],
   "source": [
    "def step_gradient(x,y,learning_rate,m):\n",
    "    k=x.shape[0] #no. of rows\n",
    "    slope_m=np.zeros(x.shape[1])\n",
    "    slope_m=slope_m.reshape(x.shape[1],1)\n",
    "    for i in range(k): #for each k\n",
    "        for j in range(len(m)):\n",
    "            slope_m[j]+=(2/k)*x[i][j]*(x[i].dot(m)-y[i])\n",
    "    m=m-learning_rate*slope_m\n",
    "    return m\n",
    "    "
   ]
  },
  {
   "cell_type": "code",
   "execution_count": 654,
   "metadata": {},
   "outputs": [],
   "source": [
    "def gradient_descent(x,y,learning_rate=0.01,num_iter=100):\n",
    "    initial_m=np.zeros(x.shape[1])\n",
    "    initial_m=initial_m.reshape(x.shape[1],1)\n",
    "    m=initial_m\n",
    "    print(\"start:\",cost(y,x,m))\n",
    "    for i in range(num_iter):\n",
    "        m=step_gradient(x,y,learning_rate,m)\n",
    "        print(i,\":\",cost(y,x,m))\n",
    "    return m"
   ]
  },
  {
   "cell_type": "code",
   "execution_count": 663,
   "metadata": {},
   "outputs": [],
   "source": [
    "def run(x,y):\n",
    "    learning_rate=0.05\n",
    "    num_iter=8\n",
    "    m=gradient_descent(x,y,learning_rate,num_iter)\n",
    "    return m"
   ]
  },
  {
   "cell_type": "code",
   "execution_count": 664,
   "metadata": {},
   "outputs": [
    {
     "name": "stdout",
     "output_type": "stream",
     "text": [
      "start: 6.023360079834469\n",
      "0 : 6.023275301840987\n",
      "1 : 6.023190599677737\n",
      "2 : 6.023105973235454\n",
      "3 : 6.023021422436297\n",
      "4 : 6.022936948484076\n",
      "5 : 6.022852605380238\n",
      "6 : 6.022770623990873\n",
      "7 : 6.022783000373241\n"
     ]
    },
    {
     "data": {
      "text/plain": [
       "array([[-4.00175855e+00],\n",
       "       [-1.01615488e+00],\n",
       "       [ 1.33360517e+00],\n",
       "       [-4.47088853e+00],\n",
       "       [-1.94307381e+00],\n",
       "       [ 3.03629078e+00],\n",
       "       [-2.13986374e+00],\n",
       "       [-3.21778559e+00],\n",
       "       [ 2.05840231e+00],\n",
       "       [-9.90962419e-01],\n",
       "       [-7.69215597e-01],\n",
       "       [ 8.21899843e-01],\n",
       "       [-3.61199358e+00],\n",
       "       [ 1.24924883e-01],\n",
       "       [-6.60957652e-02],\n",
       "       [ 1.30326109e+00],\n",
       "       [ 1.87529986e+00],\n",
       "       [-4.64805354e-01],\n",
       "       [ 3.86689281e-02],\n",
       "       [ 4.48823193e-01],\n",
       "       [ 2.29535929e+00],\n",
       "       [-1.66100622e+00],\n",
       "       [-1.79386691e+00],\n",
       "       [ 3.37363976e-01],\n",
       "       [-4.76773654e-01],\n",
       "       [ 5.28005497e-01],\n",
       "       [-8.31512108e-01],\n",
       "       [ 1.72622346e+00],\n",
       "       [ 5.49193937e+00],\n",
       "       [-5.78962360e-01],\n",
       "       [ 7.47669493e-01],\n",
       "       [-2.73733606e-01],\n",
       "       [-1.21003460e+00],\n",
       "       [-1.01207737e+00],\n",
       "       [ 9.83891861e-01],\n",
       "       [-4.31519428e-01],\n",
       "       [-2.11611381e-01],\n",
       "       [ 1.06800060e+00],\n",
       "       [-6.37235307e-01],\n",
       "       [-3.91857448e-02],\n",
       "       [-6.53376549e-01],\n",
       "       [-1.29569790e-01],\n",
       "       [-8.99735578e-01],\n",
       "       [-8.19365222e-01],\n",
       "       [ 3.47067067e-01],\n",
       "       [ 2.44277231e+00],\n",
       "       [-4.09623865e-01],\n",
       "       [ 6.51821086e-01],\n",
       "       [-7.46911943e-01],\n",
       "       [-5.42775948e-01],\n",
       "       [ 3.12150334e+00],\n",
       "       [ 1.34674195e+00],\n",
       "       [ 6.89158544e-01],\n",
       "       [ 2.33075257e+00],\n",
       "       [-1.59356072e+00],\n",
       "       [ 6.37737780e-01],\n",
       "       [-3.97200282e-01],\n",
       "       [ 4.54604360e-01],\n",
       "       [-4.23601775e-01],\n",
       "       [-4.88065844e-01],\n",
       "       [-9.70789982e-01],\n",
       "       [ 1.61412239e-01],\n",
       "       [ 4.08600565e-01],\n",
       "       [-8.94421552e-01],\n",
       "       [ 2.96157126e-01],\n",
       "       [ 5.72464334e-02],\n",
       "       [ 4.21323424e-01],\n",
       "       [-6.79263114e-01],\n",
       "       [ 8.31964623e-01],\n",
       "       [-2.33179874e+00],\n",
       "       [ 2.55270598e+00],\n",
       "       [-1.10830257e+00],\n",
       "       [ 1.52559275e+00],\n",
       "       [-2.37816108e+00],\n",
       "       [-1.01505685e-01],\n",
       "       [ 1.04441403e+00],\n",
       "       [-1.03420000e+00],\n",
       "       [ 7.08231494e-01],\n",
       "       [-5.86620768e-01],\n",
       "       [-2.10530194e+00],\n",
       "       [-9.99932464e-01],\n",
       "       [-4.93464645e-01],\n",
       "       [-1.32027135e+00],\n",
       "       [ 2.01354098e-01],\n",
       "       [ 3.26381292e+00],\n",
       "       [-1.99714897e+00],\n",
       "       [-3.34370827e-01],\n",
       "       [-1.80218416e+00],\n",
       "       [-1.27916119e+00],\n",
       "       [-2.28575495e+00],\n",
       "       [-1.64674654e+00],\n",
       "       [-8.80037871e-01],\n",
       "       [-1.64854973e+00],\n",
       "       [ 1.39936269e+00],\n",
       "       [ 2.66694103e+00],\n",
       "       [-3.91727294e-01],\n",
       "       [ 4.93722862e-03],\n",
       "       [-1.37568964e+00],\n",
       "       [ 2.46668824e+00],\n",
       "       [-9.46266168e-01],\n",
       "       [-1.54139193e+00],\n",
       "       [ 1.28722252e-01],\n",
       "       [ 4.11508996e-02],\n",
       "       [-6.19969370e-01],\n",
       "       [ 1.70575397e+01]])"
      ]
     },
     "execution_count": 664,
     "metadata": {},
     "output_type": "execute_result"
    }
   ],
   "source": [
    "m=run(xnew,y_train)\n",
    "m"
   ]
  },
  {
   "cell_type": "code",
   "execution_count": 665,
   "metadata": {},
   "outputs": [],
   "source": [
    "def predict(xp,m):\n",
    "    return xp.dot(m[0:-1])+m[-1]\n",
    "y_pred=predict(xtestnew,m)"
   ]
  },
  {
   "cell_type": "code",
   "execution_count": 666,
   "metadata": {},
   "outputs": [],
   "source": [
    "np.savetxt('pred2.csv',y_pred)"
   ]
  },
  {
   "cell_type": "code",
   "execution_count": null,
   "metadata": {},
   "outputs": [],
   "source": [
    "array([[-9.37595413e-01],\n",
    "       [ 7.39677006e-01],\n",
    "       [ 7.73974593e-03],\n",
    "       [ 7.81310763e-01],\n",
    "       [-2.17400286e+00],\n",
    "       [ 2.35475419e+00],\n",
    "       [ 1.22894652e-01],\n",
    "       [-2.95259908e+00],\n",
    "       [ 2.52460982e+00],\n",
    "       [-1.69309714e+00],\n",
    "       [-2.25119881e+00],\n",
    "       [ 5.88186668e-01],\n",
    "       [-4.26345649e+00],\n",
    "       [ 2.26772651e+01]])"
   ]
  },
  {
   "cell_type": "code",
   "execution_count": 579,
   "metadata": {},
   "outputs": [
    {
     "data": {
      "text/plain": [
       "(379, 104)"
      ]
     },
     "execution_count": 579,
     "metadata": {},
     "output_type": "execute_result"
    }
   ],
   "source": [
    "xtestnew.shape"
   ]
  },
  {
   "cell_type": "code",
   "execution_count": null,
   "metadata": {},
   "outputs": [],
   "source": []
  },
  {
   "cell_type": "code",
   "execution_count": null,
   "metadata": {},
   "outputs": [],
   "source": []
  }
 ],
 "metadata": {
  "kernelspec": {
   "display_name": "Python 3",
   "language": "python",
   "name": "python3"
  },
  "language_info": {
   "codemirror_mode": {
    "name": "ipython",
    "version": 3
   },
   "file_extension": ".py",
   "mimetype": "text/x-python",
   "name": "python",
   "nbconvert_exporter": "python",
   "pygments_lexer": "ipython3",
   "version": "3.7.1"
  }
 },
 "nbformat": 4,
 "nbformat_minor": 2
}
