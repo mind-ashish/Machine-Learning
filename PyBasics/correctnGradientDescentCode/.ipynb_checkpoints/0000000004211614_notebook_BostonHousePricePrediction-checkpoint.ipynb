{
 "cells": [
  {
   "cell_type": "code",
   "execution_count": 1,
   "metadata": {},
   "outputs": [],
   "source": [
    "import numpy as np\n",
    "import pandas as pd\n",
    "from sklearn.model_selection import train_test_split\n",
    "from sklearn.preprocessing import StandardScaler\n",
    "from sklearn import datasets"
   ]
  },
  {
   "cell_type": "code",
   "execution_count": 2,
   "metadata": {},
   "outputs": [],
   "source": [
    "data = np.genfromtxt('boston_train.csv', delimiter=',')\n",
    "x_test = np.genfromtxt('boston_test.csv', delimiter=',')\n",
    "\n",
    "# boston = datasets.load_boston()\n",
    "# x, x_test, y, y_test = train_test_split(boston.data, boston.target, test_size=0.25, random_state=1)"
   ]
  },
  {
   "cell_type": "code",
   "execution_count": 3,
   "metadata": {},
   "outputs": [
    {
     "data": {
      "text/plain": [
       "((379, 13), (379,))"
      ]
     },
     "execution_count": 3,
     "metadata": {},
     "output_type": "execute_result"
    }
   ],
   "source": [
    "x_train = data[:, :-1]\n",
    "y_train = data[:, -1]\n",
    "x_train.shape, y_train.shape"
   ]
  },
  {
   "cell_type": "code",
   "execution_count": 4,
   "metadata": {},
   "outputs": [],
   "source": [
    "df = pd.DataFrame(x_train)"
   ]
  },
  {
   "cell_type": "code",
   "execution_count": 5,
   "metadata": {},
   "outputs": [
    {
     "data": {
      "text/plain": [
       "104"
      ]
     },
     "execution_count": 5,
     "metadata": {},
     "output_type": "execute_result"
    }
   ],
   "source": [
    "i = 0\n",
    "l = len(df.columns)\n",
    "\n",
    "while i < l:\n",
    "    j = i\n",
    "    while j < l:\n",
    "        string = str(df.columns[i]) + \"*\" + str(df.columns[j])\n",
    "        df[string] = df[df.columns[i]] * df[df.columns[j]]\n",
    "        j += 1\n",
    "    i += 1\n",
    "len(df.columns)"
   ]
  },
  {
   "cell_type": "code",
   "execution_count": 6,
   "metadata": {},
   "outputs": [
    {
     "data": {
      "text/plain": [
       "104"
      ]
     },
     "execution_count": 6,
     "metadata": {},
     "output_type": "execute_result"
    }
   ],
   "source": [
    "df2 = pd.DataFrame(x_test)\n",
    "i = 0\n",
    "l = len(df2.columns)\n",
    "\n",
    "while i < l:\n",
    "    j = i\n",
    "    while j < l:\n",
    "        string = str(df2.columns[i]) + \"*\" + str(df2.columns[j])\n",
    "        df2[string] = df2[df2.columns[i]] * df2[df2.columns[j]]\n",
    "        j += 1\n",
    "    i += 1\n",
    "len(df2.columns)"
   ]
  },
  {
   "cell_type": "code",
   "execution_count": 7,
   "metadata": {},
   "outputs": [],
   "source": [
    "x_train = np.array(df)\n",
    "x_test = np.array(df2)"
   ]
  },
  {
   "cell_type": "code",
   "execution_count": 8,
   "metadata": {},
   "outputs": [
    {
     "data": {
      "text/plain": [
       "((379, 104), (127, 104))"
      ]
     },
     "execution_count": 8,
     "metadata": {},
     "output_type": "execute_result"
    }
   ],
   "source": [
    "x_train.shape, x_test.shape"
   ]
  },
  {
   "cell_type": "code",
   "execution_count": 9,
   "metadata": {},
   "outputs": [],
   "source": [
    "scaler = StandardScaler()\n",
    "x_train = scaler.fit_transform(x_train)\n",
    "x_test = scaler.transform(x_test)"
   ]
  },
  {
   "cell_type": "code",
   "execution_count": 10,
   "metadata": {},
   "outputs": [],
   "source": [
    "x_train = np.insert(x_train, 0, 1, axis=1)\n",
    "x_test = np.insert(x_test, 0, 1, axis=1)"
   ]
  },
  {
   "cell_type": "code",
   "execution_count": 11,
   "metadata": {},
   "outputs": [],
   "source": [
    "def cost(x, y, coef):\n",
    "    return ((y - x.dot(coef))**2).mean()"
   ]
  },
  {
   "cell_type": "code",
   "execution_count": 12,
   "metadata": {},
   "outputs": [],
   "source": [
    "def score(x_test, y_test, m):\n",
    "        y_pred = predict(x_test, m)\n",
    "        num = np.sum((y_pred - y_test) ** 2, axis=0)\n",
    "        den = np.sum((y_test - y_test.mean()) ** 2, axis=0)\n",
    "        return 1 - num/den"
   ]
  },
  {
   "cell_type": "code",
   "execution_count": 13,
   "metadata": {},
   "outputs": [],
   "source": [
    "def predict(x_test, m):\n",
    "    return x_test.dot(m)"
   ]
  },
  {
   "cell_type": "code",
   "execution_count": 14,
   "metadata": {},
   "outputs": [],
   "source": [
    "def step_gradient(x, y, learning_rate, coef):\n",
    "    k = x.shape[0]\n",
    "    slope = np.zeros(coef.shape)\n",
    "    \n",
    "    for i in range(k):\n",
    "        slope += (2/k) * x[i] * (x[i].dot(coef) - y[i])\n",
    "    coef = coef - learning_rate * slope\n",
    "    \n",
    "    return coef"
   ]
  },
  {
   "cell_type": "code",
   "execution_count": 34,
   "metadata": {},
   "outputs": [],
   "source": [
    "def gradient_descent(x, y, learning_rate=0.001, num_iter=1000):\n",
    "    coef = np.zeros((x.shape[1],))\n",
    "    \n",
    "    print(\"start : \", cost(x, y, coef), \" coef = \", coef)\n",
    "    \n",
    "    for i in range(num_iter):\n",
    "        coef = step_gradient(x, y, learning_rate, coef)\n",
    "        if i % 1000 == 0:\n",
    "            print(i, \" : \", cost(x, y, coef))\n",
    "    return coef"
   ]
  },
  {
   "cell_type": "code",
   "execution_count": 65,
   "metadata": {},
   "outputs": [],
   "source": [
    "def run(x, y):\n",
    "    learning_rate = 0.01\n",
    "    num_iter = 350\n",
    "    return gradient_descent(x, y, learning_rate, num_iter)"
   ]
  },
  {
   "cell_type": "code",
   "execution_count": 66,
   "metadata": {},
   "outputs": [
    {
     "name": "stdout",
     "output_type": "stream",
     "text": [
      "start :  599.1222691292876  coef =  [0. 0. 0. 0. 0. 0. 0. 0. 0. 0. 0. 0. 0. 0. 0. 0. 0. 0. 0. 0. 0. 0. 0. 0.\n",
      " 0. 0. 0. 0. 0. 0. 0. 0. 0. 0. 0. 0. 0. 0. 0. 0. 0. 0. 0. 0. 0. 0. 0. 0.\n",
      " 0. 0. 0. 0. 0. 0. 0. 0. 0. 0. 0. 0. 0. 0. 0. 0. 0. 0. 0. 0. 0. 0. 0. 0.\n",
      " 0. 0. 0. 0. 0. 0. 0. 0. 0. 0. 0. 0. 0. 0. 0. 0. 0. 0. 0. 0. 0. 0. 0. 0.\n",
      " 0. 0. 0. 0. 0. 0. 0. 0. 0.]\n",
      "0  :  561.230092906007\n"
     ]
    }
   ],
   "source": [
    "m = run(x_train, y_train)"
   ]
  },
  {
   "cell_type": "code",
   "execution_count": 67,
   "metadata": {},
   "outputs": [
    {
     "data": {
      "text/plain": [
       "array([ 2.25902935e+01, -1.21367110e-01,  7.99925757e-02, -3.25860193e-01,\n",
       "        6.80426448e-01, -7.12201837e-01,  3.21163534e+00, -5.08918036e-01,\n",
       "       -1.18485345e+00,  3.82311985e-01, -9.10435256e-01, -8.09424098e-01,\n",
       "        5.32505327e-01, -2.97894146e+00,  1.76336008e-01,  5.10257305e-02,\n",
       "        1.06915400e-01,  1.12768109e+00, -2.18156984e-01,  3.53693709e-01,\n",
       "        7.07942218e-02,  1.96129369e-01, -2.71592566e-01,  1.17453182e-01,\n",
       "        2.49153058e-02, -8.56806168e-02,  8.14139794e-02,  1.50504233e-01,\n",
       "       -4.78046475e-02,  2.28176920e-01,  2.10493131e-01,  9.49621015e-02,\n",
       "       -2.58234746e-01,  1.44428013e-01,  2.95317433e-02,  2.38197602e-01,\n",
       "        1.77934113e-01, -1.32097740e-01, -5.02990549e-03,  3.87274378e-01,\n",
       "       -1.33885483e-01,  4.52297584e-01,  1.27315088e-01,  5.23055635e-01,\n",
       "        1.86801947e-01,  8.79213855e-02, -9.46064901e-02, -3.72252120e-01,\n",
       "        4.90084062e-02, -6.82167055e-01,  6.80426448e-01, -1.09097790e+00,\n",
       "       -9.53873453e-01,  2.66933585e-01, -2.57424771e-01,  6.85714188e-02,\n",
       "        1.97658497e-01,  1.01708444e-01,  4.17489049e-02, -4.71559909e-01,\n",
       "       -4.66146054e-01, -5.84890149e-01, -4.74853323e-01,  5.13276423e-01,\n",
       "       -8.23725292e-01, -2.24229045e-01, -3.72753220e-01, -1.89382171e-01,\n",
       "        2.13314537e-01,  4.36577581e-01, -5.08525817e-01,  9.21203870e-02,\n",
       "       -9.49456965e-01, -5.87733679e-01, -1.16988809e+00, -2.95324127e-01,\n",
       "       -1.03434965e+00,  3.15155557e-01, -1.81695075e-01,  6.70169123e-01,\n",
       "        3.01135599e-01, -2.83108262e-02, -3.92652947e-01, -1.04638596e+00,\n",
       "        6.42304321e-01, -2.69559072e-01, -2.17585028e-01,  6.45194016e-02,\n",
       "       -3.61864444e-01,  8.62634998e-01, -2.84193636e-01,  6.01937936e-01,\n",
       "        5.56173362e-01, -8.72750511e-02, -8.70273204e-01,  2.51771767e-01,\n",
       "        7.53132810e-01, -2.12193822e-01, -1.02988147e+00, -2.51377259e-01,\n",
       "        6.94354721e-02, -1.62799498e-01, -6.27415855e-01, -9.20708433e-01,\n",
       "        1.09138806e+00])"
      ]
     },
     "execution_count": 67,
     "metadata": {},
     "output_type": "execute_result"
    }
   ],
   "source": [
    "m"
   ]
  },
  {
   "cell_type": "code",
   "execution_count": 68,
   "metadata": {},
   "outputs": [
    {
     "data": {
      "text/plain": [
       "array([16.36914573, 28.31780128, 19.8959874 , 22.51021979, 20.70389903,\n",
       "        9.73020447, 27.64807029, 24.21896586, 17.61523357, 21.49743149,\n",
       "       23.97514215, 16.94724934, 19.29375314, 19.61398459, 47.01304401,\n",
       "       21.19646735, 22.26159123, 26.09016919, 19.13941289, 30.89913234,\n",
       "       21.51923486, 22.02792028, 36.88290769, 34.13908716, 32.9527335 ,\n",
       "       20.27871066, 19.23113764, 27.8639552 , 21.20677584, 30.0859732 ,\n",
       "       17.07641368, 23.29764405, 22.16072625, 23.70766031,  9.0148004 ,\n",
       "       26.38605872, 23.80056714, 19.00427046, 20.96565286,  8.4298861 ,\n",
       "       18.10689589, 26.50991503, 23.35611446, 19.68567522, 19.49191159,\n",
       "       12.97696005, 47.14699616, 24.35399559, 34.90915413, 11.89985138,\n",
       "       17.49236859, 46.16851503, 12.43962688, 19.93807732, 15.85888312,\n",
       "       21.38718078, 18.47815128, 22.84172597, 14.9982003 , 14.77687313,\n",
       "       11.68576245, 27.97490107, 22.89286883, 24.68496128, 18.01683015,\n",
       "       13.31891179, 34.7394177 , 13.94117848, 22.76583942, 22.37105222,\n",
       "       27.78372251, 25.43013064, 18.01797176, 11.11627649, 38.23056   ,\n",
       "       24.89131878, 27.1968269 , 25.68976156, 12.02798229, 33.3870578 ,\n",
       "       18.30760956, 20.72948009, 20.66665121, 19.16906402, 15.93223318,\n",
       "       31.03981985, 27.53051791, 11.08513722, 21.56986843, 18.69789783,\n",
       "       19.35108054, 19.27649965, 18.30069939, 10.47406076, 18.78013234,\n",
       "       27.62403545, 46.57654236, 19.74488086, 34.26254636, 21.92725268,\n",
       "       21.42355948, 19.80947848, 24.22759707, 30.48100368, 13.89036547,\n",
       "       23.25496913, 18.73394828, 42.6222211 , 21.59577511, 16.08877847,\n",
       "       25.29792314, 13.03537992, 16.2690208 , 22.41059042, 42.48540319,\n",
       "       16.38084727, 20.19419236, 24.86231879, 19.22747519, 18.32078871,\n",
       "       14.69425431, 34.24686459, 18.78647454, 20.83457117, 20.12133023,\n",
       "       19.20522809, 14.13513285])"
      ]
     },
     "execution_count": 68,
     "metadata": {},
     "output_type": "execute_result"
    }
   ],
   "source": [
    "y_pred = predict(x_test, m)\n",
    "y_pred"
   ]
  },
  {
   "cell_type": "code",
   "execution_count": 69,
   "metadata": {},
   "outputs": [
    {
     "data": {
      "text/plain": [
       "0.9028588976082155"
      ]
     },
     "execution_count": 69,
     "metadata": {},
     "output_type": "execute_result"
    }
   ],
   "source": [
    "score(x_train, y_train, m)"
   ]
  },
  {
   "cell_type": "code",
   "execution_count": 70,
   "metadata": {},
   "outputs": [],
   "source": [
    "np.savetxt('test_boston_y_test.csv', y_pred, delimiter=',')"
   ]
  },
  {
   "cell_type": "code",
   "execution_count": null,
   "metadata": {},
   "outputs": [],
   "source": []
  }
 ],
 "metadata": {
  "kernelspec": {
   "display_name": "Python 3",
   "language": "python",
   "name": "python3"
  },
  "language_info": {
   "codemirror_mode": {
    "name": "ipython",
    "version": 3
   },
   "file_extension": ".py",
   "mimetype": "text/x-python",
   "name": "python",
   "nbconvert_exporter": "python",
   "pygments_lexer": "ipython3",
   "version": "3.7.1"
  }
 },
 "nbformat": 4,
 "nbformat_minor": 2
}
