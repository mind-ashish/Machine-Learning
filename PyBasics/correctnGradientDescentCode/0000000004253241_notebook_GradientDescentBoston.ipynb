{
 "cells": [
  {
   "cell_type": "code",
   "execution_count": 450,
   "metadata": {},
   "outputs": [],
   "source": [
    "import numpy as np\n",
    "from sklearn import model_selection"
   ]
  },
  {
   "cell_type": "code",
   "execution_count": 399,
   "metadata": {},
   "outputs": [],
   "source": [
    "def step_gradient(X_train,Y_train,learning_rate,m) :\n",
    "    x = X_train\n",
    "    y = Y_train\n",
    "    slope_m = np.zeros(X_train.shape[1])\n",
    "    N=len(X_train)\n",
    "    for i in range(N) :\n",
    "        val = y[i]\n",
    "        for j in range(X_train.shape[1]) :\n",
    "            val -= m[j]*x[i][j]\n",
    "        for j in range(X_train.shape[1]) :\n",
    "            slope_m[j] += (-2/N)*val*x[i][j]\n",
    "    new_m = m - learning_rate*slope_m\n",
    "    return new_m"
   ]
  },
  {
   "cell_type": "code",
   "execution_count": 400,
   "metadata": {},
   "outputs": [],
   "source": [
    "def cost(X_train,Y_train,m) :\n",
    "    x = X_train\n",
    "    y = Y_train\n",
    "    N = len(X_train)\n",
    "    ans = 0\n",
    "    for i in range(N) : \n",
    "        val = y[i]\n",
    "        for j in range(X_train.shape[1]) : \n",
    "            val -= m[j]*x[i][j]\n",
    "        ans += (1/N)* (val**2)\n",
    "    return ans"
   ]
  },
  {
   "cell_type": "code",
   "execution_count": 401,
   "metadata": {},
   "outputs": [],
   "source": [
    "def gd(X_train,Y_train,learning_rate,number_iterations) :\n",
    "    m = np.zeros(X_train.shape[1])\n",
    "    for i in range(number_iterations) :\n",
    "        m =step_gradient(X_train,Y_train,learning_rate,m)\n",
    "        print(i, \" cost \",cost(X_train,Y_train,m))\n",
    "    return m"
   ]
  },
  {
   "cell_type": "code",
   "execution_count": 455,
   "metadata": {},
   "outputs": [],
   "source": [
    "def fit(X_train,Y_train) :\n",
    "#     from sklearn import preprocessing\n",
    "#     scaler = preprocessing.StandardScaler()\n",
    "#     scaler.fit(X_train)\n",
    "#     X2_train = scaler.transform(X_train)\n",
    "#     X_train =X2_train\n",
    "    k =X_train.shape[1]\n",
    "    for i in range(k) :\n",
    "        for j in range(i,k) :\n",
    "            temp = X_train[:,i] * X_train[:,j]\n",
    "            X2_train = np.append(X_train,temp.reshape(-1,1),axis = 1)\n",
    "            X_train = X2_train\n",
    "    from sklearn import preprocessing\n",
    "    scaler = preprocessing.StandardScaler()\n",
    "    scaler.fit(X_train)\n",
    "    X_train = scaler.transform(X_train)\n",
    "    z = np.ones(X_train.shape[0])\n",
    "    X2_train = np.append(X_train,z.reshape(-1,1),axis=1)\n",
    "    print(X2_train[0:1,:])\n",
    "    X_train = X2_train\n",
    "    learning_rate = 0.04\n",
    "    number_iterations = 85\n",
    "    m = gd(X_train,Y_train,learning_rate,number_iterations)\n",
    "    return m,scaler\n",
    "    return m"
   ]
  },
  {
   "cell_type": "code",
   "execution_count": 392,
   "metadata": {},
   "outputs": [],
   "source": [
    "def predict(X_test,m) :\n",
    "    y_test = np.zeros(X_test.shape[0])\n",
    "    for i in range(X_test.shape[0]) : \n",
    "        for j in range(len(m)) :\n",
    "            y_test[i] += m[j]*X_test[i][j]\n",
    "    return y_test"
   ]
  },
  {
   "cell_type": "code",
   "execution_count": 456,
   "metadata": {},
   "outputs": [
    {
     "name": "stdout",
     "output_type": "stream",
     "text": [
      "[[-4.00980675e-01 -4.90426876e-01 -1.28149216e+00 -2.87849167e-01\n",
      "  -6.05916615e-01  1.20795021e+00  8.14838354e-01 -5.05604485e-01\n",
      "  -7.84521699e-01 -1.29796291e+00 -3.22642410e-01  4.20279958e-01\n",
      "  -1.10095452e+00 -1.36206054e-01  6.83771496e-01  1.06869713e-01\n",
      "   3.70668834e-01 -1.81500198e-01 -2.66043938e-01 -6.92389964e-01\n",
      "   5.68978394e-01 -2.08185265e-01 -4.71296886e-02 -2.06032643e-01\n",
      "   1.04136590e-01 -6.53180330e-03 -3.09309549e-01  1.09936990e+00\n",
      "   2.10161618e-01  7.53777134e-01 -9.02645190e-01  1.21746133e-01\n",
      "  -2.66385211e-01  9.39603187e-01  1.30118649e+00  4.32555680e-01\n",
      "  -6.80251401e-01  1.03066898e+00  6.25075646e-01  2.80949853e-01\n",
      "  -5.15998773e-02 -1.18322775e+00 -2.21013432e+00  1.55963184e+00\n",
      "   4.01685615e-01  1.01019085e+00 -2.22945814e-02 -1.60190508e-01\n",
      "   8.29293335e-01 -2.87849167e-01  1.74391672e-02 -3.22826959e-01\n",
      "  -3.71433643e-01  3.25113438e-01  1.85841325e-01  3.43613880e-01\n",
      "   1.83517862e-01 -2.23227575e-01  3.50009861e-01 -4.77375142e-01\n",
      "  -4.16005941e-01 -1.49025549e+00  1.19302269e+00 -1.91189494e-01\n",
      "   8.03585034e-02 -1.76060018e-03  1.20817355e-01  2.66859558e-02\n",
      "   2.77723154e-01  1.35989632e+00 -8.72878209e-01 -7.42806100e-01\n",
      "  -1.26977326e+00 -1.99071841e-02  3.84450440e-01 -6.31711347e-01\n",
      "  -2.61870691e-01  3.23061401e-01 -1.32262057e+00 -2.01796953e+00\n",
      "  -5.15112628e-01  7.54810740e-01 -1.62311847e+00 -4.72633815e-01\n",
      "   1.11820098e+00  1.61921300e+00  3.61527991e-01 -6.13706936e-01\n",
      "   1.12898497e+00 -4.28023307e-01  2.71075754e-02 -3.34457262e-01\n",
      "   1.02794374e-01  3.24310704e-01  6.29256027e-01 -1.33811258e-01\n",
      "  -5.09298366e-02  8.27433934e-01 -6.88167623e-01  7.36427359e-02\n",
      "  -1.88787049e-02 -2.80118883e-01 -3.41062918e-02  1.17436276e-01\n",
      "   1.00000000e+00]]\n",
      "0  cost  479.6766033529674\n",
      "1  cost  400.3299266748092\n",
      "2  cost  337.6918374337374\n",
      "3  cost  286.38577701077537\n",
      "4  cost  243.69747402324947\n",
      "5  cost  207.9099655377157\n",
      "6  cost  177.78620227049836\n",
      "7  cost  152.36948173077624\n",
      "8  cost  130.8914237303835\n",
      "9  cost  112.72214627301035\n",
      "10  cost  97.33934177377158\n",
      "11  cost  84.30696859223896\n",
      "12  cost  73.25947195616136\n",
      "13  cost  63.889546688699774\n",
      "14  cost  55.93836871986182\n",
      "15  cost  49.18765442569833\n",
      "16  cost  43.45312959646479\n",
      "17  cost  38.57911546864801\n",
      "18  cost  34.43401632660952\n",
      "19  cost  30.906543983755945\n",
      "20  cost  27.902549925769183\n",
      "21  cost  25.342361790643963\n",
      "22  cost  23.158540410616705\n",
      "23  cost  21.293988790154984\n",
      "24  cost  19.70035636906358\n",
      "25  cost  18.336691532511313\n",
      "26  cost  17.168303138991938\n",
      "27  cost  16.16579824019773\n",
      "28  cost  15.304268454386227\n",
      "29  cost  14.56260184549289\n",
      "30  cost  13.922900821659747\n",
      "31  cost  13.369989630136802\n",
      "32  cost  12.890997594852154\n",
      "33  cost  12.475006402176602\n",
      "34  cost  12.112751557719688\n",
      "35  cost  11.796369668313082\n",
      "36  cost  11.519184494841518\n",
      "37  cost  11.275525811601204\n",
      "38  cost  11.060576028347322\n",
      "39  cost  10.870240308847066\n",
      "40  cost  10.70103657697711\n",
      "41  cost  10.550002357000482\n",
      "42  cost  10.41461586444835\n",
      "43  cost  10.292729161345786\n",
      "44  cost  10.182511525585692\n",
      "45  cost  10.082401468553476\n",
      "46  cost  9.991066075633992\n",
      "47  cost  9.90736654775015\n",
      "48  cost  9.830328994297092\n",
      "49  cost  9.759119673573554\n",
      "50  cost  9.693024000147293\n",
      "51  cost  9.631428742978917\n",
      "52  cost  9.573806926478062\n",
      "53  cost  9.519705021449605\n",
      "54  cost  9.46873207618761\n",
      "55  cost  9.420550491559515\n",
      "56  cost  9.374868189283601\n",
      "57  cost  9.331431961003858\n",
      "58  cost  9.290021818276498\n",
      "59  cost  9.250446191106864\n",
      "60  cost  9.212537845979528\n",
      "61  cost  9.176150414055256\n",
      "62  cost  9.141155436916975\n",
      "63  cost  9.107439851393222\n",
      "64  cost  9.074903846968738\n",
      "65  cost  9.043459039437002\n",
      "66  cost  9.013026913041783\n",
      "67  cost  8.983537490632251\n",
      "68  cost  8.954928197519994\n",
      "69  cost  8.927142889946829\n",
      "70  cost  8.900131023496092\n",
      "71  cost  8.873846940525874\n",
      "72  cost  8.848249258877908\n",
      "73  cost  8.823300346805354\n",
      "74  cost  8.798965871342\n",
      "75  cost  8.775214409267054\n",
      "76  cost  8.752017111456968\n",
      "77  cost  8.729347412803493\n",
      "78  cost  8.707180781053633\n",
      "79  cost  8.685494498925127\n",
      "80  cost  8.664267474696446\n",
      "81  cost  8.643480077188483\n",
      "82  cost  8.623113991663462\n",
      "83  cost  8.603152093683205\n",
      "84  cost  8.58357833840726\n",
      "[-1.22155033e-01  8.00840137e-02 -3.28703378e-01  6.76321113e-01\n",
      " -7.08486683e-01  3.20986996e+00 -5.02039707e-01 -1.16323747e+00\n",
      "  3.72953162e-01 -9.03235862e-01 -8.12671901e-01  5.27202233e-01\n",
      " -2.96547910e+00  1.72907818e-01  5.13977015e-02  1.05834672e-01\n",
      "  1.11212808e+00 -2.17467456e-01  3.49760693e-01  6.95421568e-02\n",
      "  1.96030776e-01 -2.68875275e-01  1.15054344e-01  2.91167902e-02\n",
      " -8.46127880e-02  7.24816825e-02  1.50618973e-01 -4.71243617e-02\n",
      "  2.29428956e-01  2.09415932e-01  9.59190200e-02 -2.58206372e-01\n",
      "  1.44712125e-01  2.81529321e-02  2.26923147e-01  1.78047332e-01\n",
      " -1.34567094e-01  3.92927817e-03  3.83872181e-01 -1.30097022e-01\n",
      "  4.37737933e-01  1.14301196e-01  5.25190117e-01  1.80811110e-01\n",
      "  9.26615200e-02 -9.43265613e-02 -3.70503204e-01  4.89226784e-02\n",
      " -6.79947172e-01  6.76321113e-01 -1.08611560e+00 -9.47097557e-01\n",
      "  2.68691153e-01 -2.59545146e-01  7.27697549e-02  1.98530611e-01\n",
      "  1.05198289e-01  4.38072166e-02 -4.71012995e-01 -4.67378139e-01\n",
      " -5.93419001e-01 -4.65893257e-01  5.13092716e-01 -8.16028903e-01\n",
      " -2.27061635e-01 -3.65589476e-01 -1.90853789e-01  2.07861965e-01\n",
      "  4.43196505e-01 -5.01068422e-01  9.08968791e-02 -9.43682724e-01\n",
      " -5.84887034e-01 -1.16192234e+00 -2.92981482e-01 -1.03214920e+00\n",
      "  3.14239233e-01 -1.86037807e-01  6.63941615e-01  3.04651038e-01\n",
      " -2.95571357e-02 -3.86018197e-01 -1.04363878e+00  6.28918291e-01\n",
      " -2.62211687e-01 -2.10345540e-01  6.92871516e-02 -3.56780759e-01\n",
      "  8.60682409e-01 -2.76289127e-01  5.96472790e-01  5.58288855e-01\n",
      " -8.19416207e-02 -8.63166260e-01  2.53071581e-01  7.41245457e-01\n",
      " -2.05509052e-01 -1.02451092e+00 -2.49487728e-01  7.04474454e-02\n",
      " -1.61072802e-01 -6.15984698e-01 -9.16992399e-01  1.08216781e+00\n",
      "  2.25906076e+01]\n"
     ]
    }
   ],
   "source": [
    "traindata = np.loadtxt(\"train_boston.csv\",delimiter = \",\")\n",
    "X_train = traindata[:,0:traindata.shape[1]-1]\n",
    "Y_train = traindata[: , -1]\n",
    "#m,scaler = fit(X_train,Y_train)\n",
    "m,scaler= fit(X_train,Y_train)\n",
    "print(m)"
   ]
  },
  {
   "cell_type": "code",
   "execution_count": 457,
   "metadata": {},
   "outputs": [],
   "source": [
    "X_test = np.loadtxt(\"test_boston.csv\",delimiter = \",\")\n",
    "# X2_test = scaler.transform(X_test)\n",
    "# X_test =X2_test\n",
    "k = X_test.shape[1]\n",
    "for i in range(k) :\n",
    "    for j in range(i,k) :\n",
    "        temp = X_test[:,i] * X_test[:,j]\n",
    "        X2_test = np.append(X_test,temp.reshape(-1,1),axis = 1)\n",
    "        X_test = X2_test\n",
    "X_test = scaler.transform(X_test)\n",
    "z = np.ones(X_test.shape[0])\n",
    "X2_test = np.append(X_test,z.reshape(-1,1),axis=1)\n",
    "X_test =X2_test\n",
    "Y_pred = predict(X_test,m)\n",
    "np.savetxt(\"predict_boston.csv\",Y_pred,'%5.20f',delimiter=\",\")"
   ]
  },
  {
   "cell_type": "code",
   "execution_count": 410,
   "metadata": {},
   "outputs": [
    {
     "data": {
      "text/plain": [
       "\"Boston House Prices dataset\\n===========================\\n\\nNotes\\n------\\nData Set Characteristics:  \\n\\n    :Number of Instances: 506 \\n\\n    :Number of Attributes: 13 numeric/categorical predictive\\n    \\n    :Median Value (attribute 14) is usually the target\\n\\n    :Attribute Information (in order):\\n        - CRIM     per capita crime rate by town\\n        - ZN       proportion of residential land zoned for lots over 25,000 sq.ft.\\n        - INDUS    proportion of non-retail business acres per town\\n        - CHAS     Charles River dummy variable (= 1 if tract bounds river; 0 otherwise)\\n        - NOX      nitric oxides concentration (parts per 10 million)\\n        - RM       average number of rooms per dwelling\\n        - AGE      proportion of owner-occupied units built prior to 1940\\n        - DIS      weighted distances to five Boston employment centres\\n        - RAD      index of accessibility to radial highways\\n        - TAX      full-value property-tax rate per $10,000\\n        - PTRATIO  pupil-teacher ratio by town\\n        - B        1000(Bk - 0.63)^2 where Bk is the proportion of blacks by town\\n        - LSTAT    % lower status of the population\\n        - MEDV     Median value of owner-occupied homes in $1000's\\n\\n    :Missing Attribute Values: None\\n\\n    :Creator: Harrison, D. and Rubinfeld, D.L.\\n\\nThis is a copy of UCI ML housing dataset.\\nhttp://archive.ics.uci.edu/ml/datasets/Housing\\n\\n\\nThis dataset was taken from the StatLib library which is maintained at Carnegie Mellon University.\\n\\nThe Boston house-price data of Harrison, D. and Rubinfeld, D.L. 'Hedonic\\nprices and the demand for clean air', J. Environ. Economics & Management,\\nvol.5, 81-102, 1978.   Used in Belsley, Kuh & Welsch, 'Regression diagnostics\\n...', Wiley, 1980.   N.B. Various transformations are used in the table on\\npages 244-261 of the latter.\\n\\nThe Boston house-price data has been used in many machine learning papers that address regression\\nproblems.   \\n     \\n**References**\\n\\n   - Belsley, Kuh & Welsch, 'Regression diagnostics: Identifying Influential Data and Sources of Collinearity', Wiley, 1980. 244-261.\\n   - Quinlan,R. (1993). Combining Instance-Based and Model-Based Learning. In Proceedings on the Tenth International Conference of Machine Learning, 236-243, University of Massachusetts, Amherst. Morgan Kaufmann.\\n   - many more! (see http://archive.ics.uci.edu/ml/datasets/Housing)\\n\""
      ]
     },
     "execution_count": 410,
     "metadata": {},
     "output_type": "execute_result"
    }
   ],
   "source": [
    "from sklearn import datasets\n",
    "boston = datasets.load_boston()\n",
    "boston.DESCR"
   ]
  },
  {
   "cell_type": "code",
   "execution_count": 300,
   "metadata": {},
   "outputs": [
    {
     "data": {
      "text/plain": [
       "'1010'"
      ]
     },
     "execution_count": 300,
     "metadata": {},
     "output_type": "execute_result"
    }
   ],
   "source": []
  }
 ],
 "metadata": {
  "kernelspec": {
   "display_name": "Python 3",
   "language": "python",
   "name": "python3"
  },
  "language_info": {
   "codemirror_mode": {
    "name": "ipython",
    "version": 3
   },
   "file_extension": ".py",
   "mimetype": "text/x-python",
   "name": "python",
   "nbconvert_exporter": "python",
   "pygments_lexer": "ipython3",
   "version": "3.7.1"
  }
 },
 "nbformat": 4,
 "nbformat_minor": 2
}
