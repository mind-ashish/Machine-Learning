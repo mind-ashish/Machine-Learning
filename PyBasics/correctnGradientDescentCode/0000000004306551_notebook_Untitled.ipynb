{
 "cells": [
  {
   "cell_type": "code",
   "execution_count": 390,
   "metadata": {},
   "outputs": [],
   "source": [
    "import numpy as np\n",
    "import pandas as pd\n",
    "from sklearn.preprocessing import StandardScaler\n",
    "from sklearn.linear_model import LinearRegression\n",
    "import sklearn.datasets as datasets\n",
    "import math"
   ]
  },
  {
   "cell_type": "code",
   "execution_count": 391,
   "metadata": {},
   "outputs": [],
   "source": [
    "train_data = pd.read_csv('/Users/gauravverma/Documents/Machine Learning CNinjas/Assignments/mulitvariable grad desc/A2/training_boston_x_y_train.csv')\n",
    "test_data = pd.read_csv('/Users/gauravverma/Documents/Machine Learning CNinjas/Assignments/mulitvariable grad desc/A2/test_boston_x_test.csv', header = None)"
   ]
  },
  {
   "cell_type": "code",
   "execution_count": 392,
   "metadata": {},
   "outputs": [
    {
     "name": "stdout",
     "output_type": "stream",
     "text": [
      "     # CRIM        ZN     INDUS      CHAS       NOX        RM       AGE  \\\n",
      "0 -0.407850 -0.487722 -1.266023 -0.272599 -0.576134  1.239974  0.840122   \n",
      "1 -0.407374 -0.487722  0.247057 -0.272599 -1.016689  0.001946 -0.838337   \n",
      "2  0.125179 -0.487722  1.015999 -0.272599  1.367490 -0.439699  0.687212   \n",
      "3  0.028304 -0.487722  1.015999 -0.272599  1.859875 -0.047918  0.801005   \n",
      "4 -0.412408 -0.487722 -0.969827 -0.272599 -0.913029 -0.384137 -0.834781   \n",
      "\n",
      "        DIS       RAD       TAX   PTRATIO         B     LSTAT     Y  \n",
      "0 -0.520264 -0.752922 -1.278354 -0.303094  0.410571 -1.097990  37.9  \n",
      "1  0.336351 -0.523001 -0.060801  0.113032  0.291169 -0.520474  21.4  \n",
      "2 -0.577309  1.661245  1.530926  0.806576 -3.795795  0.891076  12.7  \n",
      "3 -0.712836  1.661245  1.530926  0.806576 -0.066050  0.215438  19.9  \n",
      "4  0.300508 -0.752922 -0.957633  0.020560  0.431074  0.029007  22.5  \n",
      "         0         1         2         3         4         5         6   \\\n",
      "0  2.918166 -0.487722  1.015999 -0.272599  0.365444 -1.609343  1.117494   \n",
      "1 -0.403392 -0.487722  0.406098 -0.272599 -1.016689  0.560412 -1.332629   \n",
      "2 -0.413178 -0.487722  0.115738 -0.272599  0.158124 -0.234548  0.288933   \n",
      "3 -0.412649  0.413589 -0.802031 -0.272599 -0.999412 -0.408356 -1.677566   \n",
      "4 -0.405882 -0.487722 -0.375976 -0.272599 -0.299707 -0.127698 -0.504068   \n",
      "\n",
      "         7         8         9         10        11        12  \n",
      "0 -1.048494  1.661245  1.530926  0.806576 -1.597551  1.041062  \n",
      "1  1.029344 -0.637962 -0.708183 -1.135347  0.441052 -0.894738  \n",
      "2 -0.716639 -0.982843 -0.803212  1.176466  0.441052 -0.500850  \n",
      "3  1.435452 -0.637962 -0.981390 -0.765457  0.441052 -0.591963  \n",
      "4 -0.483566 -0.523001 -0.143951  1.130230  0.403663  0.048631  \n"
     ]
    },
    {
     "data": {
      "text/plain": [
       "(379, 14)"
      ]
     },
     "execution_count": 392,
     "metadata": {},
     "output_type": "execute_result"
    }
   ],
   "source": [
    "print(train_data.head())\n",
    "print(test_data.head())\n",
    "train_data.shape"
   ]
  },
  {
   "cell_type": "code",
   "execution_count": 393,
   "metadata": {},
   "outputs": [],
   "source": [
    "def add_column(data, val = 1):\n",
    "    x = list(data)\n",
    "    for i in range(data.shape[0]):\n",
    "        x[i] = list(x[i])\n",
    "        x[i].append(1)\n",
    "        x[i] = np.array(x[i])\n",
    "        \n",
    "    return np.array(x)"
   ]
  },
  {
   "cell_type": "code",
   "execution_count": 394,
   "metadata": {},
   "outputs": [
    {
     "data": {
      "text/plain": [
       "((379, 13), (379,))"
      ]
     },
     "execution_count": 394,
     "metadata": {},
     "output_type": "execute_result"
    }
   ],
   "source": [
    "x = np.array(train_data)[:,:-1]\n",
    "y = np.array(train_data)[:,-1]\n",
    "x.shape, y.shape"
   ]
  },
  {
   "cell_type": "code",
   "execution_count": 395,
   "metadata": {},
   "outputs": [
    {
     "data": {
      "text/plain": [
       "array([[ 1,  1],\n",
       "       [ 2,  4],\n",
       "       [ 3,  9],\n",
       "       [ 4, 16],\n",
       "       [ 5, 25]])"
      ]
     },
     "execution_count": 395,
     "metadata": {},
     "output_type": "execute_result"
    }
   ],
   "source": [
    "a = np.array([1,2,3,4,5])\n",
    "a = np.c_[a,a**2]\n",
    "a"
   ]
  },
  {
   "cell_type": "code",
   "execution_count": 396,
   "metadata": {},
   "outputs": [],
   "source": [
    "def mod1(x, power, num_columns):\n",
    "    for i in range(num_columns):\n",
    "        x = np.c_[x,x[:,i]**2]\n",
    "    return x"
   ]
  },
  {
   "cell_type": "code",
   "execution_count": 397,
   "metadata": {},
   "outputs": [],
   "source": [
    "def mod2(x, num_columns):\n",
    "    for i in range(num_columns):\n",
    "        for j in range(i, num_columns):\n",
    "            x = np.c_[x, x[:,i] * (x[:,j])]\n",
    "    return x"
   ]
  },
  {
   "cell_type": "markdown",
   "metadata": {},
   "source": [
    "### more advanced version created\n",
    "num_columns = x.shape[1]\n",
    "for power in range(20):\n",
    "x = func(x, power, num_columns)\n",
    "test_data = func(np.array(test_data), power, num_columns)\n",
    "x.shape, test_data.shape"
   ]
  },
  {
   "cell_type": "code",
   "execution_count": 398,
   "metadata": {},
   "outputs": [
    {
     "data": {
      "text/plain": [
       "((379, 195), (127, 195))"
      ]
     },
     "execution_count": 398,
     "metadata": {},
     "output_type": "execute_result"
    }
   ],
   "source": [
    "num_columns = x.shape[1]\n",
    "x = mod2(x,num_columns)\n",
    "test_data = mod2(np.array(test_data), num_columns)\n",
    "for power in range(3, 10):\n",
    "    x = mod1(x, power, num_columns)\n",
    "    test_data = mod1(test_data, power, num_columns)\n",
    "x.shape, test_data.shape"
   ]
  },
  {
   "cell_type": "code",
   "execution_count": 399,
   "metadata": {},
   "outputs": [
    {
     "data": {
      "text/plain": [
       "(379, 196)"
      ]
     },
     "execution_count": 399,
     "metadata": {},
     "output_type": "execute_result"
    }
   ],
   "source": [
    "## with feature scaling\n",
    "scaler = StandardScaler()\n",
    "x_new = add_column(x,1)\n",
    "x_scaled = scaler.fit_transform(x)\n",
    "x_scaled = add_column(x_scaled,1)\n",
    "x_scaled.shape"
   ]
  },
  {
   "cell_type": "markdown",
   "metadata": {},
   "source": [
    "# without feature scaling\n",
    "x_new = add_column(x,1)\n",
    "x_new.shape, y.shape"
   ]
  },
  {
   "cell_type": "code",
   "execution_count": 400,
   "metadata": {},
   "outputs": [],
   "source": [
    "def cost(x,y,m):\n",
    "    return ((y - np.dot(x,m))**2).mean()"
   ]
  },
  {
   "cell_type": "code",
   "execution_count": 401,
   "metadata": {},
   "outputs": [],
   "source": [
    "def step_gradient_descent(x, y, m, learning_rate):\n",
    "    k = x.shape[0]\n",
    "    n = x.shape[1]\n",
    "    batch_size = 50\n",
    "#     m_slope = np.zeros(k)\n",
    "    num_batches = math.ceil(k/batch_size)\n",
    "    for w in range(num_batches):\n",
    "        m_slope = np.zeros(m.shape)\n",
    "        for j in range(n):\n",
    "            start_row = batch_size * w\n",
    "            end_row = min(k, batch_size * (w + 1))\n",
    "            for i in range(start_row, end_row):\n",
    "                y_pred_curr = x[i].dot(m)\n",
    "                m_slope[j] += (2/k) * x[i][j] * (y_pred_curr - y[i])\n",
    "        m = m - learning_rate * m_slope\n",
    "    return m"
   ]
  },
  {
   "cell_type": "code",
   "execution_count": 405,
   "metadata": {},
   "outputs": [],
   "source": [
    "def gradient_descent(x, y, learning_rate = 0.01 , num_iter = 1000):\n",
    "    m = np.zeros(x.shape[1])\n",
    "#     print(x.shape, m.shape)\n",
    "    print('start : cost', cost(x, y, m))\n",
    "    for i in range(num_iter):\n",
    "        m = step_gradient_descent(x, y, m, learning_rate)\n",
    "        if i % 100 == 0:\n",
    "            print(i, ':', 'cost', cost(x, y, m), end = '\\n\\n')\n",
    "    print('end :', 'cost', cost(x, y, m), 'm :', m)\n",
    "    return m"
   ]
  },
  {
   "cell_type": "code",
   "execution_count": 408,
   "metadata": {},
   "outputs": [],
   "source": [
    "def run(x,y):\n",
    "    learning_rate = 0.003\n",
    "    num_iter = 1000\n",
    "    m = gradient_descent(x, y, learning_rate, num_iter)\n",
    "    return m"
   ]
  },
  {
   "cell_type": "code",
   "execution_count": 409,
   "metadata": {},
   "outputs": [
    {
     "name": "stdout",
     "output_type": "stream",
     "text": [
      "start : cost 599.1222691292876\n",
      "0 : cost 582.8282388681068\n",
      "\n",
      "100 : cost 170.9158274063065\n",
      "\n",
      "200 : cost 59.68264295915541\n",
      "\n",
      "300 : cost 25.509184265273436\n",
      "\n",
      "400 : cost 14.71421719009837\n",
      "\n",
      "500 : cost 11.114548332450623\n",
      "\n",
      "600 : cost 9.7806208242195\n",
      "\n",
      "700 : cost 9.190767665083188\n",
      "\n",
      "800 : cost 8.864565504853351\n",
      "\n",
      "900 : cost 8.644161475130911\n",
      "\n",
      "end : cost 8.475569577738943 m : [-1.15690852e-01  4.06761240e-02 -2.60182886e-01  1.69514290e-01\n",
      " -5.10021578e-01  3.24269140e+00 -4.82081138e-01 -1.11600821e+00\n",
      "  4.36954508e-01 -6.76678416e-01 -7.64521748e-01  3.36676061e-01\n",
      " -3.03171122e+00  6.77629693e-02  7.15200417e-02  8.28035902e-02\n",
      "  1.17382662e+00 -2.84909837e-01  2.48685640e-01  5.37539525e-02\n",
      "  2.75795356e-01 -2.81435879e-01  5.56078915e-02  1.59265813e-02\n",
      " -7.66667483e-02 -8.98982148e-02  3.51526348e-02 -3.76637582e-03\n",
      "  2.02987059e-01  1.73498911e-01  1.34643504e-01 -2.27250265e-01\n",
      " -1.03695908e-01 -4.44139254e-02  1.78776213e-01  8.62231557e-02\n",
      " -3.17318933e-02  1.62681070e-01  5.59854146e-02 -1.14147707e-01\n",
      "  5.38880669e-01  7.70504400e-02  5.10656300e-01  3.95242636e-01\n",
      "  2.58637294e-01 -1.59743509e-01 -3.42321837e-01 -8.74084347e-02\n",
      " -8.14634284e-01  1.69514290e-01 -1.00541826e+00 -9.09243330e-01\n",
      "  2.20564753e-01 -8.74663360e-02  2.39063512e-02  2.09395591e-01\n",
      "  1.33932343e-01 -2.30529608e-02 -4.08130256e-01 -1.00557542e-01\n",
      " -6.75262623e-01 -1.91498744e-01  5.00878400e-01 -7.44517096e-01\n",
      " -2.35551148e-01 -4.36092316e-01 -2.43477933e-01  2.13399297e-01\n",
      "  3.87560537e-02 -4.66006737e-01  4.94844302e-02 -9.26027644e-01\n",
      " -5.26413733e-01 -1.14161421e+00 -2.05719825e-01 -7.72777765e-01\n",
      "  2.98100686e-02 -7.71404528e-02  6.59769697e-01  3.02697523e-01\n",
      "  1.01491083e-01 -4.23859110e-01 -1.08722410e+00  1.58140059e-01\n",
      " -1.62183583e-01 -3.37491904e-02  1.00628975e-01 -2.78195599e-01\n",
      "  9.34644517e-01 -1.19146447e-01  6.37999847e-01  6.52175884e-01\n",
      " -2.34270452e-01 -7.71860161e-01  6.23129151e-02  7.06979834e-01\n",
      " -3.16699340e-01 -1.00054258e+00 -4.56110592e-02 -9.91070098e-03\n",
      " -1.47038066e-01 -1.78808646e-01 -7.53321809e-01  2.09444377e-01\n",
      "  6.77629693e-02  3.51526348e-02  5.59854146e-02  1.69514290e-01\n",
      " -1.00557542e-01  3.87560537e-02  2.98100686e-02  1.58140059e-01\n",
      " -1.19146447e-01  6.23129151e-02 -4.56110592e-02 -1.78808646e-01\n",
      "  2.09444377e-01  6.77629693e-02  3.51526348e-02  5.59854146e-02\n",
      "  1.69514290e-01 -1.00557542e-01  3.87560537e-02  2.98100686e-02\n",
      "  1.58140059e-01 -1.19146447e-01  6.23129151e-02 -4.56110592e-02\n",
      " -1.78808646e-01  2.09444377e-01  6.77629693e-02  3.51526348e-02\n",
      "  5.59854146e-02  1.69514290e-01 -1.00557542e-01  3.87560537e-02\n",
      "  2.98100686e-02  1.58140059e-01 -1.19146447e-01  6.23129151e-02\n",
      " -4.56110592e-02 -1.78808646e-01  2.09444377e-01  6.77629693e-02\n",
      "  3.51526348e-02  5.59854146e-02  1.69514290e-01 -1.00557542e-01\n",
      "  3.87560537e-02  2.98100686e-02  1.58140059e-01 -1.19146447e-01\n",
      "  6.23129151e-02 -4.56110592e-02 -1.78808646e-01  2.09444377e-01\n",
      "  6.77629693e-02  3.51526348e-02  5.59854146e-02  1.69514290e-01\n",
      " -1.00557542e-01  3.87560537e-02  2.98100686e-02  1.58140059e-01\n",
      " -1.19146447e-01  6.23129151e-02 -4.56110592e-02 -1.78808646e-01\n",
      "  2.09444377e-01  6.77629693e-02  3.51526348e-02  5.59854146e-02\n",
      "  1.69514290e-01 -1.00557542e-01  3.87560537e-02  2.98100686e-02\n",
      "  1.58140059e-01 -1.19146447e-01  6.23129151e-02 -4.56110592e-02\n",
      " -1.78808646e-01  2.09444377e-01  6.77629693e-02  3.51526348e-02\n",
      "  5.59854146e-02  1.69514290e-01 -1.00557542e-01  3.87560537e-02\n",
      "  2.98100686e-02  1.58140059e-01 -1.19146447e-01  6.23129151e-02\n",
      " -4.56110592e-02 -1.78808646e-01  2.09444377e-01  2.25539852e+01]\n"
     ]
    }
   ],
   "source": [
    "m = run(x_scaled, y)"
   ]
  },
  {
   "cell_type": "code",
   "execution_count": 410,
   "metadata": {},
   "outputs": [],
   "source": [
    "def score(y, y_pred):\n",
    "    u = ((y - y_pred)**2).sum()\n",
    "    d = ((y - y.mean())**2).sum()\n",
    "    return 1 - u/d"
   ]
  },
  {
   "cell_type": "code",
   "execution_count": 411,
   "metadata": {},
   "outputs": [],
   "source": [
    "y_pred = x_scaled.dot(m)"
   ]
  },
  {
   "cell_type": "code",
   "execution_count": 412,
   "metadata": {},
   "outputs": [
    {
     "data": {
      "text/plain": [
       "0.9036131470455218"
      ]
     },
     "execution_count": 412,
     "metadata": {},
     "output_type": "execute_result"
    }
   ],
   "source": [
    "score(y, y_pred)"
   ]
  },
  {
   "cell_type": "code",
   "execution_count": null,
   "metadata": {},
   "outputs": [],
   "source": []
  },
  {
   "cell_type": "code",
   "execution_count": 413,
   "metadata": {},
   "outputs": [],
   "source": [
    "test_data_scaled = scaler.transform(test_data)\n",
    "test_data_scaled_new = add_column(test_data_scaled,1)\n",
    "# add_column(np.array(test_data_scaled), 1)\n",
    "#### test_data_new = add_column(np.array(test_data),1)\n",
    "y_p = np.dot(test_data_scaled_new, m)\n",
    "np.savetxt('ans.csv',y_p,fmt='%1.8f')\n",
    "#### np.savetxt('ans2.csv',y_p)"
   ]
  },
  {
   "cell_type": "markdown",
   "metadata": {},
   "source": [
    "test_data_new = add_column(np.array(test_data), 1)\n"
   ]
  },
  {
   "cell_type": "markdown",
   "metadata": {},
   "source": [
    "y_p=np.dot(test_data_new, m)\n",
    "np.savetxt('ans.csv',y_p,fmt='%1.8f')\n",
    "# fmt='%1.8f'"
   ]
  },
  {
   "cell_type": "code",
   "execution_count": 414,
   "metadata": {},
   "outputs": [
    {
     "data": {
      "text/plain": [
       "0.9347170723659325"
      ]
     },
     "execution_count": 414,
     "metadata": {},
     "output_type": "execute_result"
    }
   ],
   "source": [
    "alg = LinearRegression()\n",
    "alg.fit(x_scaled, y)\n",
    "y_predicted = alg.predict(test_data_scaled_new)\n",
    "alg.score(x_scaled, y)"
   ]
  },
  {
   "cell_type": "code",
   "execution_count": 415,
   "metadata": {},
   "outputs": [
    {
     "data": {
      "text/plain": [
       "(array([ 2.68850733e+01,  2.15176773e+01,  9.48749871e+00,  2.19928637e-01,\n",
       "        -1.93188515e+00,  3.03284582e+00, -2.27479543e+00, -2.59878500e+00,\n",
       "         5.22253746e+00, -9.10838634e+00,  1.00726993e-02,  1.02566290e+00,\n",
       "        -3.72897377e+00,  1.09119269e-01,  3.43975305e+01,  2.07881276e+01,\n",
       "         2.34092329e+00, -3.25661987e-01,  7.75851012e-01, -5.39590736e-01,\n",
       "        -1.77819796e+00,  2.64838732e+01, -4.88753323e+01,  2.30947281e+00,\n",
       "        -5.13154796e-01,  1.50094645e+00, -8.21375027e-02, -1.33033922e+00,\n",
       "        -1.90043950e-01, -2.55704835e+00, -1.09475207e-03, -7.31645181e-01,\n",
       "        -1.36887593e+00, -2.46866528e-01,  2.23569315e+00, -6.37324766e-01,\n",
       "         7.12363657e-01, -3.60339451e-01,  2.35806203e-01, -7.23816862e-01,\n",
       "         1.29417751e+00,  1.45579213e+00,  4.83540299e-01,  2.06450643e+00,\n",
       "         5.72153597e-01,  1.93777379e-02, -1.56766742e-01,  1.64167931e+00,\n",
       "        -1.71971138e-01,  2.19928637e-01, -9.27001575e-01, -1.36442712e+00,\n",
       "         1.35527709e-01,  3.30041281e-01, -1.02114593e+00,  8.84031393e-01,\n",
       "        -2.18548827e-01,  4.17027203e-01, -6.28583996e-01, -6.15361842e-02,\n",
       "         7.04976984e-01, -1.39809076e+00,  4.24102262e+00, -2.97888916e+00,\n",
       "         3.94338530e+00, -3.81989057e+00, -3.43659999e-01,  8.54791241e-01,\n",
       "         1.93815279e-02, -1.14509130e+00,  3.54738818e-01, -4.53395471e-01,\n",
       "        -2.35725570e+00, -1.13419600e+00, -4.76276982e-01, -1.51324139e+00,\n",
       "         3.32699739e-02, -3.55779719e-03,  3.48332810e+00, -2.45896075e+00,\n",
       "        -5.76152160e-02, -1.40818103e+00, -1.38533563e+00,  5.29084449e-01,\n",
       "        -2.26123603e+00, -1.33367914e+00, -1.34734699e+00, -1.16602482e+00,\n",
       "         1.34659457e+00, -1.46942757e+00,  1.10284444e+01, -1.19596394e+00,\n",
       "         1.15538106e+00, -1.59098731e+00, -2.63726599e-01,  1.86145151e+00,\n",
       "        -3.25476438e+00, -1.17400263e+00,  2.89712067e-02,  3.28885570e-01,\n",
       "         4.35470960e-02, -1.84652050e-01, -8.12612590e-01,  1.16302599e-01,\n",
       "         1.09119269e-01, -8.21375027e-02,  2.35806203e-01,  2.19928637e-01,\n",
       "        -6.15361842e-02,  1.93815279e-02,  3.32699739e-02,  5.29084449e-01,\n",
       "        -1.46942757e+00, -2.63726599e-01,  2.89712067e-02, -1.84652050e-01,\n",
       "         1.16302599e-01,  1.09119269e-01, -8.21375027e-02,  2.35806203e-01,\n",
       "         2.19928637e-01, -6.15361842e-02,  1.93815279e-02,  3.32699739e-02,\n",
       "         5.29084449e-01, -1.46942757e+00, -2.63726599e-01,  2.89712067e-02,\n",
       "        -1.84652050e-01,  1.16302599e-01,  1.09119269e-01, -8.21375027e-02,\n",
       "         2.35806203e-01,  2.19928637e-01, -6.15361842e-02,  1.93815279e-02,\n",
       "         3.32699739e-02,  5.29084449e-01, -1.46942757e+00, -2.63726599e-01,\n",
       "         2.89712067e-02, -1.84652050e-01,  1.16302599e-01,  1.09119269e-01,\n",
       "        -8.21375027e-02,  2.35806203e-01,  2.19928637e-01, -6.15361842e-02,\n",
       "         1.93815279e-02,  3.32699739e-02,  5.29084449e-01, -1.46942757e+00,\n",
       "        -2.63726599e-01,  2.89712067e-02, -1.84652050e-01,  1.16302599e-01,\n",
       "         1.09119269e-01, -8.21375027e-02,  2.35806203e-01,  2.19928637e-01,\n",
       "        -6.15361842e-02,  1.93815279e-02,  3.32699739e-02,  5.29084449e-01,\n",
       "        -1.46942757e+00, -2.63726599e-01,  2.89712067e-02, -1.84652050e-01,\n",
       "         1.16302599e-01,  1.09119269e-01, -8.21375027e-02,  2.35806203e-01,\n",
       "         2.19928637e-01, -6.15361842e-02,  1.93815279e-02,  3.32699739e-02,\n",
       "         5.29084449e-01, -1.46942757e+00, -2.63726599e-01,  2.89712067e-02,\n",
       "        -1.84652050e-01,  1.16302599e-01,  1.09119269e-01, -8.21375027e-02,\n",
       "         2.35806203e-01,  2.19928637e-01, -6.15361842e-02,  1.93815279e-02,\n",
       "         3.32699739e-02,  5.29084449e-01, -1.46942757e+00, -2.63726599e-01,\n",
       "         2.89712067e-02, -1.84652050e-01,  1.16302599e-01,  0.00000000e+00]),\n",
       " 22.60949868073878)"
      ]
     },
     "execution_count": 415,
     "metadata": {},
     "output_type": "execute_result"
    }
   ],
   "source": [
    "alg.coef_, alg.intercept_"
   ]
  }
 ],
 "metadata": {
  "kernelspec": {
   "display_name": "Python 3",
   "language": "python",
   "name": "python3"
  },
  "language_info": {
   "codemirror_mode": {
    "name": "ipython",
    "version": 3
   },
   "file_extension": ".py",
   "mimetype": "text/x-python",
   "name": "python",
   "nbconvert_exporter": "python",
   "pygments_lexer": "ipython3",
   "version": "3.7.1"
  }
 },
 "nbformat": 4,
 "nbformat_minor": 2
}
