{
 "cells": [
  {
   "cell_type": "code",
   "execution_count": 35,
   "metadata": {},
   "outputs": [
    {
     "name": "stdout",
     "output_type": "stream",
     "text": [
      "0 1 2 3 4 5 6 7 8 9 \n",
      "2 2 2 2 2 2 2 2 2 2 \n",
      "0 1 2 3 4 5 6 7 8 9 \n",
      "2 3 4 5 \n",
      "10 9 8 7 6 5 4 3 2 1 \n",
      "0 1 2 \n",
      "4 4 4 \n",
      "i: 0 c: 3 i: 1 c: 4 i: 2 c: 5 \n",
      "hello\n",
      "wolle\n",
      "orl\n"
     ]
    }
   ],
   "source": [
    "###loops\n",
    "\n",
    "for i in range(0,10,1):    ##at the beginning of each iteration i gets a value from range corresponding to its iteration no.\n",
    "    print(i,end=\" \")        ##basically works like for-each loop\n",
    "    i+=3                    ###use while loop for simplicity\n",
    "print()\n",
    "\n",
    "for i in range(0,10,1):\n",
    "    i=2\n",
    "    print(i,end=\" \")\n",
    "print()\n",
    "\n",
    "for i in range(10):    #means run range:0 to 10\n",
    "    print(i,end=\" \")\n",
    "print()\n",
    "\n",
    "for i in range(2,6):  #means range 2 to 6\n",
    "    print(i,end=\" \")\n",
    "print()\n",
    "\n",
    "for i in range(10,0,-1):  #start=10,end=0 & as usual don't include end index, so 10 to 1.\n",
    "    print(i,end=\" \")\n",
    "print()\n",
    "\n",
    "c=3\n",
    "for i in range(c):    #c value may change , but range will remain same as specified initially.\n",
    "    c=4\n",
    "    print(i,end=\" \")\n",
    "print()\n",
    "\n",
    "c=3\n",
    "for i in range(c):\n",
    "    c=4\n",
    "    print(c,end=\" \")\n",
    "print()    \n",
    "c=3\n",
    "for i in range(c):\n",
    "    print(\"i:\",i,\"c:\",c,sep=\" \",end=\" \")    ##sep is used to give separation by pattern,end gives how print ends\n",
    "    c+=1\n",
    "print()\n",
    "    \n",
    "\n",
    "####strings\n",
    "str=\"helloworld\"\n",
    "temp=str\n",
    "temp=temp[0:5:1]\n",
    "print(temp)\n",
    "\n",
    "temp=str\n",
    "temp=temp[5:0:-1]     #start=5,end=0, end not included so print index 5 to 1 in exact manner.5,4..\n",
    "print(temp)\n",
    "\n",
    "temp=str               #start=1,end=4, end not include. - means from opp dirn.\n",
    "temp=temp[-4:-1]\n",
    "print(temp)\n",
    "\n",
    "####while\n",
    "i=3\n",
    "while i>0:\n",
    "    print(\"hello\",i+1,sep=\" \",end=\" \")\n",
    "    i+=1"
   ]
  }
 ],
 "metadata": {
  "kernelspec": {
   "display_name": "Python 3",
   "language": "python",
   "name": "python3"
  },
  "language_info": {
   "codemirror_mode": {
    "name": "ipython",
    "version": 3
   },
   "file_extension": ".py",
   "mimetype": "text/x-python",
   "name": "python",
   "nbconvert_exporter": "python",
   "pygments_lexer": "ipython3",
   "version": "3.7.1"
  }
 },
 "nbformat": 4,
 "nbformat_minor": 2
}
