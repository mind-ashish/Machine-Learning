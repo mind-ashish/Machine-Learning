{
  "nbformat": 4,
  "nbformat_minor": 0,
  "metadata": {
    "colab": {
      "name": "kerasAndAllNeuralNetwork.ipynb",
      "version": "0.3.2",
      "provenance": [],
      "collapsed_sections": []
    },
    "kernelspec": {
      "name": "python3",
      "display_name": "Python 3"
    }
  },
  "cells": [
    {
      "metadata": {
        "id": "qjaF889yIcC2",
        "colab_type": "code",
        "colab": {}
      },
      "cell_type": "code",
      "source": [
        "#All about neural networks:"
      ],
      "execution_count": 0,
      "outputs": []
    },
    {
      "metadata": {
        "id": "PdTj9OG5HsWe",
        "colab_type": "code",
        "colab": {}
      },
      "cell_type": "code",
      "source": [
        "#Neural network: basics: \n",
        "#using layer in b/w to make a difficult fn like xor\n",
        "#using mlp classifier in sklearn."
      ],
      "execution_count": 0,
      "outputs": []
    },
    {
      "metadata": {
        "id": "7fFbkbGdH1g1",
        "colab_type": "code",
        "colab": {}
      },
      "cell_type": "code",
      "source": [
        "#Using tensorflow : using forward and backward propagation code, \n",
        "#input , hidden and output layers\n"
      ],
      "execution_count": 0,
      "outputs": []
    },
    {
      "metadata": {
        "id": "ajM1i0qeIA3C",
        "colab_type": "code",
        "colab": {}
      },
      "cell_type": "code",
      "source": [
        "#using cnn for images : writing forward propagation code is req only\n",
        "#using input, convolution layers, pooling layers, stride ,padding\n",
        "#hidden/dense layers and output layers"
      ],
      "execution_count": 0,
      "outputs": []
    },
    {
      "metadata": {
        "id": "DMN8jbTEIOrQ",
        "colab_type": "code",
        "colab": {}
      },
      "cell_type": "code",
      "source": [
        "#Using keras as alternative for neural network, cnn, tensorflow."
      ],
      "execution_count": 0,
      "outputs": []
    },
    {
      "metadata": {
        "id": "gqloBGlRIZ_o",
        "colab_type": "code",
        "colab": {}
      },
      "cell_type": "code",
      "source": [
        ""
      ],
      "execution_count": 0,
      "outputs": []
    },
    {
      "metadata": {
        "id": "wsDI2H5Ykjlq",
        "colab_type": "code",
        "colab": {}
      },
      "cell_type": "code",
      "source": [
        "#keras is neural network library"
      ],
      "execution_count": 0,
      "outputs": []
    },
    {
      "metadata": {
        "id": "ij0lvIWglOHH",
        "colab_type": "code",
        "colab": {}
      },
      "cell_type": "code",
      "source": [
        "#keras mainly uses tensorflow, or others in backend"
      ],
      "execution_count": 0,
      "outputs": []
    },
    {
      "metadata": {
        "id": "f1rph57JlrBX",
        "colab_type": "code",
        "colab": {}
      },
      "cell_type": "code",
      "source": [
        "#steps:\n",
        "#1. create a model\n",
        "#2. define architecture: \n",
        "#decide how many layers to use(basically hidden layers and output layers only),\n",
        "#decide no of units in each layer\n",
        "#decide the activation function\n",
        "#decide the weights \n",
        "\n",
        "#extra::\n",
        "#decide whther u want biases\n",
        "#decide whether u want regularisation in each layer\n",
        "#decide whether u want to initialise ur weights(genarally we intiailise with:\n",
        "#random/0/1 value) or not.\n",
        "\n",
        "#regualrisation, initialising weights is not important here.\n",
        "\n",
        "#3. Compile : decide what optimizer and loss fuction to use\n",
        "#4.fit : decide no of iteration, learning rate, echos and batch-size.\n",
        "#5. evaluate or predict"
      ],
      "execution_count": 0,
      "outputs": []
    },
    {
      "metadata": {
        "id": "x7kwoSWspKvW",
        "colab_type": "code",
        "colab": {}
      },
      "cell_type": "code",
      "source": [
        "#types of models in keras:\n",
        "#most typical model is sequential model: it has many layers, and output \n",
        "#of 1 layer simply goes to other layer\n",
        "\n",
        "#2. Functional API model : it is a bit complex."
      ],
      "execution_count": 0,
      "outputs": []
    },
    {
      "metadata": {
        "id": "0Wf93PaeSdFh",
        "colab_type": "code",
        "colab": {}
      },
      "cell_type": "code",
      "source": [
        ""
      ],
      "execution_count": 0,
      "outputs": []
    },
    {
      "metadata": {
        "id": "YqqdqlxCSe6c",
        "colab_type": "text"
      },
      "cell_type": "markdown",
      "source": [
        "**Using keras for tensorflow**"
      ]
    },
    {
      "metadata": {
        "id": "mDYabtPXpiY9",
        "colab_type": "code",
        "colab": {}
      },
      "cell_type": "code",
      "source": [
        "from keras.models import Sequential    #importing the sequential model"
      ],
      "execution_count": 0,
      "outputs": []
    },
    {
      "metadata": {
        "id": "0UdVrPh4prda",
        "colab_type": "code",
        "colab": {}
      },
      "cell_type": "code",
      "source": [
        "model=Sequential()   #creating the model"
      ],
      "execution_count": 0,
      "outputs": []
    },
    {
      "metadata": {
        "id": "861rJMX6pw9r",
        "colab_type": "code",
        "colab": {}
      },
      "cell_type": "code",
      "source": [
        "from sklearn import datasets"
      ],
      "execution_count": 0,
      "outputs": []
    },
    {
      "metadata": {
        "id": "u-0H5q5OqDE3",
        "colab_type": "code",
        "colab": {}
      },
      "cell_type": "code",
      "source": [
        "breastCancer=datasets.load_breast_cancer()"
      ],
      "execution_count": 0,
      "outputs": []
    },
    {
      "metadata": {
        "id": "OIh2dF0YqHjY",
        "colab_type": "code",
        "colab": {
          "base_uri": "https://localhost:8080/",
          "height": 2023
        },
        "outputId": "20edc9b0-26c0-4db2-b17d-196f2c107cbd"
      },
      "cell_type": "code",
      "source": [
        "print(breastCancer.DESCR)"
      ],
      "execution_count": 37,
      "outputs": [
        {
          "output_type": "stream",
          "text": [
            ".. _breast_cancer_dataset:\n",
            "\n",
            "Breast cancer wisconsin (diagnostic) dataset\n",
            "--------------------------------------------\n",
            "\n",
            "**Data Set Characteristics:**\n",
            "\n",
            "    :Number of Instances: 569\n",
            "\n",
            "    :Number of Attributes: 30 numeric, predictive attributes and the class\n",
            "\n",
            "    :Attribute Information:\n",
            "        - radius (mean of distances from center to points on the perimeter)\n",
            "        - texture (standard deviation of gray-scale values)\n",
            "        - perimeter\n",
            "        - area\n",
            "        - smoothness (local variation in radius lengths)\n",
            "        - compactness (perimeter^2 / area - 1.0)\n",
            "        - concavity (severity of concave portions of the contour)\n",
            "        - concave points (number of concave portions of the contour)\n",
            "        - symmetry \n",
            "        - fractal dimension (\"coastline approximation\" - 1)\n",
            "\n",
            "        The mean, standard error, and \"worst\" or largest (mean of the three\n",
            "        largest values) of these features were computed for each image,\n",
            "        resulting in 30 features.  For instance, field 3 is Mean Radius, field\n",
            "        13 is Radius SE, field 23 is Worst Radius.\n",
            "\n",
            "        - class:\n",
            "                - WDBC-Malignant\n",
            "                - WDBC-Benign\n",
            "\n",
            "    :Summary Statistics:\n",
            "\n",
            "    ===================================== ====== ======\n",
            "                                           Min    Max\n",
            "    ===================================== ====== ======\n",
            "    radius (mean):                        6.981  28.11\n",
            "    texture (mean):                       9.71   39.28\n",
            "    perimeter (mean):                     43.79  188.5\n",
            "    area (mean):                          143.5  2501.0\n",
            "    smoothness (mean):                    0.053  0.163\n",
            "    compactness (mean):                   0.019  0.345\n",
            "    concavity (mean):                     0.0    0.427\n",
            "    concave points (mean):                0.0    0.201\n",
            "    symmetry (mean):                      0.106  0.304\n",
            "    fractal dimension (mean):             0.05   0.097\n",
            "    radius (standard error):              0.112  2.873\n",
            "    texture (standard error):             0.36   4.885\n",
            "    perimeter (standard error):           0.757  21.98\n",
            "    area (standard error):                6.802  542.2\n",
            "    smoothness (standard error):          0.002  0.031\n",
            "    compactness (standard error):         0.002  0.135\n",
            "    concavity (standard error):           0.0    0.396\n",
            "    concave points (standard error):      0.0    0.053\n",
            "    symmetry (standard error):            0.008  0.079\n",
            "    fractal dimension (standard error):   0.001  0.03\n",
            "    radius (worst):                       7.93   36.04\n",
            "    texture (worst):                      12.02  49.54\n",
            "    perimeter (worst):                    50.41  251.2\n",
            "    area (worst):                         185.2  4254.0\n",
            "    smoothness (worst):                   0.071  0.223\n",
            "    compactness (worst):                  0.027  1.058\n",
            "    concavity (worst):                    0.0    1.252\n",
            "    concave points (worst):               0.0    0.291\n",
            "    symmetry (worst):                     0.156  0.664\n",
            "    fractal dimension (worst):            0.055  0.208\n",
            "    ===================================== ====== ======\n",
            "\n",
            "    :Missing Attribute Values: None\n",
            "\n",
            "    :Class Distribution: 212 - Malignant, 357 - Benign\n",
            "\n",
            "    :Creator:  Dr. William H. Wolberg, W. Nick Street, Olvi L. Mangasarian\n",
            "\n",
            "    :Donor: Nick Street\n",
            "\n",
            "    :Date: November, 1995\n",
            "\n",
            "This is a copy of UCI ML Breast Cancer Wisconsin (Diagnostic) datasets.\n",
            "https://goo.gl/U2Uwz2\n",
            "\n",
            "Features are computed from a digitized image of a fine needle\n",
            "aspirate (FNA) of a breast mass.  They describe\n",
            "characteristics of the cell nuclei present in the image.\n",
            "\n",
            "Separating plane described above was obtained using\n",
            "Multisurface Method-Tree (MSM-T) [K. P. Bennett, \"Decision Tree\n",
            "Construction Via Linear Programming.\" Proceedings of the 4th\n",
            "Midwest Artificial Intelligence and Cognitive Science Society,\n",
            "pp. 97-101, 1992], a classification method which uses linear\n",
            "programming to construct a decision tree.  Relevant features\n",
            "were selected using an exhaustive search in the space of 1-4\n",
            "features and 1-3 separating planes.\n",
            "\n",
            "The actual linear program used to obtain the separating plane\n",
            "in the 3-dimensional space is that described in:\n",
            "[K. P. Bennett and O. L. Mangasarian: \"Robust Linear\n",
            "Programming Discrimination of Two Linearly Inseparable Sets\",\n",
            "Optimization Methods and Software 1, 1992, 23-34].\n",
            "\n",
            "This database is also available through the UW CS ftp server:\n",
            "\n",
            "ftp ftp.cs.wisc.edu\n",
            "cd math-prog/cpo-dataset/machine-learn/WDBC/\n",
            "\n",
            ".. topic:: References\n",
            "\n",
            "   - W.N. Street, W.H. Wolberg and O.L. Mangasarian. Nuclear feature extraction \n",
            "     for breast tumor diagnosis. IS&T/SPIE 1993 International Symposium on \n",
            "     Electronic Imaging: Science and Technology, volume 1905, pages 861-870,\n",
            "     San Jose, CA, 1993.\n",
            "   - O.L. Mangasarian, W.N. Street and W.H. Wolberg. Breast cancer diagnosis and \n",
            "     prognosis via linear programming. Operations Research, 43(4), pages 570-577, \n",
            "     July-August 1995.\n",
            "   - W.H. Wolberg, W.N. Street, and O.L. Mangasarian. Machine learning techniques\n",
            "     to diagnose breast cancer from fine-needle aspirates. Cancer Letters 77 (1994) \n",
            "     163-171.\n"
          ],
          "name": "stdout"
        }
      ]
    },
    {
      "metadata": {
        "id": "7a3sWjBDq88t",
        "colab_type": "code",
        "colab": {}
      },
      "cell_type": "code",
      "source": [
        "#so there are 569 rows , 30 columns/features in dataset and we are predicting whther the user has breast cancer or not"
      ],
      "execution_count": 0,
      "outputs": []
    },
    {
      "metadata": {
        "id": "7TUFpnOrrSeK",
        "colab_type": "code",
        "colab": {
          "base_uri": "https://localhost:8080/",
          "height": 459
        },
        "outputId": "7eaee0cb-d0f7-4883-908d-55f89ca2f026"
      },
      "cell_type": "code",
      "source": [
        "breastCancer.target    #it has binary output class 0,1 "
      ],
      "execution_count": 39,
      "outputs": [
        {
          "output_type": "execute_result",
          "data": {
            "text/plain": [
              "array([0, 0, 0, 0, 0, 0, 0, 0, 0, 0, 0, 0, 0, 0, 0, 0, 0, 0, 0, 1, 1, 1,\n",
              "       0, 0, 0, 0, 0, 0, 0, 0, 0, 0, 0, 0, 0, 0, 0, 1, 0, 0, 0, 0, 0, 0,\n",
              "       0, 0, 1, 0, 1, 1, 1, 1, 1, 0, 0, 1, 0, 0, 1, 1, 1, 1, 0, 1, 0, 0,\n",
              "       1, 1, 1, 1, 0, 1, 0, 0, 1, 0, 1, 0, 0, 1, 1, 1, 0, 0, 1, 0, 0, 0,\n",
              "       1, 1, 1, 0, 1, 1, 0, 0, 1, 1, 1, 0, 0, 1, 1, 1, 1, 0, 1, 1, 0, 1,\n",
              "       1, 1, 1, 1, 1, 1, 1, 0, 0, 0, 1, 0, 0, 1, 1, 1, 0, 0, 1, 0, 1, 0,\n",
              "       0, 1, 0, 0, 1, 1, 0, 1, 1, 0, 1, 1, 1, 1, 0, 1, 1, 1, 1, 1, 1, 1,\n",
              "       1, 1, 0, 1, 1, 1, 1, 0, 0, 1, 0, 1, 1, 0, 0, 1, 1, 0, 0, 1, 1, 1,\n",
              "       1, 0, 1, 1, 0, 0, 0, 1, 0, 1, 0, 1, 1, 1, 0, 1, 1, 0, 0, 1, 0, 0,\n",
              "       0, 0, 1, 0, 0, 0, 1, 0, 1, 0, 1, 1, 0, 1, 0, 0, 0, 0, 1, 1, 0, 0,\n",
              "       1, 1, 1, 0, 1, 1, 1, 1, 1, 0, 0, 1, 1, 0, 1, 1, 0, 0, 1, 0, 1, 1,\n",
              "       1, 1, 0, 1, 1, 1, 1, 1, 0, 1, 0, 0, 0, 0, 0, 0, 0, 0, 0, 0, 0, 0,\n",
              "       0, 0, 1, 1, 1, 1, 1, 1, 0, 1, 0, 1, 1, 0, 1, 1, 0, 1, 0, 0, 1, 1,\n",
              "       1, 1, 1, 1, 1, 1, 1, 1, 1, 1, 1, 0, 1, 1, 0, 1, 0, 1, 1, 1, 1, 1,\n",
              "       1, 1, 1, 1, 1, 1, 1, 1, 1, 0, 1, 1, 1, 0, 1, 0, 1, 1, 1, 1, 0, 0,\n",
              "       0, 1, 1, 1, 1, 0, 1, 0, 1, 0, 1, 1, 1, 0, 1, 1, 1, 1, 1, 1, 1, 0,\n",
              "       0, 0, 1, 1, 1, 1, 1, 1, 1, 1, 1, 1, 1, 0, 0, 1, 0, 0, 0, 1, 0, 0,\n",
              "       1, 1, 1, 1, 1, 0, 1, 1, 1, 1, 1, 0, 1, 1, 1, 0, 1, 1, 0, 0, 1, 1,\n",
              "       1, 1, 1, 1, 0, 1, 1, 1, 1, 1, 1, 1, 0, 1, 1, 1, 1, 1, 0, 1, 1, 0,\n",
              "       1, 1, 1, 1, 1, 1, 1, 1, 1, 1, 1, 1, 0, 1, 0, 0, 1, 0, 1, 1, 1, 1,\n",
              "       1, 0, 1, 1, 0, 1, 0, 1, 1, 0, 1, 0, 1, 1, 1, 1, 1, 1, 1, 1, 0, 0,\n",
              "       1, 1, 1, 1, 1, 1, 0, 1, 1, 1, 1, 1, 1, 1, 1, 1, 1, 0, 1, 1, 1, 1,\n",
              "       1, 1, 1, 0, 1, 0, 1, 1, 0, 1, 1, 1, 1, 1, 0, 0, 1, 0, 1, 0, 1, 1,\n",
              "       1, 1, 1, 0, 1, 1, 0, 1, 0, 1, 0, 0, 1, 1, 1, 0, 1, 1, 1, 1, 1, 1,\n",
              "       1, 1, 1, 1, 1, 0, 1, 0, 0, 1, 1, 1, 1, 1, 1, 1, 1, 1, 1, 1, 1, 1,\n",
              "       1, 1, 1, 1, 1, 1, 1, 1, 1, 1, 1, 1, 0, 0, 0, 0, 0, 0, 1])"
            ]
          },
          "metadata": {
            "tags": []
          },
          "execution_count": 39
        }
      ]
    },
    {
      "metadata": {
        "id": "oLomlxDzrYMz",
        "colab_type": "code",
        "colab": {}
      },
      "cell_type": "code",
      "source": [
        "#1.need to decide no of layers(hidden and output)\n",
        "#2. No of units in each layer\n",
        "#3. Weights\n",
        "#4. Activation functions: if we don't give our own, it uses identity fn as \n",
        "#activation fn"
      ],
      "execution_count": 0,
      "outputs": []
    },
    {
      "metadata": {
        "id": "QFB6o6bTt5iO",
        "colab_type": "code",
        "colab": {}
      },
      "cell_type": "code",
      "source": [
        "#since no of features/columns =30 in this dataset\n",
        "\n",
        "#we consider there are 30 inputs for our neural network\n",
        "#or we can say input layer has 30 units"
      ],
      "execution_count": 0,
      "outputs": []
    },
    {
      "metadata": {
        "id": "dRFfMvZvuI90",
        "colab_type": "code",
        "colab": {}
      },
      "cell_type": "code",
      "source": [
        "#Since input layer has 30 units, lets take 32 units in first hidden layer\n",
        "#therefore 16 units in next/second hidden layer, and 1 unit in next layer i.e output layer"
      ],
      "execution_count": 0,
      "outputs": []
    },
    {
      "metadata": {
        "id": "kg6toGo8uYaM",
        "colab_type": "code",
        "colab": {}
      },
      "cell_type": "code",
      "source": [
        "#so we have input layer with 30 units, 2 hidden layers with 32 and 16 units\n",
        "#and a output layer with 1 unit.\n",
        "\n",
        "#So weights between our input layer to first hidden layer mapping will be\n",
        "#of shape 30*32, first layer to second hidden layer of shape 32*16\n",
        "#second hidden layer to output layer 16*1.\n",
        "\n",
        "#In general we use activation function='relu' for all hidden layers and\n",
        "#activation function='sigmoid' for output layer.\n"
      ],
      "execution_count": 0,
      "outputs": []
    },
    {
      "metadata": {
        "id": "JUCFEM_ewAKD",
        "colab_type": "code",
        "colab": {}
      },
      "cell_type": "code",
      "source": [
        "#so we got :1. no of hidden layers,2. no of units in each hidden layer,3. weights,\n",
        "#4. activation fn. \n",
        "#weights in general are initialised randomly. But it is\n",
        "#not neccesary to initialise weights in keras."
      ],
      "execution_count": 0,
      "outputs": []
    },
    {
      "metadata": {
        "id": "51y_PCGGAh8c",
        "colab_type": "text"
      },
      "cell_type": "markdown",
      "source": [
        "**Definitions: **"
      ]
    },
    {
      "metadata": {
        "id": "g6ikxxDxujfD",
        "colab_type": "code",
        "colab": {}
      },
      "cell_type": "code",
      "source": [
        "#definitions:\n",
        "#units: very similar to k*k filter in cnn\n",
        "\n",
        "#weights: read in neural network when we do layer 1 to layer 2 then m1x1+m2x2+m3\n",
        "#m1, m2 etc were weights m3 was bias, on individual units mapping , m1, m2 etc were\n",
        "#weights getting multiplied by units xx1,x2 etc.\n",
        "\n",
        "#layers:\n",
        "#input layer, convolution layers, pooling layers, hidden layers, output layer in cnn\n",
        "#input layer , hidden layers, output layer in simple neural network/tensorflow\n",
        "\n",
        "#activation fn : read already."
      ],
      "execution_count": 0,
      "outputs": []
    },
    {
      "metadata": {
        "id": "hN6MxnxPx58G",
        "colab_type": "code",
        "colab": {}
      },
      "cell_type": "code",
      "source": [
        ""
      ],
      "execution_count": 0,
      "outputs": []
    },
    {
      "metadata": {
        "id": "jWD368nqx9Fp",
        "colab_type": "code",
        "colab": {}
      },
      "cell_type": "code",
      "source": [
        "#these hidden layers are called dense layers"
      ],
      "execution_count": 0,
      "outputs": []
    },
    {
      "metadata": {
        "id": "IV0ioYVPyCf_",
        "colab_type": "code",
        "colab": {}
      },
      "cell_type": "code",
      "source": [
        "from keras.layers import Dense  #to import dense layers"
      ],
      "execution_count": 0,
      "outputs": []
    },
    {
      "metadata": {
        "id": "QOTfl-HjyMZT",
        "colab_type": "code",
        "colab": {}
      },
      "cell_type": "code",
      "source": [
        "layer1=Dense(units=32, activation='relu', input_dim=30) \n",
        "model.add(layer1)\n",
        "\n",
        "#to create a dense layer/hidden layer with \n",
        "#32 units and activation fn=relu, the input layer for this hidden layer1 has 30 units"
      ],
      "execution_count": 0,
      "outputs": []
    },
    {
      "metadata": {
        "id": "WNOOVGLtywvL",
        "colab_type": "code",
        "colab": {}
      },
      "cell_type": "code",
      "source": [
        "#there another way,we can add a layer directly to model also like, we can add hidden layer 2 by:\n",
        "\n",
        "model.add(Dense(units=16,activation='relu'))  \n",
        "#second hidden/dense layer"
      ],
      "execution_count": 0,
      "outputs": []
    },
    {
      "metadata": {
        "id": "5SKrZzCazF8C",
        "colab_type": "code",
        "colab": {}
      },
      "cell_type": "code",
      "source": [
        "model.add(Dense(units=1,activation='sigmoid'))   \n",
        "#adding output layer"
      ],
      "execution_count": 0,
      "outputs": []
    },
    {
      "metadata": {
        "id": "iBkYfAlrItF5",
        "colab_type": "code",
        "colab": {}
      },
      "cell_type": "code",
      "source": [
        ""
      ],
      "execution_count": 0,
      "outputs": []
    },
    {
      "metadata": {
        "id": "qnZPnS-GItIf",
        "colab_type": "code",
        "colab": {}
      },
      "cell_type": "code",
      "source": [
        ""
      ],
      "execution_count": 0,
      "outputs": []
    },
    {
      "metadata": {
        "id": "rT9E1DP5_rXw",
        "colab_type": "text"
      },
      "cell_type": "markdown",
      "source": [
        "**How to decide number of input, hidden, output layers and number of units in each layer.\n",
        "**"
      ]
    },
    {
      "metadata": {
        "id": "bJQZgn_U_mKB",
        "colab_type": "code",
        "colab": {}
      },
      "cell_type": "code",
      "source": [
        "#here we are calling the units in hidden layers/neural network layer as neurons\n",
        "\n",
        "# The Input Layer\n",
        "\n",
        "# Simple--every NN has exactly one of them--no exceptions that I'm aware of.\n",
        "\n",
        "# With respect to the number of neurons comprising this layer, \n",
        "# this parameter is completely and uniquely determined once you know the shape \n",
        "# of your training data. Specifically, the number of neurons comprising that layer\n",
        "# is equal to the number of features (columns) in your data. \n",
        "# Some NN configurations add one additional node for a bias term.\n",
        "\n",
        "\n"
      ],
      "execution_count": 0,
      "outputs": []
    },
    {
      "metadata": {
        "id": "OKE5U4Sm_oRf",
        "colab_type": "code",
        "colab": {}
      },
      "cell_type": "code",
      "source": [
        "# The Output Layer\n",
        "\n",
        "# Like the Input layer, every NN has exactly one output layer.\n",
        "# Determining its size (number of neurons) is simple; \n",
        "# it is completely determined by the chosen model configuration.\n",
        "\n",
        "# Is your NN going running in Machine Mode or Regression Mode \n",
        "# (the ML convention of using a term that is also used in statistics but a\n",
        "#  ssigning a different meaning to it is very confusing). \n",
        "# Machine mode: returns a class label\n",
        "#   (e.g., \"Premium Account\"/\"Basic Account\"). \n",
        "#   Regression Mode returns a value (e.g., price).\n",
        "\n",
        "# If the NN is a regressor, then the output layer has a single node.\n",
        "\n",
        "# If the NN is a classifier, then it also has a single node \n",
        "# unless softmax(type of activation) is used in which case the output layer\n",
        "# has one node per class label in your model."
      ],
      "execution_count": 0,
      "outputs": []
    },
    {
      "metadata": {
        "id": "5UPjwrsk_ouP",
        "colab_type": "code",
        "colab": {}
      },
      "cell_type": "code",
      "source": [
        "# The Hidden Layers\n",
        "\n",
        "# How many hidden layers? Well if your data is linearly separable \n",
        "# (which you often know by the time you begin coding a NN) \n",
        "# then you don't need any hidden layers at all. Of course,\n",
        "# you don't need an NN to resolve your data either, \n",
        "# but it will still do the job.\n",
        "\n",
        "# One issue within this subject on which there is a consensus is the performance \n",
        "# difference from adding additional hidden layers:\n",
        "#   the situations in which performance improves with a second (or third, etc.) \n",
        "#   hidden layer are very few. One hidden layer is sufficient for the\n",
        "#   large majority of problems.\n",
        "\n",
        "# So what about size of the hidden layer(s)\n",
        "# --how many neurons? There are some empirically-derived rules-of-thumb,\n",
        "# of these, the most commonly relied on is\n",
        "# 'the optimal size of the hidden layer is usually between \n",
        "# the size of the input and size of the output layers'. \n",
        "# Jeff Heaton, author of Introduction to Neural Networks in Java \n",
        "# offers a few more.\n",
        "\n",
        "#In sum, for most problems, one could probably get decent \n",
        "#performance (even without a second optimization step) by setting the\n",
        "#hidden layer configuration using just two rules: \n",
        "#(i) number of hidden layers equals one; and \n",
        "#(ii) the number of neurons in that layer is the mean of the \n",
        "#neurons in the input and output layers. eg here no of hidden layer=1\n",
        "#no of neuron in layer = (30+1)/2 means keeping just one layer with \n",
        "#16 units was also good enough\n",
        "\n",
        "#here's one additional rule of thumb that helps for supervised \n",
        "#learning problems. The upper bound on the number of hidden neurons that\n",
        "#won't result in over-fitting is:\n",
        "\n",
        "#No of neurons in hidden layer =No of sample/(a * (No of neurons in input layer+ Number of neurons in output layer))\n",
        "\n",
        "#𝛼 = an arbitrary scaling factor usually 2-10.\n",
        "\n",
        "#eg in our case, no of sample/no of rows=569, input+output=30+1\n",
        "#take a =2.\n",
        "#So n= 569/(2*31) neurons in hidden will be good enough\n",
        "\n",
        "#Others recommend setting 𝑎𝑙𝑝ℎ𝑎 to a value between 5 and 10,\n",
        "#but I find a value of 2 will often work without overfitting.\n",
        "\n",
        "\n",
        "\n",
        "\n",
        "\n",
        "\n",
        "\n"
      ],
      "execution_count": 0,
      "outputs": []
    },
    {
      "metadata": {
        "id": "BiT9uDZe-I-u",
        "colab_type": "code",
        "colab": {}
      },
      "cell_type": "code",
      "source": [
        "# The Number of Hidden Layers\n",
        "\n",
        "# There are really two decisions that must be made regarding the hidden layers:\n",
        "#   how many hidden layers to actually have in the neural network and\n",
        "#   how many neurons will be in each of these layers. \n",
        "#   We will first examine how to determine the number of hidden layers to use\n",
        "#   with the neural network.\n",
        "\n",
        "# Problems that require two hidden layers are rarely encountered.\n",
        "# However, neural networks with two hidden layers can represent functions \n",
        "# with any kind of shape. There is currently no theoretical reason to use \n",
        "# neural networks with any more than two hidden layers. \n",
        "# In fact, for many practical problems, there is no reason to use\n",
        "# any more than one hidden layer. Table 5.1 summarizes the capabilities of \n",
        "# neural network architectures with various hidden layers.\n",
        "\n",
        "# | Number of Hidden Layers | Result |\n",
        "\n",
        "#  0 - Only capable of representing linear separable functions or decisions.\n",
        "\n",
        "#  1 - Can approximate any function that contains a continuous mapping\n",
        "# from one finite space to another.\n",
        "\n",
        "#  2 - Can represent an arbitrary decision boundary to arbitrary accuracy\n",
        "# with rational activation functions and can approximate any smooth\n",
        "# mapping to any accuracy.\n",
        "\n",
        "\n",
        "\n",
        "\n",
        "# There are many rule-of-thumb methods for determining the correct number of neurons to use in the hidden layers, such as the following:\n",
        "\n",
        "# The number of hidden neurons should be between the size of the input layer and the size of the output layer.\n",
        "# The number of hidden neurons should be 2/3 the size of the input layer, plus the size of the output layer.\n",
        "# The number of hidden neurons should be less than twice the size of the input layer.\n"
      ],
      "execution_count": 0,
      "outputs": []
    },
    {
      "metadata": {
        "id": "bpJqGm_8-JCp",
        "colab_type": "code",
        "colab": {}
      },
      "cell_type": "code",
      "source": [
        ""
      ],
      "execution_count": 0,
      "outputs": []
    },
    {
      "metadata": {
        "id": "ETV1c9U0-JF7",
        "colab_type": "code",
        "colab": {}
      },
      "cell_type": "code",
      "source": [
        ""
      ],
      "execution_count": 0,
      "outputs": []
    },
    {
      "metadata": {
        "id": "A564xUgSGseC",
        "colab_type": "text"
      },
      "cell_type": "markdown",
      "source": [
        "**What is optimizer? what optimzers we can use ?**"
      ]
    },
    {
      "metadata": {
        "id": "bkfLMwi7-JJE",
        "colab_type": "code",
        "colab": {}
      },
      "cell_type": "code",
      "source": [
        "# Optimizers is basically to improve efficency of ur neural network. Just \n",
        "# like we use gradient descent, stochastic and batch gradient . They were\n",
        "# also optimzers. Similarly in neural networks we have other optimizers."
      ],
      "execution_count": 0,
      "outputs": []
    },
    {
      "metadata": {
        "id": "_9JdKsfL-JMW",
        "colab_type": "code",
        "colab": {}
      },
      "cell_type": "code",
      "source": [
        "#see this documentation on optimzers , to chose different optimizer,\n",
        "#how each works etc, how to use.\n",
        "#it also has defaut and best value for each parameter of optimizer.\n",
        "# https://keras.io/optimizers/"
      ],
      "execution_count": 0,
      "outputs": []
    },
    {
      "metadata": {
        "id": "u6ttSG_lHe9L",
        "colab_type": "code",
        "colab": {}
      },
      "cell_type": "code",
      "source": [
        ""
      ],
      "execution_count": 0,
      "outputs": []
    },
    {
      "metadata": {
        "id": "50qZPDxiHcZU",
        "colab_type": "code",
        "colab": {}
      },
      "cell_type": "code",
      "source": [
        ""
      ],
      "execution_count": 0,
      "outputs": []
    },
    {
      "metadata": {
        "id": "J1HPHBQcI3HL",
        "colab_type": "text"
      },
      "cell_type": "markdown",
      "source": [
        "**coming back to breast_cancer code**"
      ]
    },
    {
      "metadata": {
        "id": "yuUt48Mbyq-O",
        "colab_type": "code",
        "colab": {}
      },
      "cell_type": "code",
      "source": [
        "#compiling step, need 3 things:\n",
        "#1. need to tell which optimizer to use: adam, sgd, adagrad etc\n",
        "#2.which loss fn to use: mean square error in regression problem,\n",
        "#cross entropy in classifier problem generally.\n",
        "#3. metrics: print metrics after each step like accuracy , loss etc\n",
        "\n",
        "#read documentation of keras to decide what and how to use."
      ],
      "execution_count": 0,
      "outputs": []
    },
    {
      "metadata": {
        "id": "RH9FmYsUJrL5",
        "colab_type": "code",
        "colab": {}
      },
      "cell_type": "code",
      "source": [
        ""
      ],
      "execution_count": 0,
      "outputs": []
    },
    {
      "metadata": {
        "id": "sM0x4k7YJ4xq",
        "colab_type": "code",
        "colab": {}
      },
      "cell_type": "code",
      "source": [
        "model.compile(optimizer='adam',loss='binary_crossentropy',metrics=['accuracy'])\n",
        "\n",
        "#used adam optimizer, since output has binary class , and its classification problem\n",
        "#so used binary_crossentropy as loss fn, metrics we want to print in each step\n",
        "#is accuracy"
      ],
      "execution_count": 0,
      "outputs": []
    },
    {
      "metadata": {
        "id": "MMm5Vjy5KWwe",
        "colab_type": "code",
        "colab": {}
      },
      "cell_type": "code",
      "source": [
        ""
      ],
      "execution_count": 0,
      "outputs": []
    },
    {
      "metadata": {
        "id": "zP463EtdJk8I",
        "colab_type": "code",
        "colab": {}
      },
      "cell_type": "code",
      "source": [
        "#fitting step:\n",
        "#we need to pass 3 things to fit fn\n",
        "#1. x\n",
        "#2. y\n",
        "#3. epochs\n",
        "#4. batch size\n",
        "#5.Validation data"
      ],
      "execution_count": 0,
      "outputs": []
    },
    {
      "metadata": {
        "id": "Uzy2Hi3Yypbw",
        "colab_type": "code",
        "colab": {}
      },
      "cell_type": "code",
      "source": [
        ""
      ],
      "execution_count": 0,
      "outputs": []
    },
    {
      "metadata": {
        "id": "uqHvzplqL3ew",
        "colab_type": "text"
      },
      "cell_type": "markdown",
      "source": [
        "**What are epochs? **"
      ]
    },
    {
      "metadata": {
        "id": "FpE5U1rIyffc",
        "colab_type": "code",
        "colab": {}
      },
      "cell_type": "code",
      "source": [
        "# epochs is the number of times u want to run the iterations: i.e no of times\n",
        "#   u want to do forward and backward propagation. by default epochs=1\n",
        "#   but u should keep epochs 40-50etc atleast"
      ],
      "execution_count": 0,
      "outputs": []
    },
    {
      "metadata": {
        "id": "0xSmAc5Eq4yw",
        "colab_type": "code",
        "colab": {}
      },
      "cell_type": "code",
      "source": [
        ""
      ],
      "execution_count": 0,
      "outputs": []
    },
    {
      "metadata": {
        "id": "Far296ruMZnD",
        "colab_type": "text"
      },
      "cell_type": "markdown",
      "source": [
        "**What is batch size**"
      ]
    },
    {
      "metadata": {
        "id": "-bvPyzRhqJEZ",
        "colab_type": "code",
        "colab": {}
      },
      "cell_type": "code",
      "source": [
        "# if u want to update the weights as in gradient descent , we can do it\n",
        "# in batches , default batch size is 32. If u keep epochs=40 , batch size=50\n",
        "# and no of samples is 1000, then in each epoch it will not update all 1000\n",
        "# sample at once , it will do in batch of 50."
      ],
      "execution_count": 0,
      "outputs": []
    },
    {
      "metadata": {
        "id": "kEdnWUbkNHIk",
        "colab_type": "code",
        "colab": {}
      },
      "cell_type": "code",
      "source": [
        ""
      ],
      "execution_count": 0,
      "outputs": []
    },
    {
      "metadata": {
        "id": "b5CrSj6DNIa9",
        "colab_type": "text"
      },
      "cell_type": "markdown",
      "source": [
        "**What is validation data?**"
      ]
    },
    {
      "metadata": {
        "id": "1WeLDH9QNHi1",
        "colab_type": "code",
        "colab": {}
      },
      "cell_type": "code",
      "source": [
        "# It is an arguement we pass in fit fn.\n",
        "# U can pass our test data as validation data, so that when we can print accuracy\n",
        "# in each step, our accuracy , using test data as reference.\n",
        "# Validation data is just for accuracy , not used in traing !"
      ],
      "execution_count": 0,
      "outputs": []
    },
    {
      "metadata": {
        "id": "4moOaIbPNo0S",
        "colab_type": "code",
        "colab": {}
      },
      "cell_type": "code",
      "source": [
        ""
      ],
      "execution_count": 0,
      "outputs": []
    },
    {
      "metadata": {
        "id": "ZnFWeNDdNrt-",
        "colab_type": "code",
        "colab": {}
      },
      "cell_type": "code",
      "source": [
        ""
      ],
      "execution_count": 0,
      "outputs": []
    },
    {
      "metadata": {
        "id": "lEZvfvA_NsZ8",
        "colab_type": "text"
      },
      "cell_type": "markdown",
      "source": [
        "**coming back to breast_cancer code**"
      ]
    },
    {
      "metadata": {
        "id": "xjDhodVkNv7n",
        "colab_type": "code",
        "colab": {}
      },
      "cell_type": "code",
      "source": [
        "#fit"
      ],
      "execution_count": 0,
      "outputs": []
    },
    {
      "metadata": {
        "id": "FcD41L_hNywp",
        "colab_type": "code",
        "colab": {}
      },
      "cell_type": "code",
      "source": [
        "from sklearn.model_selection import train_test_split"
      ],
      "execution_count": 0,
      "outputs": []
    },
    {
      "metadata": {
        "id": "TwHNGZGpN8QQ",
        "colab_type": "code",
        "colab": {}
      },
      "cell_type": "code",
      "source": [
        "x_train,x_test,y_train,y_test=train_test_split(breastCancer.data,breastCancer.target,test_size=0.2,random_state=0)"
      ],
      "execution_count": 0,
      "outputs": []
    },
    {
      "metadata": {
        "id": "iXBNqz0fOQmD",
        "colab_type": "code",
        "colab": {}
      },
      "cell_type": "code",
      "source": [
        "#scaling the data"
      ],
      "execution_count": 0,
      "outputs": []
    },
    {
      "metadata": {
        "id": "ASryqWpDOZDR",
        "colab_type": "code",
        "colab": {}
      },
      "cell_type": "code",
      "source": [
        "from sklearn.preprocessing import StandardScaler\n"
      ],
      "execution_count": 0,
      "outputs": []
    },
    {
      "metadata": {
        "id": "Bvmw4BkDOh8Z",
        "colab_type": "code",
        "colab": {}
      },
      "cell_type": "code",
      "source": [
        "sc=StandardScaler()"
      ],
      "execution_count": 0,
      "outputs": []
    },
    {
      "metadata": {
        "id": "GZjqDCLnOkgX",
        "colab_type": "code",
        "colab": {}
      },
      "cell_type": "code",
      "source": [
        "x_train=sc.fit_transform(x_train)\n",
        "x_test=sc.transform(x_test)"
      ],
      "execution_count": 0,
      "outputs": []
    },
    {
      "metadata": {
        "id": "Y3Rr9UAtOqqt",
        "colab_type": "code",
        "colab": {
          "base_uri": "https://localhost:8080/",
          "height": 139
        },
        "outputId": "c74dba49-6ab2-4aa6-cf6e-a67b2622eef9"
      },
      "cell_type": "code",
      "source": [
        "# model.fit(x_train,y_train)   \n",
        "#by default epoch=1, accuracy came to be 0.53"
      ],
      "execution_count": 75,
      "outputs": [
        {
          "output_type": "stream",
          "text": [
            "WARNING:tensorflow:From /usr/local/lib/python3.6/dist-packages/tensorflow/python/ops/math_ops.py:3066: to_int32 (from tensorflow.python.ops.math_ops) is deprecated and will be removed in a future version.\n",
            "Instructions for updating:\n",
            "Use tf.cast instead.\n",
            "Epoch 1/1\n",
            "455/455 [==============================] - 1s 1ms/step - loss: 0.6947 - acc: 0.5385\n"
          ],
          "name": "stdout"
        },
        {
          "output_type": "execute_result",
          "data": {
            "text/plain": [
              "<keras.callbacks.History at 0x7f4a871a7ba8>"
            ]
          },
          "metadata": {
            "tags": []
          },
          "execution_count": 75
        }
      ]
    },
    {
      "metadata": {
        "id": "qxZfvRlTOwLV",
        "colab_type": "code",
        "colab": {}
      },
      "cell_type": "code",
      "source": [
        "#to run for multiple epoch to improve accuracy"
      ],
      "execution_count": 0,
      "outputs": []
    },
    {
      "metadata": {
        "id": "zEvPEodNO-Q6",
        "colab_type": "code",
        "colab": {
          "base_uri": "https://localhost:8080/",
          "height": 714
        },
        "outputId": "cc6f527a-0d2d-4c88-b924-27df2b55012b"
      },
      "cell_type": "code",
      "source": [
        "# model.fit(x_train,y_train,epochs=20)  \n",
        "#we can see accuracy has improved to 0.98"
      ],
      "execution_count": 77,
      "outputs": [
        {
          "output_type": "stream",
          "text": [
            "Epoch 1/20\n",
            "455/455 [==============================] - 0s 55us/step - loss: 0.5178 - acc: 0.8462\n",
            "Epoch 2/20\n",
            "455/455 [==============================] - 0s 52us/step - loss: 0.4070 - acc: 0.9231\n",
            "Epoch 3/20\n",
            "455/455 [==============================] - 0s 51us/step - loss: 0.3127 - acc: 0.9473\n",
            "Epoch 4/20\n",
            "455/455 [==============================] - 0s 50us/step - loss: 0.2406 - acc: 0.9538\n",
            "Epoch 5/20\n",
            "455/455 [==============================] - 0s 52us/step - loss: 0.1894 - acc: 0.9626\n",
            "Epoch 6/20\n",
            "455/455 [==============================] - 0s 54us/step - loss: 0.1534 - acc: 0.9670\n",
            "Epoch 7/20\n",
            "455/455 [==============================] - 0s 50us/step - loss: 0.1294 - acc: 0.9736\n",
            "Epoch 8/20\n",
            "455/455 [==============================] - 0s 50us/step - loss: 0.1124 - acc: 0.9736\n",
            "Epoch 9/20\n",
            "455/455 [==============================] - 0s 51us/step - loss: 0.0997 - acc: 0.9736\n",
            "Epoch 10/20\n",
            "455/455 [==============================] - 0s 57us/step - loss: 0.0897 - acc: 0.9736\n",
            "Epoch 11/20\n",
            "455/455 [==============================] - 0s 47us/step - loss: 0.0820 - acc: 0.9736\n",
            "Epoch 12/20\n",
            "455/455 [==============================] - 0s 50us/step - loss: 0.0762 - acc: 0.9780\n",
            "Epoch 13/20\n",
            "455/455 [==============================] - 0s 53us/step - loss: 0.0717 - acc: 0.9780\n",
            "Epoch 14/20\n",
            "455/455 [==============================] - 0s 44us/step - loss: 0.0678 - acc: 0.9802\n",
            "Epoch 15/20\n",
            "455/455 [==============================] - 0s 54us/step - loss: 0.0638 - acc: 0.9846\n",
            "Epoch 16/20\n",
            "455/455 [==============================] - 0s 51us/step - loss: 0.0610 - acc: 0.9868\n",
            "Epoch 17/20\n",
            "455/455 [==============================] - 0s 66us/step - loss: 0.0584 - acc: 0.9890\n",
            "Epoch 18/20\n",
            "455/455 [==============================] - 0s 49us/step - loss: 0.0559 - acc: 0.9890\n",
            "Epoch 19/20\n",
            "455/455 [==============================] - 0s 46us/step - loss: 0.0538 - acc: 0.9890\n",
            "Epoch 20/20\n",
            "455/455 [==============================] - 0s 48us/step - loss: 0.0519 - acc: 0.9890\n"
          ],
          "name": "stdout"
        },
        {
          "output_type": "execute_result",
          "data": {
            "text/plain": [
              "<keras.callbacks.History at 0x7f4a87b8cc18>"
            ]
          },
          "metadata": {
            "tags": []
          },
          "execution_count": 77
        }
      ]
    },
    {
      "metadata": {
        "id": "JfXN443JPLTS",
        "colab_type": "code",
        "colab": {}
      },
      "cell_type": "code",
      "source": [
        "#by default batch_size was 32, if u pass nothing"
      ],
      "execution_count": 0,
      "outputs": []
    },
    {
      "metadata": {
        "id": "M4jT9IVtNwQV",
        "colab_type": "code",
        "colab": {}
      },
      "cell_type": "code",
      "source": [
        "#we can use diff batch sizes also"
      ],
      "execution_count": 0,
      "outputs": []
    },
    {
      "metadata": {
        "id": "jBHd5y9LPauV",
        "colab_type": "code",
        "colab": {
          "base_uri": "https://localhost:8080/",
          "height": 714
        },
        "outputId": "dd786fc0-2fdc-4e48-8211-19421bfb3377"
      },
      "cell_type": "code",
      "source": [
        "# model.fit(x_train,y_train,epochs=20,batch_size=50)\n",
        "\n",
        "#run all cells from top (start from where u intialised model to bottom) , to see diff that after\n",
        "#adding each new paramter in fn\n",
        "\n",
        "#here accuracy u r seeing , is accuracy on training data"
      ],
      "execution_count": 79,
      "outputs": [
        {
          "output_type": "stream",
          "text": [
            "Epoch 1/20\n",
            "455/455 [==============================] - 0s 49us/step - loss: 0.0502 - acc: 0.9890\n",
            "Epoch 2/20\n",
            "455/455 [==============================] - 0s 48us/step - loss: 0.0490 - acc: 0.9890\n",
            "Epoch 3/20\n",
            "455/455 [==============================] - 0s 39us/step - loss: 0.0481 - acc: 0.9912\n",
            "Epoch 4/20\n",
            "455/455 [==============================] - 0s 39us/step - loss: 0.0475 - acc: 0.9890\n",
            "Epoch 5/20\n",
            "455/455 [==============================] - 0s 39us/step - loss: 0.0466 - acc: 0.9912\n",
            "Epoch 6/20\n",
            "455/455 [==============================] - 0s 38us/step - loss: 0.0458 - acc: 0.9912\n",
            "Epoch 7/20\n",
            "455/455 [==============================] - 0s 37us/step - loss: 0.0443 - acc: 0.9912\n",
            "Epoch 8/20\n",
            "455/455 [==============================] - 0s 37us/step - loss: 0.0433 - acc: 0.9912\n",
            "Epoch 9/20\n",
            "455/455 [==============================] - 0s 37us/step - loss: 0.0424 - acc: 0.9912\n",
            "Epoch 10/20\n",
            "455/455 [==============================] - 0s 43us/step - loss: 0.0417 - acc: 0.9912\n",
            "Epoch 11/20\n",
            "455/455 [==============================] - 0s 38us/step - loss: 0.0411 - acc: 0.9912\n",
            "Epoch 12/20\n",
            "455/455 [==============================] - 0s 40us/step - loss: 0.0402 - acc: 0.9912\n",
            "Epoch 13/20\n",
            "455/455 [==============================] - 0s 44us/step - loss: 0.0395 - acc: 0.9912\n",
            "Epoch 14/20\n",
            "455/455 [==============================] - 0s 42us/step - loss: 0.0393 - acc: 0.9912\n",
            "Epoch 15/20\n",
            "455/455 [==============================] - 0s 47us/step - loss: 0.0388 - acc: 0.9912\n",
            "Epoch 16/20\n",
            "455/455 [==============================] - 0s 38us/step - loss: 0.0380 - acc: 0.9912\n",
            "Epoch 17/20\n",
            "455/455 [==============================] - 0s 37us/step - loss: 0.0371 - acc: 0.9912\n",
            "Epoch 18/20\n",
            "455/455 [==============================] - 0s 37us/step - loss: 0.0363 - acc: 0.9912\n",
            "Epoch 19/20\n",
            "455/455 [==============================] - 0s 32us/step - loss: 0.0360 - acc: 0.9912\n",
            "Epoch 20/20\n",
            "455/455 [==============================] - 0s 44us/step - loss: 0.0344 - acc: 0.9912\n"
          ],
          "name": "stdout"
        },
        {
          "output_type": "execute_result",
          "data": {
            "text/plain": [
              "<keras.callbacks.History at 0x7f4a87059438>"
            ]
          },
          "metadata": {
            "tags": []
          },
          "execution_count": 79
        }
      ]
    },
    {
      "metadata": {
        "id": "CNj71oYIP_q7",
        "colab_type": "code",
        "colab": {}
      },
      "cell_type": "code",
      "source": [
        "#we can pass validation_data also"
      ],
      "execution_count": 0,
      "outputs": []
    },
    {
      "metadata": {
        "id": "TKXhqLrMQNTY",
        "colab_type": "code",
        "colab": {
          "base_uri": "https://localhost:8080/",
          "height": 731
        },
        "outputId": "7a4e168b-8a7d-4553-f67a-4009820c3580"
      },
      "cell_type": "code",
      "source": [
        "model.fit(x_train,y_train,epochs=20,batch_size=50,validation_data=(x_test,y_test))\n",
        "\n",
        "#now we can see accuracy on both training data(lhs) and testing data as well(rhs).\n",
        "#accuracy on training data=0.99 , on test data =0.97"
      ],
      "execution_count": 81,
      "outputs": [
        {
          "output_type": "stream",
          "text": [
            "Train on 455 samples, validate on 114 samples\n",
            "Epoch 1/20\n",
            "455/455 [==============================] - 0s 107us/step - loss: 0.0340 - acc: 0.9912 - val_loss: 0.0680 - val_acc: 0.9649\n",
            "Epoch 2/20\n",
            "455/455 [==============================] - 0s 39us/step - loss: 0.0344 - acc: 0.9912 - val_loss: 0.0682 - val_acc: 0.9649\n",
            "Epoch 3/20\n",
            "455/455 [==============================] - 0s 40us/step - loss: 0.0331 - acc: 0.9912 - val_loss: 0.0668 - val_acc: 0.9649\n",
            "Epoch 4/20\n",
            "455/455 [==============================] - 0s 40us/step - loss: 0.0320 - acc: 0.9912 - val_loss: 0.0660 - val_acc: 0.9649\n",
            "Epoch 5/20\n",
            "455/455 [==============================] - 0s 41us/step - loss: 0.0312 - acc: 0.9912 - val_loss: 0.0656 - val_acc: 0.9649\n",
            "Epoch 6/20\n",
            "455/455 [==============================] - 0s 36us/step - loss: 0.0305 - acc: 0.9912 - val_loss: 0.0654 - val_acc: 0.9649\n",
            "Epoch 7/20\n",
            "455/455 [==============================] - 0s 38us/step - loss: 0.0298 - acc: 0.9912 - val_loss: 0.0653 - val_acc: 0.9649\n",
            "Epoch 8/20\n",
            "455/455 [==============================] - 0s 41us/step - loss: 0.0291 - acc: 0.9912 - val_loss: 0.0650 - val_acc: 0.9649\n",
            "Epoch 9/20\n",
            "455/455 [==============================] - 0s 36us/step - loss: 0.0286 - acc: 0.9912 - val_loss: 0.0645 - val_acc: 0.9649\n",
            "Epoch 10/20\n",
            "455/455 [==============================] - 0s 37us/step - loss: 0.0283 - acc: 0.9912 - val_loss: 0.0644 - val_acc: 0.9649\n",
            "Epoch 11/20\n",
            "455/455 [==============================] - 0s 35us/step - loss: 0.0272 - acc: 0.9912 - val_loss: 0.0638 - val_acc: 0.9737\n",
            "Epoch 12/20\n",
            "455/455 [==============================] - 0s 37us/step - loss: 0.0270 - acc: 0.9912 - val_loss: 0.0633 - val_acc: 0.9737\n",
            "Epoch 13/20\n",
            "455/455 [==============================] - 0s 42us/step - loss: 0.0264 - acc: 0.9912 - val_loss: 0.0638 - val_acc: 0.9737\n",
            "Epoch 14/20\n",
            "455/455 [==============================] - 0s 37us/step - loss: 0.0259 - acc: 0.9912 - val_loss: 0.0641 - val_acc: 0.9737\n",
            "Epoch 15/20\n",
            "455/455 [==============================] - 0s 43us/step - loss: 0.0254 - acc: 0.9912 - val_loss: 0.0651 - val_acc: 0.9737\n",
            "Epoch 16/20\n",
            "455/455 [==============================] - 0s 39us/step - loss: 0.0249 - acc: 0.9912 - val_loss: 0.0651 - val_acc: 0.9737\n",
            "Epoch 17/20\n",
            "455/455 [==============================] - 0s 40us/step - loss: 0.0244 - acc: 0.9912 - val_loss: 0.0654 - val_acc: 0.9737\n",
            "Epoch 18/20\n",
            "455/455 [==============================] - 0s 39us/step - loss: 0.0242 - acc: 0.9912 - val_loss: 0.0642 - val_acc: 0.9737\n",
            "Epoch 19/20\n",
            "455/455 [==============================] - 0s 38us/step - loss: 0.0243 - acc: 0.9912 - val_loss: 0.0639 - val_acc: 0.9737\n",
            "Epoch 20/20\n",
            "455/455 [==============================] - 0s 39us/step - loss: 0.0236 - acc: 0.9912 - val_loss: 0.0645 - val_acc: 0.9737\n"
          ],
          "name": "stdout"
        },
        {
          "output_type": "execute_result",
          "data": {
            "text/plain": [
              "<keras.callbacks.History at 0x7f4a83003828>"
            ]
          },
          "metadata": {
            "tags": []
          },
          "execution_count": 81
        }
      ]
    },
    {
      "metadata": {
        "id": "ZpymAauCQUha",
        "colab_type": "code",
        "colab": {}
      },
      "cell_type": "code",
      "source": [
        "#to improve accuracy further we can use regularisation , using keras->documentation"
      ],
      "execution_count": 0,
      "outputs": []
    },
    {
      "metadata": {
        "id": "wItS9UuwRGkW",
        "colab_type": "code",
        "colab": {}
      },
      "cell_type": "code",
      "source": [
        ""
      ],
      "execution_count": 0,
      "outputs": []
    },
    {
      "metadata": {
        "id": "rTyrfyrHRVtg",
        "colab_type": "code",
        "colab": {}
      },
      "cell_type": "code",
      "source": [
        ""
      ],
      "execution_count": 0,
      "outputs": []
    },
    {
      "metadata": {
        "id": "uSWmHQyDRVx6",
        "colab_type": "code",
        "colab": {}
      },
      "cell_type": "code",
      "source": [
        "#prediction and evaluation"
      ],
      "execution_count": 0,
      "outputs": []
    },
    {
      "metadata": {
        "id": "hte-gm7vRYIi",
        "colab_type": "code",
        "colab": {
          "base_uri": "https://localhost:8080/",
          "height": 1955
        },
        "outputId": "07d363d5-196d-4410-fd73-44136a91c52b"
      },
      "cell_type": "code",
      "source": [
        "predictions=model.predict(x_test)\n",
        "predictions      #3e-04 ->3 * 10 raise -4 means 0.0003 ,i.e 0 almost\n",
        "#9.99e-01 means 9* 10 raise -1 mean 0.9 means 1 almost(class 2)"
      ],
      "execution_count": 84,
      "outputs": [
        {
          "output_type": "execute_result",
          "data": {
            "text/plain": [
              "array([[3.7908554e-04],\n",
              "       [9.0930331e-01],\n",
              "       [9.9984086e-01],\n",
              "       [9.9565470e-01],\n",
              "       [9.9983490e-01],\n",
              "       [9.9959636e-01],\n",
              "       [9.9996203e-01],\n",
              "       [9.9963248e-01],\n",
              "       [9.9984139e-01],\n",
              "       [9.9999774e-01],\n",
              "       [1.3360757e-01],\n",
              "       [9.0938199e-01],\n",
              "       [9.9995273e-01],\n",
              "       [3.9876467e-01],\n",
              "       [6.1672926e-01],\n",
              "       [3.5178661e-04],\n",
              "       [9.9924588e-01],\n",
              "       [0.0000000e+00],\n",
              "       [1.0728836e-06],\n",
              "       [0.0000000e+00],\n",
              "       [4.1061640e-04],\n",
              "       [2.0244718e-04],\n",
              "       [9.9885559e-01],\n",
              "       [9.9859023e-01],\n",
              "       [1.0728836e-05],\n",
              "       [9.9989575e-01],\n",
              "       [9.9996877e-01],\n",
              "       [1.8514693e-03],\n",
              "       [9.9971527e-01],\n",
              "       [1.1920929e-07],\n",
              "       [9.9994379e-01],\n",
              "       [4.0829182e-06],\n",
              "       [9.6464384e-01],\n",
              "       [1.2519956e-04],\n",
              "       [9.9999714e-01],\n",
              "       [1.5130639e-04],\n",
              "       [9.9602842e-01],\n",
              "       [2.8520823e-05],\n",
              "       [9.9820215e-01],\n",
              "       [1.2615323e-04],\n",
              "       [1.6620338e-02],\n",
              "       [9.9991107e-01],\n",
              "       [2.2301733e-02],\n",
              "       [9.9991167e-01],\n",
              "       [9.9442720e-01],\n",
              "       [0.0000000e+00],\n",
              "       [9.9999589e-01],\n",
              "       [9.7393692e-01],\n",
              "       [9.9988103e-01],\n",
              "       [1.6391277e-06],\n",
              "       [2.3841858e-06],\n",
              "       [1.7116129e-02],\n",
              "       [2.0861626e-06],\n",
              "       [9.9970531e-01],\n",
              "       [9.9879676e-01],\n",
              "       [9.9988115e-01],\n",
              "       [9.9926651e-01],\n",
              "       [9.9893570e-01],\n",
              "       [9.8937094e-01],\n",
              "       [0.0000000e+00],\n",
              "       [2.9796362e-04],\n",
              "       [1.5020370e-04],\n",
              "       [9.9997735e-01],\n",
              "       [9.9940091e-01],\n",
              "       [2.2679567e-05],\n",
              "       [9.5458448e-01],\n",
              "       [0.0000000e+00],\n",
              "       [5.9604645e-08],\n",
              "       [2.9802322e-08],\n",
              "       [9.9955809e-01],\n",
              "       [6.9262105e-01],\n",
              "       [3.5762787e-07],\n",
              "       [9.9947149e-01],\n",
              "       [7.0004076e-02],\n",
              "       [5.9604645e-08],\n",
              "       [9.4455600e-01],\n",
              "       [9.9998045e-01],\n",
              "       [9.9641168e-01],\n",
              "       [9.9980599e-01],\n",
              "       [9.9970984e-01],\n",
              "       [1.4163852e-03],\n",
              "       [0.0000000e+00],\n",
              "       [2.6822090e-07],\n",
              "       [9.9991405e-01],\n",
              "       [1.1896491e-03],\n",
              "       [9.9996483e-01],\n",
              "       [9.9997628e-01],\n",
              "       [9.9999332e-01],\n",
              "       [2.8312206e-06],\n",
              "       [0.0000000e+00],\n",
              "       [9.9999195e-01],\n",
              "       [4.4123814e-01],\n",
              "       [6.5924478e-01],\n",
              "       [1.4901161e-07],\n",
              "       [9.9935484e-01],\n",
              "       [9.9934781e-01],\n",
              "       [0.0000000e+00],\n",
              "       [9.9836111e-01],\n",
              "       [9.9686658e-01],\n",
              "       [9.9849713e-01],\n",
              "       [9.9999750e-01],\n",
              "       [9.9831688e-01],\n",
              "       [9.9702024e-01],\n",
              "       [9.8258322e-01],\n",
              "       [2.4437904e-06],\n",
              "       [9.9937773e-01],\n",
              "       [0.0000000e+00],\n",
              "       [8.3530247e-01],\n",
              "       [2.6614255e-01],\n",
              "       [6.8684000e-01],\n",
              "       [9.9218470e-01],\n",
              "       [2.0861626e-07],\n",
              "       [2.4946169e-06],\n",
              "       [7.0788521e-01]], dtype=float32)"
            ]
          },
          "metadata": {
            "tags": []
          },
          "execution_count": 84
        }
      ]
    },
    {
      "metadata": {
        "id": "ATNYn_hpRi0M",
        "colab_type": "code",
        "colab": {
          "base_uri": "https://localhost:8080/",
          "height": 51
        },
        "outputId": "8e0199f9-d1bd-4d66-c8cc-1e9b134aae8b"
      },
      "cell_type": "code",
      "source": [
        "score=model.evaluate(x_test,y_test)\n",
        "score  #loss, accuracy"
      ],
      "execution_count": 85,
      "outputs": [
        {
          "output_type": "stream",
          "text": [
            "114/114 [==============================] - 0s 54us/step\n"
          ],
          "name": "stdout"
        },
        {
          "output_type": "execute_result",
          "data": {
            "text/plain": [
              "[0.06446244946697302, 0.9736842063435337]"
            ]
          },
          "metadata": {
            "tags": []
          },
          "execution_count": 85
        }
      ]
    },
    {
      "metadata": {
        "id": "AeFor7tWSIfJ",
        "colab_type": "code",
        "colab": {}
      },
      "cell_type": "code",
      "source": [
        ""
      ],
      "execution_count": 0,
      "outputs": []
    },
    {
      "metadata": {
        "id": "aYTmXsrTNwxT",
        "colab_type": "code",
        "colab": {}
      },
      "cell_type": "code",
      "source": [
        ""
      ],
      "execution_count": 0,
      "outputs": []
    },
    {
      "metadata": {
        "id": "tROotTkxSWiN",
        "colab_type": "text"
      },
      "cell_type": "markdown",
      "source": [
        "**Using keras for cnn**"
      ]
    },
    {
      "metadata": {
        "id": "SxCY8-BUSaDS",
        "colab_type": "code",
        "colab": {}
      },
      "cell_type": "code",
      "source": [
        "from keras.datasets import mnist"
      ],
      "execution_count": 0,
      "outputs": []
    },
    {
      "metadata": {
        "id": "osY_fDqHS2I-",
        "colab_type": "code",
        "colab": {}
      },
      "cell_type": "code",
      "source": [
        "#reshape images\n",
        "#read documentation or see eg , how to use keras for cnn or how to use keras\n",
        "#on mnist"
      ],
      "execution_count": 0,
      "outputs": []
    },
    {
      "metadata": {
        "id": "5T_TX-CFTP-B",
        "colab_type": "code",
        "colab": {}
      },
      "cell_type": "code",
      "source": [
        "#use drop-out layer for regularisation"
      ],
      "execution_count": 0,
      "outputs": []
    },
    {
      "metadata": {
        "id": "uRsaWYA3TVJG",
        "colab_type": "code",
        "colab": {}
      },
      "cell_type": "code",
      "source": [
        "#flatten data before using dense layer.  there is flatten() fn or layer\n",
        "#for this"
      ],
      "execution_count": 0,
      "outputs": []
    },
    {
      "metadata": {
        "id": "9TJuYNEjTfvd",
        "colab_type": "code",
        "colab": {
          "base_uri": "https://localhost:8080/",
          "height": 51
        },
        "outputId": "f52e5c33-24fb-4543-8762-1f1668bfeeb3"
      },
      "cell_type": "code",
      "source": [
        "\n",
        "data=mnist.load_data()"
      ],
      "execution_count": 93,
      "outputs": [
        {
          "output_type": "stream",
          "text": [
            "Downloading data from https://s3.amazonaws.com/img-datasets/mnist.npz\n",
            "11493376/11490434 [==============================] - 1s 0us/step\n"
          ],
          "name": "stdout"
        }
      ]
    },
    {
      "metadata": {
        "id": "pILXF77OU8_0",
        "colab_type": "code",
        "colab": {
          "base_uri": "https://localhost:8080/",
          "height": 1717
        },
        "outputId": "06e49c88-7a2a-4136-9e27-c3a80f1a6ec9"
      },
      "cell_type": "code",
      "source": [
        "data"
      ],
      "execution_count": 94,
      "outputs": [
        {
          "output_type": "execute_result",
          "data": {
            "text/plain": [
              "((array([[[0, 0, 0, ..., 0, 0, 0],\n",
              "          [0, 0, 0, ..., 0, 0, 0],\n",
              "          [0, 0, 0, ..., 0, 0, 0],\n",
              "          ...,\n",
              "          [0, 0, 0, ..., 0, 0, 0],\n",
              "          [0, 0, 0, ..., 0, 0, 0],\n",
              "          [0, 0, 0, ..., 0, 0, 0]],\n",
              "  \n",
              "         [[0, 0, 0, ..., 0, 0, 0],\n",
              "          [0, 0, 0, ..., 0, 0, 0],\n",
              "          [0, 0, 0, ..., 0, 0, 0],\n",
              "          ...,\n",
              "          [0, 0, 0, ..., 0, 0, 0],\n",
              "          [0, 0, 0, ..., 0, 0, 0],\n",
              "          [0, 0, 0, ..., 0, 0, 0]],\n",
              "  \n",
              "         [[0, 0, 0, ..., 0, 0, 0],\n",
              "          [0, 0, 0, ..., 0, 0, 0],\n",
              "          [0, 0, 0, ..., 0, 0, 0],\n",
              "          ...,\n",
              "          [0, 0, 0, ..., 0, 0, 0],\n",
              "          [0, 0, 0, ..., 0, 0, 0],\n",
              "          [0, 0, 0, ..., 0, 0, 0]],\n",
              "  \n",
              "         ...,\n",
              "  \n",
              "         [[0, 0, 0, ..., 0, 0, 0],\n",
              "          [0, 0, 0, ..., 0, 0, 0],\n",
              "          [0, 0, 0, ..., 0, 0, 0],\n",
              "          ...,\n",
              "          [0, 0, 0, ..., 0, 0, 0],\n",
              "          [0, 0, 0, ..., 0, 0, 0],\n",
              "          [0, 0, 0, ..., 0, 0, 0]],\n",
              "  \n",
              "         [[0, 0, 0, ..., 0, 0, 0],\n",
              "          [0, 0, 0, ..., 0, 0, 0],\n",
              "          [0, 0, 0, ..., 0, 0, 0],\n",
              "          ...,\n",
              "          [0, 0, 0, ..., 0, 0, 0],\n",
              "          [0, 0, 0, ..., 0, 0, 0],\n",
              "          [0, 0, 0, ..., 0, 0, 0]],\n",
              "  \n",
              "         [[0, 0, 0, ..., 0, 0, 0],\n",
              "          [0, 0, 0, ..., 0, 0, 0],\n",
              "          [0, 0, 0, ..., 0, 0, 0],\n",
              "          ...,\n",
              "          [0, 0, 0, ..., 0, 0, 0],\n",
              "          [0, 0, 0, ..., 0, 0, 0],\n",
              "          [0, 0, 0, ..., 0, 0, 0]]], dtype=uint8),\n",
              "  array([5, 0, 4, ..., 5, 6, 8], dtype=uint8)),\n",
              " (array([[[0, 0, 0, ..., 0, 0, 0],\n",
              "          [0, 0, 0, ..., 0, 0, 0],\n",
              "          [0, 0, 0, ..., 0, 0, 0],\n",
              "          ...,\n",
              "          [0, 0, 0, ..., 0, 0, 0],\n",
              "          [0, 0, 0, ..., 0, 0, 0],\n",
              "          [0, 0, 0, ..., 0, 0, 0]],\n",
              "  \n",
              "         [[0, 0, 0, ..., 0, 0, 0],\n",
              "          [0, 0, 0, ..., 0, 0, 0],\n",
              "          [0, 0, 0, ..., 0, 0, 0],\n",
              "          ...,\n",
              "          [0, 0, 0, ..., 0, 0, 0],\n",
              "          [0, 0, 0, ..., 0, 0, 0],\n",
              "          [0, 0, 0, ..., 0, 0, 0]],\n",
              "  \n",
              "         [[0, 0, 0, ..., 0, 0, 0],\n",
              "          [0, 0, 0, ..., 0, 0, 0],\n",
              "          [0, 0, 0, ..., 0, 0, 0],\n",
              "          ...,\n",
              "          [0, 0, 0, ..., 0, 0, 0],\n",
              "          [0, 0, 0, ..., 0, 0, 0],\n",
              "          [0, 0, 0, ..., 0, 0, 0]],\n",
              "  \n",
              "         ...,\n",
              "  \n",
              "         [[0, 0, 0, ..., 0, 0, 0],\n",
              "          [0, 0, 0, ..., 0, 0, 0],\n",
              "          [0, 0, 0, ..., 0, 0, 0],\n",
              "          ...,\n",
              "          [0, 0, 0, ..., 0, 0, 0],\n",
              "          [0, 0, 0, ..., 0, 0, 0],\n",
              "          [0, 0, 0, ..., 0, 0, 0]],\n",
              "  \n",
              "         [[0, 0, 0, ..., 0, 0, 0],\n",
              "          [0, 0, 0, ..., 0, 0, 0],\n",
              "          [0, 0, 0, ..., 0, 0, 0],\n",
              "          ...,\n",
              "          [0, 0, 0, ..., 0, 0, 0],\n",
              "          [0, 0, 0, ..., 0, 0, 0],\n",
              "          [0, 0, 0, ..., 0, 0, 0]],\n",
              "  \n",
              "         [[0, 0, 0, ..., 0, 0, 0],\n",
              "          [0, 0, 0, ..., 0, 0, 0],\n",
              "          [0, 0, 0, ..., 0, 0, 0],\n",
              "          ...,\n",
              "          [0, 0, 0, ..., 0, 0, 0],\n",
              "          [0, 0, 0, ..., 0, 0, 0],\n",
              "          [0, 0, 0, ..., 0, 0, 0]]], dtype=uint8),\n",
              "  array([7, 2, 1, ..., 4, 5, 6], dtype=uint8)))"
            ]
          },
          "metadata": {
            "tags": []
          },
          "execution_count": 94
        }
      ]
    },
    {
      "metadata": {
        "id": "0gqNYRY5U-M2",
        "colab_type": "code",
        "colab": {}
      },
      "cell_type": "code",
      "source": [
        ""
      ],
      "execution_count": 0,
      "outputs": []
    },
    {
      "metadata": {
        "id": "AYCi1Mu0TY6k",
        "colab_type": "code",
        "colab": {}
      },
      "cell_type": "code",
      "source": [
        "(X_train,y_train),(X_test,y_test)=data  #since data was in form of this 2d array\n"
      ],
      "execution_count": 0,
      "outputs": []
    },
    {
      "metadata": {
        "id": "ZJV4wHZwVIKV",
        "colab_type": "code",
        "colab": {}
      },
      "cell_type": "code",
      "source": [
        "import matplotlib.pyplot as plt"
      ],
      "execution_count": 0,
      "outputs": []
    },
    {
      "metadata": {
        "id": "PFiF7V7BVk1R",
        "colab_type": "code",
        "colab": {
          "base_uri": "https://localhost:8080/",
          "height": 286
        },
        "outputId": "909fd741-3bdd-4ace-de30-b9874ff6de7e"
      },
      "cell_type": "code",
      "source": [
        "plt.imshow(X_train[0])"
      ],
      "execution_count": 100,
      "outputs": [
        {
          "output_type": "execute_result",
          "data": {
            "text/plain": [
              "<matplotlib.image.AxesImage at 0x7f4a822a19e8>"
            ]
          },
          "metadata": {
            "tags": []
          },
          "execution_count": 100
        },
        {
          "output_type": "display_data",
          "data": {
            "image/png": "[encoded data removed]",
            "text/plain": [
              "<Figure size 432x288 with 1 Axes>"
            ]
          },
          "metadata": {
            "tags": []
          }
        }
      ]
    },
    {
      "metadata": {
        "id": "tVBOET37Vnye",
        "colab_type": "code",
        "colab": {
          "base_uri": "https://localhost:8080/",
          "height": 286
        },
        "outputId": "6bab2c2c-8b2d-4c03-a083-c063ad0dee73"
      },
      "cell_type": "code",
      "source": [
        "plt.imshow(X_train[1])"
      ],
      "execution_count": 101,
      "outputs": [
        {
          "output_type": "execute_result",
          "data": {
            "text/plain": [
              "<matplotlib.image.AxesImage at 0x7f4a8022c9e8>"
            ]
          },
          "metadata": {
            "tags": []
          },
          "execution_count": 101
        },
        {
          "output_type": "display_data",
          "data": {
            "image/png": "[encoded data removed]",
            "text/plain": [
              "<Figure size 432x288 with 1 Axes>"
            ]
          },
          "metadata": {
            "tags": []
          }
        }
      ]
    },
    {
      "metadata": {
        "id": "jd2Qe0DkVrZu",
        "colab_type": "code",
        "colab": {
          "base_uri": "https://localhost:8080/",
          "height": 286
        },
        "outputId": "40a9a398-673f-4246-da11-0ddf7d3b5dae"
      },
      "cell_type": "code",
      "source": [
        "plt.imshow(X_train[2])"
      ],
      "execution_count": 102,
      "outputs": [
        {
          "output_type": "execute_result",
          "data": {
            "text/plain": [
              "<matplotlib.image.AxesImage at 0x7f4a82361ac8>"
            ]
          },
          "metadata": {
            "tags": []
          },
          "execution_count": 102
        },
        {
          "output_type": "display_data",
          "data": {
            "image/png": "[encoded data removed]",
            "text/plain": [
              "<Figure size 432x288 with 1 Axes>"
            ]
          },
          "metadata": {
            "tags": []
          }
        }
      ]
    },
    {
      "metadata": {
        "id": "-nVQVf2TVuGG",
        "colab_type": "code",
        "colab": {
          "base_uri": "https://localhost:8080/",
          "height": 286
        },
        "outputId": "ed3d61b3-7b55-42de-e170-5b8aca0392de"
      },
      "cell_type": "code",
      "source": [
        "plt.imshow(X_train[3])"
      ],
      "execution_count": 103,
      "outputs": [
        {
          "output_type": "execute_result",
          "data": {
            "text/plain": [
              "<matplotlib.image.AxesImage at 0x7f4a801c8908>"
            ]
          },
          "metadata": {
            "tags": []
          },
          "execution_count": 103
        },
        {
          "output_type": "display_data",
          "data": {
            "image/png": "[encoded data removed]",
            "text/plain": [
              "<Figure size 432x288 with 1 Axes>"
            ]
          },
          "metadata": {
            "tags": []
          }
        }
      ]
    },
    {
      "metadata": {
        "id": "ci3823O4Vvx-",
        "colab_type": "code",
        "colab": {}
      },
      "cell_type": "code",
      "source": [
        ""
      ],
      "execution_count": 0,
      "outputs": []
    },
    {
      "metadata": {
        "id": "ab9MwyrsVQwe",
        "colab_type": "code",
        "colab": {
          "base_uri": "https://localhost:8080/",
          "height": 34
        },
        "outputId": "f5169711-e5bc-4e5c-f7a9-febe87ddea1e"
      },
      "cell_type": "code",
      "source": [
        "X_train[0].shape   #i.e 28 by 28 pixels"
      ],
      "execution_count": 104,
      "outputs": [
        {
          "output_type": "execute_result",
          "data": {
            "text/plain": [
              "(28, 28)"
            ]
          },
          "metadata": {
            "tags": []
          },
          "execution_count": 104
        }
      ]
    },
    {
      "metadata": {
        "id": "FG7Jd3QrVzzi",
        "colab_type": "code",
        "colab": {}
      },
      "cell_type": "code",
      "source": [
        "#so reshape to rgb form 28*28*1, since Xtrain has 60,000 img, X_test has\n",
        "#10,000 img so"
      ],
      "execution_count": 0,
      "outputs": []
    },
    {
      "metadata": {
        "id": "KtF1NEJqWDQj",
        "colab_type": "code",
        "colab": {}
      },
      "cell_type": "code",
      "source": [
        "X_train=X_train.reshape(60000,28,28,1)\n",
        "X_test=X_test.reshape(10000,28,28,1)"
      ],
      "execution_count": 0,
      "outputs": []
    },
    {
      "metadata": {
        "id": "KVtaDSDyWPRk",
        "colab_type": "code",
        "colab": {}
      },
      "cell_type": "code",
      "source": [
        "from keras.utils import to_categorical"
      ],
      "execution_count": 0,
      "outputs": []
    },
    {
      "metadata": {
        "id": "NoXbhqACWVJ8",
        "colab_type": "code",
        "colab": {}
      },
      "cell_type": "code",
      "source": [
        "#one hot encode target column"
      ],
      "execution_count": 0,
      "outputs": []
    },
    {
      "metadata": {
        "id": "Uw8_rTdMWYJU",
        "colab_type": "code",
        "colab": {}
      },
      "cell_type": "code",
      "source": [
        "y_train= to_categorical(y_train)\n",
        "y_test=to_categorical(y_test)"
      ],
      "execution_count": 0,
      "outputs": []
    },
    {
      "metadata": {
        "id": "oDlp1UfHWenv",
        "colab_type": "code",
        "colab": {
          "base_uri": "https://localhost:8080/",
          "height": 34
        },
        "outputId": "865cd393-6a24-42c0-f1a0-133eed1e0d05"
      },
      "cell_type": "code",
      "source": [
        "y_train[0]    #one hot encoded"
      ],
      "execution_count": 110,
      "outputs": [
        {
          "output_type": "execute_result",
          "data": {
            "text/plain": [
              "array([0., 0., 0., 0., 0., 1., 0., 0., 0., 0.], dtype=float32)"
            ]
          },
          "metadata": {
            "tags": []
          },
          "execution_count": 110
        }
      ]
    },
    {
      "metadata": {
        "id": "eSdL6SncWgWn",
        "colab_type": "code",
        "colab": {}
      },
      "cell_type": "code",
      "source": [
        ""
      ],
      "execution_count": 0,
      "outputs": []
    },
    {
      "metadata": {
        "id": "FbMoQirRVOcG",
        "colab_type": "code",
        "colab": {}
      },
      "cell_type": "code",
      "source": [
        "#Now building the model"
      ],
      "execution_count": 0,
      "outputs": []
    },
    {
      "metadata": {
        "id": "rwnyr-yfWlWC",
        "colab_type": "code",
        "colab": {}
      },
      "cell_type": "code",
      "source": [
        "from keras.models import Sequential"
      ],
      "execution_count": 0,
      "outputs": []
    },
    {
      "metadata": {
        "id": "VARbx1S2Woaj",
        "colab_type": "code",
        "colab": {}
      },
      "cell_type": "code",
      "source": [
        "from keras.layers import Dense, Conv2D,Flatten\n",
        "\n",
        "#since for using keras \n",
        "#for cnn, we need hidden layer/dense layer as usual , + we need convolution layer\n",
        "# i.e Conv2D, also we need Flatten layer to flatten these images"
      ],
      "execution_count": 0,
      "outputs": []
    },
    {
      "metadata": {
        "id": "6WtGtQ7UW_LG",
        "colab_type": "code",
        "colab": {}
      },
      "cell_type": "code",
      "source": [
        "model=Sequential()"
      ],
      "execution_count": 0,
      "outputs": []
    },
    {
      "metadata": {
        "id": "UIcq4NcCXB3Q",
        "colab_type": "code",
        "colab": {}
      },
      "cell_type": "code",
      "source": [
        "#no of units in convolution layer1= 64, activation fn=relu, input layer for\n",
        "#this layer is a image of size 28*28*1, filter size is 3 * 3, i.e kernel size=3\n",
        "\n",
        "model.add(Conv2D(64,kernel_size=3,activation='relu',input_shape=(28,28,1)))"
      ],
      "execution_count": 0,
      "outputs": []
    },
    {
      "metadata": {
        "id": "KqiaIdKtXOiJ",
        "colab_type": "code",
        "colab": {}
      },
      "cell_type": "code",
      "source": [
        "#similary adding second convolution layer with 32 units\n",
        "\n",
        "model.add(Conv2D(32,kernel_size=3,activation='relu'))"
      ],
      "execution_count": 0,
      "outputs": []
    },
    {
      "metadata": {
        "id": "UdK-LepmXs9A",
        "colab_type": "code",
        "colab": {}
      },
      "cell_type": "code",
      "source": [
        "model.add(Flatten())"
      ],
      "execution_count": 0,
      "outputs": []
    },
    {
      "metadata": {
        "id": "tV0e-iGaXxj3",
        "colab_type": "code",
        "colab": {}
      },
      "cell_type": "code",
      "source": [
        "model.add(Dense(10,activation='softmax'))   #adding hidden/dense layer with\n",
        "#activation fn as softmax"
      ],
      "execution_count": 0,
      "outputs": []
    },
    {
      "metadata": {
        "id": "Zfy4UEPMX2nW",
        "colab_type": "code",
        "colab": {}
      },
      "cell_type": "code",
      "source": [
        "model.compile(optimizer='adam',loss='categorical_crossentropy',metrics=['accuracy'])"
      ],
      "execution_count": 0,
      "outputs": []
    },
    {
      "metadata": {
        "id": "k5_T9QVUYHzd",
        "colab_type": "code",
        "colab": {
          "base_uri": "https://localhost:8080/",
          "height": 153
        },
        "outputId": "d0d754da-ef45-47c0-8489-f56fdae42145"
      },
      "cell_type": "code",
      "source": [
        "model.fit(X_train,y_train,validation_data=(X_test,y_test),epochs=3)"
      ],
      "execution_count": 123,
      "outputs": [
        {
          "output_type": "stream",
          "text": [
            "Train on 60000 samples, validate on 10000 samples\n",
            "Epoch 1/3\n",
            "60000/60000 [==============================] - 208s 3ms/step - loss: 0.1327 - acc: 0.9611 - val_loss: 0.0901 - val_acc: 0.9733\n",
            "Epoch 2/3\n",
            "60000/60000 [==============================] - 210s 3ms/step - loss: 0.0625 - acc: 0.9813 - val_loss: 0.0747 - val_acc: 0.9779\n",
            "Epoch 3/3\n",
            "60000/60000 [==============================] - 208s 3ms/step - loss: 0.0448 - acc: 0.9862 - val_loss: 0.0809 - val_acc: 0.9781\n"
          ],
          "name": "stdout"
        },
        {
          "output_type": "execute_result",
          "data": {
            "text/plain": [
              "<keras.callbacks.History at 0x7f4a80162b70>"
            ]
          },
          "metadata": {
            "tags": []
          },
          "execution_count": 123
        }
      ]
    },
    {
      "metadata": {
        "id": "c73GzQviYXaN",
        "colab_type": "code",
        "colab": {}
      },
      "cell_type": "code",
      "source": [
        ""
      ],
      "execution_count": 0,
      "outputs": []
    },
    {
      "metadata": {
        "id": "4ipY0ce0YRBe",
        "colab_type": "code",
        "colab": {}
      },
      "cell_type": "code",
      "source": [
        ""
      ],
      "execution_count": 0,
      "outputs": []
    },
    {
      "metadata": {
        "id": "sp_yxm61W-VK",
        "colab_type": "code",
        "colab": {}
      },
      "cell_type": "code",
      "source": [
        ""
      ],
      "execution_count": 0,
      "outputs": []
    },
    {
      "metadata": {
        "id": "PNnYLlIAWtZw",
        "colab_type": "code",
        "colab": {}
      },
      "cell_type": "code",
      "source": [
        ""
      ],
      "execution_count": 0,
      "outputs": []
    },
    {
      "metadata": {
        "id": "0SiF-cICVLik",
        "colab_type": "code",
        "colab": {}
      },
      "cell_type": "code",
      "source": [
        ""
      ],
      "execution_count": 0,
      "outputs": []
    },
    {
      "metadata": {
        "id": "wLTUvD4GS9gQ",
        "colab_type": "code",
        "colab": {}
      },
      "cell_type": "code",
      "source": [
        ""
      ],
      "execution_count": 0,
      "outputs": []
    },
    {
      "metadata": {
        "id": "HeIo33lfSlKn",
        "colab_type": "code",
        "colab": {}
      },
      "cell_type": "code",
      "source": [
        ""
      ],
      "execution_count": 0,
      "outputs": []
    },
    {
      "metadata": {
        "id": "f6xAqAG1SlUO",
        "colab_type": "code",
        "colab": {}
      },
      "cell_type": "code",
      "source": [
        ""
      ],
      "execution_count": 0,
      "outputs": []
    }
  ]
}