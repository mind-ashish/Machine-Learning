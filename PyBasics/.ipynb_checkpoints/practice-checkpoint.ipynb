{
 "cells": [
  {
   "cell_type": "code",
   "execution_count": 14,
   "metadata": {},
   "outputs": [
    {
     "name": "stdout",
     "output_type": "stream",
     "text": [
      "True\n",
      "[1, 2, 5, 3]\n",
      "5\n",
      "[0, 0, 0, 0, 0]\n",
      "1\n",
      "[1]\n",
      "[[0, 0, 0, 0, 0], [0, 0, 0, 0, 0], [0, 0, 0, 0, 0]]\n",
      "1 2 3 4 5\n",
      "3 2 1 45 6\n",
      "2 1 3 4 5\n",
      "1 2 3 4 5 \n",
      "3 2 1 45 6 \n",
      "2 1 3 4 5 \n"
     ]
    }
   ],
   "source": [
    "#Lists.\n",
    "\n",
    "l=[1,2,3]\n",
    "hold= 2 in l\n",
    "print(hold)\n",
    "\n",
    "l.insert(2,5)\n",
    "print(l)\n",
    "\n",
    "i=max(l)\n",
    "print(i)\n",
    "\n",
    "#input in one line. method1\n",
    "# n=int(input())\n",
    "# j=input().split()\n",
    "# i=0\n",
    "# l=[]\n",
    "# while i<n:\n",
    "#     l.append(int(j[i]))\n",
    "# print(l)\n",
    "\n",
    "\n",
    "\n",
    "#just like\n",
    "l=[0 for i in range(5)]      #make a list of five elements with each elemnt as 0. store it in l list var.\n",
    "print(l)\n",
    "\n",
    "#input in one line. method2\n",
    "l=[int(i) for i in input().split()]   #take string input, split it. so input().split() returns a list of string elementes.\n",
    "print(l)   #for each i in this list convert it to int(i) & final list store in l.\n",
    "    \n",
    "#2d list\n",
    "l=[[0 for i in range(5)] for j in range(3)]    #basically we did [x for j in range(3)], here x= [0 for i in range(5)].so\n",
    "                                                #made 3 rows/entry. each element of entry/row is a column/entry of size 5.\n",
    "print(l)                                        #so array of 3 row, 5 col is made\n",
    "\n",
    "l=[[int(j) for j in input().split()] for i in range(3)]  #[x for i in range(3)] , x=[int(j) for j in input.split()]\n",
    "                                                           #3 row inputs, each row has 5 col inputs.\n",
    "for i in range(3):\n",
    "    for j in range(5):\n",
    "        print(l[i][j],end=\" \")\n",
    "    print()"
   ]
  }
 ],
 "metadata": {
  "kernelspec": {
   "display_name": "Python 3",
   "language": "python",
   "name": "python3"
  },
  "language_info": {
   "codemirror_mode": {
    "name": "ipython",
    "version": 3
   },
   "file_extension": ".py",
   "mimetype": "text/x-python",
   "name": "python",
   "nbconvert_exporter": "python",
   "pygments_lexer": "ipython3",
   "version": "3.7.1"
  }
 },
 "nbformat": 4,
 "nbformat_minor": 2
}
