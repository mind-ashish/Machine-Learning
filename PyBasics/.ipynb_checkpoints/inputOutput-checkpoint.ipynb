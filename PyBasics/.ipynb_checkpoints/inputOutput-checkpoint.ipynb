{
 "cells": [
  {
   "cell_type": "code",
   "execution_count": 3,
   "metadata": {},
   "outputs": [
    {
     "name": "stdout",
     "output_type": "stream",
     "text": [
      "5\n",
      "5\n",
      "5\n",
      "5\n",
      "5\n",
      "3\n",
      "1\n",
      "3\n",
      "5 3 1 3 \n",
      "5\n",
      "3\n",
      "1\n",
      "3\n",
      "12\n",
      "12\n",
      "12\n",
      "12\n",
      "12\n",
      "5\n"
     ]
    }
   ],
   "source": [
    "#and or not\n",
    "a=5\n",
    "if a>3 or a<25:\n",
    "    print(a)\n",
    "if not(a<3):\n",
    "    print(a)\n",
    "if a>0 and a<6:\n",
    "    print(a)\n",
    "if a==5:\n",
    "    print(a)\n",
    "\n",
    "    ##Input and output\n",
    "a=[5,3,1,3]\n",
    "for i in a:\n",
    "    print(i)\n",
    "for i in a:\n",
    "    print(i,end=' ')\n",
    "\n",
    "print() ##to again start line print\n",
    "for i in a:\n",
    "    print(i)\n",
    "\n",
    "    \n",
    "a=input()  #it takes string input always    \n",
    "print(a)\n",
    "a= int(input())  ##for taking numeric input\n",
    "if a>3 or a<25:\n",
    "    print(a)\n",
    "if not(a<3):\n",
    "    print(a)\n",
    "if a>0 and a<6:\n",
    "    print(a)\n",
    "if a==5:\n",
    "    print(a)\n",
    "\n",
    "    \n",
    "\n",
    "\n",
    "a=5\n",
    "print(a)\n",
    "\n",
    "\n",
    "\n"
   ]
  },
  {
   "cell_type": "code",
   "execution_count": null,
   "metadata": {},
   "outputs": [],
   "source": []
  },
  {
   "cell_type": "code",
   "execution_count": null,
   "metadata": {},
   "outputs": [],
   "source": []
  }
 ],
 "metadata": {
  "kernelspec": {
   "display_name": "Python 3",
   "language": "python",
   "name": "python3"
  },
  "language_info": {
   "codemirror_mode": {
    "name": "ipython",
    "version": 3
   },
   "file_extension": ".py",
   "mimetype": "text/x-python",
   "name": "python",
   "nbconvert_exporter": "python",
   "pygments_lexer": "ipython3",
   "version": "3.7.1"
  }
 },
 "nbformat": 4,
 "nbformat_minor": 2
}
