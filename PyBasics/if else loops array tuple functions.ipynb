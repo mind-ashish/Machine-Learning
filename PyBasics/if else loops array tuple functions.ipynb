{
 "cells": [
  {
   "cell_type": "code",
   "execution_count": 17,
   "metadata": {},
   "outputs": [
    {
     "name": "stdout",
     "output_type": "stream",
     "text": [
      "10\n",
      "10\n",
      "1\n",
      "2\n",
      "3\n",
      "4\n",
      "5\n",
      "0\n",
      "1\n",
      "2\n",
      "3\n",
      "4\n",
      "5\n",
      "6\n",
      "7\n",
      "8\n",
      "9\n",
      "10\n",
      "11\n",
      "144\n",
      "121\n",
      "100\n",
      "81\n",
      "64\n",
      "49\n",
      "36\n",
      "25\n",
      "16\n",
      "9\n",
      "4\n",
      "1\n",
      "3\n",
      "2\n",
      "1\n"
     ]
    },
    {
     "data": {
      "text/plain": [
       "[1, 2, 3, 4, 5, 6, 7, 8, 9, 10]"
      ]
     },
     "execution_count": 17,
     "metadata": {},
     "output_type": "execute_result"
    }
   ],
   "source": [
    "##if else\n",
    "a=5\n",
    "b=10\n",
    "if a>b :\n",
    "    print(a)\n",
    "print(b)       #can use else: also, or use indentation as here.\n",
    "\n",
    "#if else & else-if\n",
    "if a>b or b>12 :\n",
    "    print(\"hi\")\n",
    "elif b>a :\n",
    "    print(b)\n",
    "else :\n",
    "    print(a)\n",
    "    \n",
    "a=[1,2,3,4,5]   #array\n",
    "a\n",
    "#for loop on seq\n",
    "for i in a:\n",
    "    print(i)\n",
    "\n",
    "#for loop on range\n",
    "\n",
    "for i in range(0,12,1):\n",
    "    print(i)\n",
    "for i in range(12,0,-1):  \n",
    "    print(i*i)   #print 12*12.... 1*!\n",
    "\n",
    "##while loop\n",
    "i=3\n",
    "while i>0 :\n",
    "    print(i)\n",
    "    i-=1    ##i++ & i-- not allowed in python\n",
    "\n",
    "\n",
    "##array/list & tuples\n",
    "a=[1,2,3,4]   #array/list, mutable\n",
    "b=(1,3,5,12)  #tuple, it is immutable\n",
    "b+(4,5)\n",
    "a[0]=13\n",
    "a\n",
    "#b[0]=13  ,not allowed since immutable\n",
    "\n",
    "###functions\n",
    "\n",
    "def sum(a,b,c=0):\n",
    "    return a+b+c\n",
    "sum(1,2)\n",
    "\n",
    "def sum(a,b, *grp):\n",
    "    ans=a+b\n",
    "    for i in grp:\n",
    "        ans+=i\n",
    "    return ans\n",
    "sum(5,6,7,8,9,9,1)\n",
    "\n",
    "def multipleoutput(a,b):\n",
    "    return a,b,5\n",
    "a,b,c=multipleoutput(1,2)  #return in form of tuple\n",
    "a,b,c\n",
    "\n",
    "[i+1 for i in range(10)]  #means index 0-9 a list is made with each en\n"
   ]
  }
 ],
 "metadata": {
  "kernelspec": {
   "display_name": "Python 3",
   "language": "python",
   "name": "python3"
  },
  "language_info": {
   "codemirror_mode": {
    "name": "ipython",
    "version": 3
   },
   "file_extension": ".py",
   "mimetype": "text/x-python",
   "name": "python",
   "nbconvert_exporter": "python",
   "pygments_lexer": "ipython3",
   "version": "3.7.1"
  }
 },
 "nbformat": 4,
 "nbformat_minor": 2
}
