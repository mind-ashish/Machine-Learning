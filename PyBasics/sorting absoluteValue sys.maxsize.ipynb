{
 "cells": [
  {
   "cell_type": "code",
   "execution_count": 8,
   "metadata": {},
   "outputs": [
    {
     "name": "stdout",
     "output_type": "stream",
     "text": [
      "[1, 3, 5, 7, 9, 12, 17, 21]\n",
      "[21, 17, 12, 9, 7, 5, 3, 1]\n",
      "10 -10 5\n"
     ]
    }
   ],
   "source": [
    "##1.sorting\n",
    "list=[1,5,9,3,7,21,12]\n",
    "list.append(17)\n",
    "list.sort()  ##only for lists/array , not for tuple\n",
    "print(list)\n",
    "\n",
    "list.sort(reverse=True) #sort in descending\n",
    "print(list)\n",
    "\n",
    "\n",
    "#2.absolute value\n",
    "a,b=5,15\n",
    "c=abs(a-b)\n",
    "d=a-b\n",
    "print(c,d,sep=\" \",end=\" \")\n",
    "\n",
    "##3. int max ,int min doesn't exist so initialise with arr[0], or use sys.maxsize\n",
    "import sys   ##need to import sys to use sys.maxsize\n",
    "min= sys.maxsize\n",
    "a=5\n",
    "if a<min:\n",
    "    min=a\n",
    "print(min)"
   ]
  }
 ],
 "metadata": {
  "kernelspec": {
   "display_name": "Python 3",
   "language": "python",
   "name": "python3"
  },
  "language_info": {
   "codemirror_mode": {
    "name": "ipython",
    "version": 3
   },
   "file_extension": ".py",
   "mimetype": "text/x-python",
   "name": "python",
   "nbconvert_exporter": "python",
   "pygments_lexer": "ipython3",
   "version": "3.7.1"
  }
 },
 "nbformat": 4,
 "nbformat_minor": 2
}
