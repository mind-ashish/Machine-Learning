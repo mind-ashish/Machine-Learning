{
 "cells": [
  {
   "cell_type": "code",
   "execution_count": 21,
   "metadata": {},
   "outputs": [
    {
     "name": "stdout",
     "output_type": "stream",
     "text": [
      "2\n",
      "4503388872\n",
      "[1, 2, 3, [2, 3], 1, 2, 3, [2, 3]]\n",
      "[1, 2, 3, [2, 3], 1, 2, 3, [2, 3], 1, 2, 3, [2, 3]]\n",
      "False\n",
      "[1, 2, 3, [2, 3], 1, 2, 3, [2, 3], 1, 2, 3, [2, 3]]\n",
      "[1, 5, 2, 3]\n",
      "[]\n",
      "1 2 3\n"
     ]
    },
    {
     "data": {
      "text/plain": [
       "[[0, 0, 0, 0, 0],\n",
       " [0, 0, 0, 0, 0],\n",
       " [0, 0, 0, 0, 0],\n",
       " [0, 0, 0, 0, 0],\n",
       " [0, 0, 0, 0, 0],\n",
       " [0, 0, 0, 0, 0],\n",
       " [0, 0, 0, 0, 0],\n",
       " [0, 0, 0, 0, 0],\n",
       " [0, 0, 0, 0, 0],\n",
       " [0, 0, 0, 0, 0]]"
      ]
     },
     "execution_count": 21,
     "metadata": {},
     "output_type": "execute_result"
    }
   ],
   "source": [
    "#list are dynamic arrays\n",
    "l=[1,2,3]\n",
    "l.append([2,3])\n",
    "print(l[3][0])\n",
    "print(id(l))\n",
    "\n",
    "#to join two lists\n",
    "a=l+l\n",
    "print(a)\n",
    "\n",
    "l=l*3  #to do l=l+l+l\n",
    "print(l)\n",
    "\n",
    "#to check if i is present in l\n",
    "i=5\n",
    "hold=i in l\n",
    "print(hold)\n",
    "\n",
    "[3*j for j in l]   #to multiply each element in l by 3.\n",
    "print(l)\n",
    "\n",
    "#append at ith position\n",
    "l=[1,2,3]\n",
    "l.insert(1,5)\n",
    "print(l)\n",
    "\n",
    "l=list()\n",
    "print(l)\n",
    "\n",
    "l=[4,5]\n",
    "max(l)\n",
    "\n",
    "#list input in one line\n",
    "#[int(i) for i in input().split()]\n",
    "\n",
    "#to make 2d list\n",
    "[[0 for i in range(5)] for j in range(10)]"
   ]
  }
 ],
 "metadata": {
  "kernelspec": {
   "display_name": "Python 3",
   "language": "python",
   "name": "python3"
  },
  "language_info": {
   "codemirror_mode": {
    "name": "ipython",
    "version": 3
   },
   "file_extension": ".py",
   "mimetype": "text/x-python",
   "name": "python",
   "nbconvert_exporter": "python",
   "pygments_lexer": "ipython3",
   "version": "3.7.1"
  }
 },
 "nbformat": 4,
 "nbformat_minor": 2
}
