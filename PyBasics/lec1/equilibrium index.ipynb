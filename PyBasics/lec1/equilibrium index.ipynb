{
 "cells": [
  {
   "cell_type": "code",
   "execution_count": 3,
   "metadata": {},
   "outputs": [
    {
     "name": "stdout",
     "output_type": "stream",
     "text": [
      "7\n",
      "-7 1 5 2 -4 3 0\n",
      "3\n"
     ]
    }
   ],
   "source": [
    "n=int(input())\n",
    "l=input().split()\n",
    "list=[]\n",
    "for i in range(n):\n",
    "    list.append(int(l[i]))\n",
    "i=0\n",
    "ans=-1\n",
    "while i<n:\n",
    "    sum1,sum2=0,0\n",
    "    j=0\n",
    "    while j<i:\n",
    "        sum1+=list[j]\n",
    "        j+=1\n",
    "    j=i+1\n",
    "    while j<n:\n",
    "        sum2+=list[j]\n",
    "        j+=1\n",
    "    if sum1==sum2:\n",
    "        ans=i\n",
    "        break\n",
    "    i+=1\n",
    "print(ans)"
   ]
  },
  {
   "cell_type": "code",
   "execution_count": null,
   "metadata": {},
   "outputs": [],
   "source": []
  }
 ],
 "metadata": {
  "kernelspec": {
   "display_name": "Python 3",
   "language": "python",
   "name": "python3"
  },
  "language_info": {
   "codemirror_mode": {
    "name": "ipython",
    "version": 3
   },
   "file_extension": ".py",
   "mimetype": "text/x-python",
   "name": "python",
   "nbconvert_exporter": "python",
   "pygments_lexer": "ipython3",
   "version": "3.7.1"
  }
 },
 "nbformat": 4,
 "nbformat_minor": 2
}
