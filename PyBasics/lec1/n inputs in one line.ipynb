{
 "cells": [
  {
   "cell_type": "code",
   "execution_count": 16,
   "metadata": {},
   "outputs": [
    {
     "name": "stdout",
     "output_type": "stream",
     "text": [
      "10\n",
      "1 2 3 4 5 6 7 8 9 10\n",
      "here: [1, 2, 3, 4, 5, 6, 7, 8, 9, 10]\n"
     ]
    }
   ],
   "source": [
    "##to take n inputs in one line.\n",
    "n=int(input())\n",
    "j=input().split()    #take a one line string input,regardless of n, which is split and a list is returned , so RHS is returning a list\n",
    "list=[]\n",
    "i=0\n",
    "while i<n:\n",
    "    list.append(int(j[i]))     #now convert each elemnt of list j to int by int(j[i]), \n",
    "                           #then append to list. do n times so that first n entry of line go to array as que\n",
    "    i+=1\n",
    "print(\"here:\",list)"
   ]
  }
 ],
 "metadata": {
  "kernelspec": {
   "display_name": "Python 3",
   "language": "python",
   "name": "python3"
  },
  "language_info": {
   "codemirror_mode": {
    "name": "ipython",
    "version": 3
   },
   "file_extension": ".py",
   "mimetype": "text/x-python",
   "name": "python",
   "nbconvert_exporter": "python",
   "pygments_lexer": "ipython3",
   "version": "3.7.1"
  }
 },
 "nbformat": 4,
 "nbformat_minor": 2
}
