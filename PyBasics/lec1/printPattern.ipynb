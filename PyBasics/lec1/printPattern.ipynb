{
 "cells": [
  {
   "cell_type": "code",
   "execution_count": 2,
   "metadata": {},
   "outputs": [
    {
     "name": "stdout",
     "output_type": "stream",
     "text": [
      "5\n",
      "1 \n",
      "3 2 \n",
      "4 5 6 \n",
      "10 9 8 7 \n",
      "11 12 13 14 15 \n"
     ]
    }
   ],
   "source": [
    "n=int(input())\n",
    "i,j=0,1\n",
    "while i<n:\n",
    "    if i&1==0:\n",
    "        for k in range(i+1):\n",
    "            print(j,end=\" \")\n",
    "            j+=1\n",
    "    else:\n",
    "        j-=1\n",
    "        temp=j\n",
    "        j+=(i+1)\n",
    "        while j>temp:\n",
    "            print(j,end=\" \")\n",
    "            j-=1\n",
    "        j+=(i+2)\n",
    "    print()\n",
    "    i+=1\n"
   ]
  }
 ],
 "metadata": {
  "kernelspec": {
   "display_name": "Python 3",
   "language": "python",
   "name": "python3"
  },
  "language_info": {
   "codemirror_mode": {
    "name": "ipython",
    "version": 3
   },
   "file_extension": ".py",
   "mimetype": "text/x-python",
   "name": "python",
   "nbconvert_exporter": "python",
   "pygments_lexer": "ipython3",
   "version": "3.7.1"
  }
 },
 "nbformat": 4,
 "nbformat_minor": 2
}
