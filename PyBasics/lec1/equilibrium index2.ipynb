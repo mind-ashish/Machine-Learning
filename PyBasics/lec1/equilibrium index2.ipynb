{
 "cells": [
  {
   "cell_type": "code",
   "execution_count": 1,
   "metadata": {},
   "outputs": [
    {
     "name": "stdout",
     "output_type": "stream",
     "text": [
      "7\n",
      "-1 1 2 3 4 5 6\n",
      "-1\n"
     ]
    }
   ],
   "source": [
    "n=int(input())\n",
    "l=input().split()\n",
    "list=[]\n",
    "for i in range(n):\n",
    "    list.append(int(l[i]))\n",
    "sum=0\n",
    "for i in range(n):\n",
    "    sum+=list[i]\n",
    "i,sum1=0,0\n",
    "ans=-1\n",
    "if n==1:\n",
    "    print(0)\n",
    "while i<n-1:\n",
    "    sum1+=list[i]\n",
    "    sum2=sum-sum1-list[i+1]\n",
    "    if sum1==sum2:\n",
    "        ans=i+1\n",
    "        break\n",
    "    i+=1\n",
    "print(ans)"
   ]
  }
 ],
 "metadata": {
  "kernelspec": {
   "display_name": "Python 3",
   "language": "python",
   "name": "python3"
  },
  "language_info": {
   "codemirror_mode": {
    "name": "ipython",
    "version": 3
   },
   "file_extension": ".py",
   "mimetype": "text/x-python",
   "name": "python",
   "nbconvert_exporter": "python",
   "pygments_lexer": "ipython3",
   "version": "3.7.1"
  }
 },
 "nbformat": 4,
 "nbformat_minor": 2
}
