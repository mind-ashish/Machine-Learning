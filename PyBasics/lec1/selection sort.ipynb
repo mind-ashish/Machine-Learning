{
 "cells": [
  {
   "cell_type": "code",
   "execution_count": 3,
   "metadata": {},
   "outputs": [
    {
     "name": "stdout",
     "output_type": "stream",
     "text": [
      "5\n",
      "3 2 1 5 2\n",
      "1 2 2 3 5 "
     ]
    }
   ],
   "source": [
    "n=int(input())\n",
    "list=[]\n",
    "j=input().split()\n",
    "for i in range(n):\n",
    "    list.append(int(j[i]))\n",
    "list.sort()\n",
    "for i in range(n):\n",
    "    print(list[i],end=\" \")\n"
   ]
  }
 ],
 "metadata": {
  "kernelspec": {
   "display_name": "Python 3",
   "language": "python",
   "name": "python3"
  },
  "language_info": {
   "codemirror_mode": {
    "name": "ipython",
    "version": 3
   },
   "file_extension": ".py",
   "mimetype": "text/x-python",
   "name": "python",
   "nbconvert_exporter": "python",
   "pygments_lexer": "ipython3",
   "version": "3.7.1"
  }
 },
 "nbformat": 4,
 "nbformat_minor": 2
}
