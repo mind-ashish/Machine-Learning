{
 "cells": [
  {
   "cell_type": "code",
   "execution_count": 2,
   "metadata": {},
   "outputs": [
    {
     "name": "stdout",
     "output_type": "stream",
     "text": [
      "Taarak Mehta ka ooltah chasmah\n",
      "karaaT atheM ak hatloo hamsahc\n"
     ]
    }
   ],
   "source": [
    "str=input()\n",
    "i,temp,ans=0,\"\",\"\"\n",
    "while i!=len(str):\n",
    "    if str[i]==\" \":\n",
    "        ans=ans+temp+\" \"\n",
    "        temp=\"\"\n",
    "    else:\n",
    "        temp=str[i]+temp\n",
    "    i+=1\n",
    "ans=ans+temp\n",
    "print(ans)"
   ]
  }
 ],
 "metadata": {
  "kernelspec": {
   "display_name": "Python 3",
   "language": "python",
   "name": "python3"
  },
  "language_info": {
   "codemirror_mode": {
    "name": "ipython",
    "version": 3
   },
   "file_extension": ".py",
   "mimetype": "text/x-python",
   "name": "python",
   "nbconvert_exporter": "python",
   "pygments_lexer": "ipython3",
   "version": "3.7.1"
  }
 },
 "nbformat": 4,
 "nbformat_minor": 2
}
