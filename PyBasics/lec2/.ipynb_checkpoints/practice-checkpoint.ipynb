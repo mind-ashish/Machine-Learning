{
 "cells": [
  {
   "cell_type": "code",
   "execution_count": 15,
   "metadata": {},
   "outputs": [
    {
     "name": "stdout",
     "output_type": "stream",
     "text": [
      "3\n",
      "11\n",
      "19\n",
      "no\n",
      "{1: 2, 3: 4, 5: 6}\n"
     ]
    }
   ],
   "source": [
    "d={2:3, 1:5, \"hello\":12}\n",
    "#access\n",
    "i=d[2]\n",
    "print(i)\n",
    "\n",
    "#change\n",
    "d[2]=11\n",
    "i=d[2]\n",
    "print(i)\n",
    "\n",
    "#add new key\n",
    "d[5]=19\n",
    "print(d[5])\n",
    "\n",
    "#remove key\n",
    "del d[5]\n",
    "\n",
    "#search key\n",
    "if 5 in d:\n",
    "    print(\"yes\")\n",
    "else:\n",
    "        print(\"no\")\n",
    "#obtain\n",
    "d.keys()\n",
    "d.values()\n",
    "d.items()\n",
    "\n",
    "#return 0 if not present\n",
    "d.get(5,0)\n",
    "\n",
    "d1={1:2}\n",
    "d2={3:4,5:6}\n",
    "d1.update(d2)  #copy all d2 to d1.\n",
    "print(d1)\n",
    "\n",
    "\n",
    "\n"
   ]
  }
 ],
 "metadata": {
  "kernelspec": {
   "display_name": "Python 3",
   "language": "python",
   "name": "python3"
  },
  "language_info": {
   "codemirror_mode": {
    "name": "ipython",
    "version": 3
   },
   "file_extension": ".py",
   "mimetype": "text/x-python",
   "name": "python",
   "nbconvert_exporter": "python",
   "pygments_lexer": "ipython3",
   "version": "3.7.1"
  }
 },
 "nbformat": 4,
 "nbformat_minor": 2
}
