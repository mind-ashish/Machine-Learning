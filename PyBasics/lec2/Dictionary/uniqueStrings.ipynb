{
 "cells": [
  {
   "cell_type": "code",
   "execution_count": 4,
   "metadata": {},
   "outputs": [
    {
     "name": "stdout",
     "output_type": "stream",
     "text": [
      "a\n",
      "a\n"
     ]
    }
   ],
   "source": [
    "str=input()\n",
    "maxString,maxLen='',-1\n",
    "for i in range(0,len(str),1):\n",
    "    s=''\n",
    "    j=i\n",
    "    d={}\n",
    "    hold=False\n",
    "    while j<len(str) and hold==False:\n",
    "        if str[j] in d:\n",
    "            hold=True\n",
    "        else:\n",
    "            d[str[j]]=1\n",
    "            s=s+str[j]\n",
    "            j+=1\n",
    "    if len(s)>maxLen:\n",
    "        maxString=s\n",
    "        maxLen=len(s)\n",
    "    del d\n",
    "print(maxString)"
   ]
  }
 ],
 "metadata": {
  "kernelspec": {
   "display_name": "Python 3",
   "language": "python",
   "name": "python3"
  },
  "language_info": {
   "codemirror_mode": {
    "name": "ipython",
    "version": 3
   },
   "file_extension": ".py",
   "mimetype": "text/x-python",
   "name": "python",
   "nbconvert_exporter": "python",
   "pygments_lexer": "ipython3",
   "version": "3.7.1"
  }
 },
 "nbformat": 4,
 "nbformat_minor": 2
}
