{
 "cells": [
  {
   "cell_type": "code",
   "execution_count": 3,
   "metadata": {},
   "outputs": [
    {
     "name": "stdout",
     "output_type": "stream",
     "text": [
      "6\n",
      "1 5 10 15 20 25\n",
      "5\n",
      "2 4 5 9 15\n",
      "81\n"
     ]
    }
   ],
   "source": [
    "def maxSum(a,b):\n",
    "    l=[]\n",
    "    d={}\n",
    "    for i in a:\n",
    "        if i in d:\n",
    "            d[i]+=1\n",
    "        else:\n",
    "            d[i]=1\n",
    "    for i in b:\n",
    "        if i in d:\n",
    "            l.append(i)\n",
    "            if d[i]==1:\n",
    "                del d[i]\n",
    "            else:\n",
    "                d[i]-=1\n",
    "    if len(l)==0:\n",
    "        sum1,sum2=0,0\n",
    "        for i in a:\n",
    "            sum1+=i\n",
    "        for i in b:\n",
    "            sum2+=i\n",
    "        return max(sum1,sum2)\n",
    "    else:\n",
    "        ans,i,j,k=0,0,0,0\n",
    "        while k<len(l):\n",
    "            next=l[k]\n",
    "            sum1,sum2=0,0\n",
    "            while a[i]!=next:\n",
    "                sum1+=a[i]\n",
    "                i+=1\n",
    "            while b[j]!=next:\n",
    "                sum2+=b[j]\n",
    "                j+=1\n",
    "            ans+=max(sum1,sum2)\n",
    "            k+=1\n",
    "        sum1,sum2=0,0\n",
    "        while i<len(a):\n",
    "            sum1+=a[i]\n",
    "            i+=1\n",
    "        while j<len(b):\n",
    "            sum2+=b[j]\n",
    "            j+=1\n",
    "        ans+=max(sum1,sum2)\n",
    "        return ans\n",
    "n=int(input())\n",
    "l1=[int(i) for i in input().split()]\n",
    "m=int(input())\n",
    "l2=[int(i) for i in input().split()]\n",
    "print(maxSum(l1,l2))\n",
    "            \n",
    "\n",
    "\n",
    "\n"
   ]
  }
 ],
 "metadata": {
  "kernelspec": {
   "display_name": "Python 3",
   "language": "python",
   "name": "python3"
  },
  "language_info": {
   "codemirror_mode": {
    "name": "ipython",
    "version": 3
   },
   "file_extension": ".py",
   "mimetype": "text/x-python",
   "name": "python",
   "nbconvert_exporter": "python",
   "pygments_lexer": "ipython3",
   "version": "3.7.1"
  }
 },
 "nbformat": 4,
 "nbformat_minor": 2
}
