{
 "cells": [
  {
   "cell_type": "code",
   "execution_count": 23,
   "metadata": {},
   "outputs": [
    {
     "name": "stdout",
     "output_type": "stream",
     "text": [
      "True\n",
      "{'the': 5, 'abc': 12, 3.4: 'hello'}\n",
      "dict_keys(['the', 'abc', 3.4])\n",
      "dict_values([5, 12, 'hello'])\n",
      "dict_items([('the', 5), ('abc', 12), (3.4, 'hello')])\n",
      "the 5\n",
      "abc 12\n",
      "3.4 hello\n",
      "5\n",
      "12\n",
      "hello\n",
      "the 5\n",
      "abc 12\n",
      "3.4 hello\n",
      "{1: 2, 4: 6}\n",
      "{}\n",
      "0\n",
      "5\n"
     ]
    }
   ],
   "source": [
    "#dictionary is same as maps.\n",
    "#it has key & values.\n",
    "l=[1,2,3]  #list\n",
    "t=(1,2,3) #tuple\n",
    "d={2:3, \"the\":5, \"abc\":12, 3.4:\"hello\"}  #key value: pair , any key type, any pair type.\n",
    "d[2]  #to access\n",
    "d[2]=5   #to change\n",
    "del d[2]  #to delete\n",
    "\n",
    "hold=\"the\" in d    #to check if key is present in dictionary\n",
    "print(hold)\n",
    "\n",
    "print(d)\n",
    "print(d.keys())\n",
    "print(d.values())\n",
    "print(d.items())  #to get set of key value pairs.\n",
    "\n",
    "for i in d:\n",
    "    print(i,d[i],sep=\" \")\n",
    "for i in d.values():\n",
    "    print(i)\n",
    "for k,v in d.items():\n",
    "    print(k,v,sep=\" \")\n",
    "del d #to delete dictionary\n",
    "\n",
    "d1={1:2, 4:6}\n",
    "d2={}\n",
    "d2.update(d1)  #to copy key pairs of d1 into d2\n",
    "print(d2)\n",
    "\n",
    "d2.clear()   #to clear  all pairs present in d2\n",
    "print(d2) \n",
    "\n",
    "d1={1:2,3:4}\n",
    "d2={1:5,3:4}\n",
    "if d1==d2:\n",
    "    print(\"yes\")  #can compare 2 dictionary like that\n",
    "    \n",
    "d1[\"hell\"]=9 #to add new key to dictionary.\n",
    "\n",
    "print(d2.get(2,0))   #means if key 2 is not present return 0\n",
    "print(d2.get(1,0))"
   ]
  }
 ],
 "metadata": {
  "kernelspec": {
   "display_name": "Python 3",
   "language": "python",
   "name": "python3"
  },
  "language_info": {
   "codemirror_mode": {
    "name": "ipython",
    "version": 3
   },
   "file_extension": ".py",
   "mimetype": "text/x-python",
   "name": "python",
   "nbconvert_exporter": "python",
   "pygments_lexer": "ipython3",
   "version": "3.7.1"
  }
 },
 "nbformat": 4,
 "nbformat_minor": 2
}
