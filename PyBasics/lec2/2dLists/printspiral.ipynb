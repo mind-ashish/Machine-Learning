{
 "cells": [
  {
   "cell_type": "code",
   "execution_count": 3,
   "metadata": {},
   "outputs": [
    {
     "name": "stdout",
     "output_type": "stream",
     "text": [
      "4 4 1 2 3 4 5 6 7 8 9 10 11 12 13 14 15 16\n",
      "1 2 3 4 8 12 16 15 14 13 9 5 6 7 11 10 "
     ]
    }
   ],
   "source": [
    "x=[int(i) for i in input().split()]\n",
    "n=x[0]\n",
    "m=x[1]\n",
    "arr=[[0 for i in range(m)] for j in range(n)]  #to declare a blank 2d list of n*m, \n",
    "    #by creating and making all element 0\n",
    "\n",
    "j=2\n",
    "for i in range(n):\n",
    "    count=0\n",
    "    while count<m:\n",
    "        arr[i][count]=x[j]\n",
    "        j+=1\n",
    "        count+=1\n",
    "flag=0\n",
    "l,r,t,b=0,m-1,0,n-1\n",
    "i=t\n",
    "j=l\n",
    "while flag==0:\n",
    "    while j<=r:\n",
    "        print(arr[i][j],end=\" \")\n",
    "        j+=1\n",
    "    t+=1\n",
    "    j-=1\n",
    "    i=t\n",
    "    if t>b:\n",
    "        break\n",
    "        \n",
    "    while i<=b:\n",
    "        print(arr[i][j],end=\" \")\n",
    "        i+=1\n",
    "    r-=1\n",
    "    i-=1\n",
    "    j=r\n",
    "    if l>r:\n",
    "        break\n",
    "    \n",
    "    while j>=l:\n",
    "        print(arr[i][j],end=\" \")\n",
    "        j-=1\n",
    "    j+=1\n",
    "    b-=1\n",
    "    i=b\n",
    "    if t>b:\n",
    "        break\n",
    "    \n",
    "    while i>=t:\n",
    "        print(arr[i][j],end=\" \")\n",
    "        i-=1\n",
    "    i+=1\n",
    "    l+=1\n",
    "    j=l\n",
    "    if l>r:\n",
    "        break\n",
    "\n",
    "    \n",
    "    \n",
    "    "
   ]
  },
  {
   "cell_type": "code",
   "execution_count": null,
   "metadata": {},
   "outputs": [],
   "source": []
  },
  {
   "cell_type": "code",
   "execution_count": null,
   "metadata": {},
   "outputs": [],
   "source": []
  }
 ],
 "metadata": {
  "kernelspec": {
   "display_name": "Python 3",
   "language": "python",
   "name": "python3"
  },
  "language_info": {
   "codemirror_mode": {
    "name": "ipython",
    "version": 3
   },
   "file_extension": ".py",
   "mimetype": "text/x-python",
   "name": "python",
   "nbconvert_exporter": "python",
   "pygments_lexer": "ipython3",
   "version": "3.7.1"
  }
 },
 "nbformat": 4,
 "nbformat_minor": 2
}
