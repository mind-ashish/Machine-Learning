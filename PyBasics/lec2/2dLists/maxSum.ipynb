{
 "cells": [
  {
   "cell_type": "code",
   "execution_count": 10,
   "metadata": {},
   "outputs": [
    {
     "name": "stdout",
     "output_type": "stream",
     "text": [
      "2 2\n",
      "1 1 1 1\n",
      "row 0 2 "
     ]
    }
   ],
   "source": [
    "l=[int(i) for i in input().split()]\n",
    "n=l[0]\n",
    "m=l[1]\n",
    "l=[[0 for i in range(m)] for j in range(n)]  #to declare a blank 2d list of n*m, \n",
    "    #by creating and making all element 0\n",
    "x=[int(i) for i in input().split()]\n",
    "j=0\n",
    "for i in range(n):\n",
    "    count=0\n",
    "    while count<m:\n",
    "        l[i][count]=x[j]\n",
    "        j+=1\n",
    "        count+=1\n",
    "\n",
    "flag=0\n",
    "maxSum,index,sum=0,-1,0\n",
    "for i in l[0]:\n",
    "    sum+=i\n",
    "    index=0\n",
    "maxSum=sum\n",
    "for i in range(n):\n",
    "    sum=0\n",
    "    for j in l[i]:\n",
    "        sum+=j\n",
    "    if maxSum<sum:\n",
    "        maxSum=sum\n",
    "        index=i\n",
    "for i in range(m):\n",
    "    sum=0\n",
    "    for j in range(n):\n",
    "        sum+=l[j][i]\n",
    "    if maxSum<sum:\n",
    "        maxSum=sum\n",
    "        index=i\n",
    "        flag=1\n",
    "if flag==0:\n",
    "    print(\"row\",index,maxSum,sep=\" \",end=\" \")\n",
    "else:\n",
    "    print(\"column\",index,maxSum,sep=\" \",end=\" \")"
   ]
  },
  {
   "cell_type": "code",
   "execution_count": null,
   "metadata": {},
   "outputs": [],
   "source": []
  }
 ],
 "metadata": {
  "kernelspec": {
   "display_name": "Python 3",
   "language": "python",
   "name": "python3"
  },
  "language_info": {
   "codemirror_mode": {
    "name": "ipython",
    "version": 3
   },
   "file_extension": ".py",
   "mimetype": "text/x-python",
   "name": "python",
   "nbconvert_exporter": "python",
   "pygments_lexer": "ipython3",
   "version": "3.7.1"
  }
 },
 "nbformat": 4,
 "nbformat_minor": 2
}
