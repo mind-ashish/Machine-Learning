{
 "cells": [
  {
   "cell_type": "code",
   "execution_count": 3,
   "metadata": {},
   "outputs": [
    {
     "ename": "NameError",
     "evalue": "name 'FL_insurance_sample' is not defined",
     "output_type": "error",
     "traceback": [
      "\u001b[0;31m---------------------------------------------------------------------------\u001b[0m",
      "\u001b[0;31mNameError\u001b[0m                                 Traceback (most recent call last)",
      "\u001b[0;32m<ipython-input-3-b46f7e7d5d34>\u001b[0m in \u001b[0;36m<module>\u001b[0;34m\u001b[0m\n\u001b[1;32m      3\u001b[0m \u001b[0;34m\u001b[0m\u001b[0m\n\u001b[1;32m      4\u001b[0m \u001b[0;32mimport\u001b[0m \u001b[0mpandas\u001b[0m \u001b[0;32mas\u001b[0m \u001b[0mpd\u001b[0m\u001b[0;34m\u001b[0m\u001b[0;34m\u001b[0m\u001b[0m\n\u001b[0;32m----> 5\u001b[0;31m \u001b[0miris\u001b[0m\u001b[0;34m=\u001b[0m\u001b[0mpd\u001b[0m\u001b[0;34m.\u001b[0m\u001b[0mread_csv\u001b[0m\u001b[0;34m(\u001b[0m\u001b[0mFL_insurance_sample\u001b[0m\u001b[0;34m.\u001b[0m\u001b[0mcsv\u001b[0m\u001b[0;34m)\u001b[0m   \u001b[0;31m#iris is var.  mentuon path or url.\u001b[0m\u001b[0;34m\u001b[0m\u001b[0;34m\u001b[0m\u001b[0m\n\u001b[0m\u001b[1;32m      6\u001b[0m \u001b[0miris\u001b[0m\u001b[0;34m.\u001b[0m\u001b[0mhead\u001b[0m\u001b[0;34m(\u001b[0m\u001b[0;36m10\u001b[0m\u001b[0;34m)\u001b[0m        \u001b[0;31m#to get first 10 entry\u001b[0m\u001b[0;34m\u001b[0m\u001b[0;34m\u001b[0m\u001b[0m\n\u001b[1;32m      7\u001b[0m \u001b[0miris\u001b[0m\u001b[0;34m.\u001b[0m\u001b[0mtail\u001b[0m\u001b[0;34m(\u001b[0m\u001b[0;36m10\u001b[0m\u001b[0;34m)\u001b[0m\u001b[0;34m\u001b[0m\u001b[0;34m\u001b[0m\u001b[0m\n",
      "\u001b[0;31mNameError\u001b[0m: name 'FL_insurance_sample' is not defined"
     ]
    }
   ],
   "source": [
    "#another lib \n",
    "#use to work on excel/csv data\n",
    "\n",
    "import pandas as pd\n",
    "iris=pd.read_csv(FL_insurance_sample.csv)   #iris is var.  mentuon path or url.\n",
    "iris.head(10)        #to get first 10 entry\n",
    "iris.tail(10)\n",
    "iris.sample()\n",
    "#iris.columns=['s1','sw','p2'..]  #to change header of columns.\n",
    "#iris.describe() #give data insights. used in data cleaning.\n",
    "iris.dtypes  #tell data type of each column\n",
    "iris.shape\n",
    "type(iris)\n",
    "\n",
    "#accessing column by name\n",
    "iris['sw']  #to bring column with header='sw', works for both string, nos.\n",
    "iris.sw   #use this to bring column name with 'sw'. only when column name is string. if col name is 2. iris.2 is error\n",
    "iris[iris.columns[2]]  #to access a column if u don't hv name. As iris.columns[2] will give sec column\n",
    "\n",
    "#to get rows\n",
    "iris[1:3]\n",
    "#to get row 1 to 2.\n",
    "\n",
    "#to get row and column\n",
    "iris.iloc(1:3, 1:2)  #means to access row 1 to 2(as end index 3 is not included) & col 1 to 1.\n",
    "iris.iloc[1:3,1:2]=np.nan #can update row,col also \n"
   ]
  }
 ],
 "metadata": {
  "kernelspec": {
   "display_name": "Python 3",
   "language": "python",
   "name": "python3"
  },
  "language_info": {
   "codemirror_mode": {
    "name": "ipython",
    "version": 3
   },
   "file_extension": ".py",
   "mimetype": "text/x-python",
   "name": "python",
   "nbconvert_exporter": "python",
   "pygments_lexer": "ipython3",
   "version": "3.7.1"
  }
 },
 "nbformat": 4,
 "nbformat_minor": 2
}
