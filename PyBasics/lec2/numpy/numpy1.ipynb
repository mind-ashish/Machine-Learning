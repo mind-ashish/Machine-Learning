{
 "cells": [
  {
   "cell_type": "code",
   "execution_count": 36,
   "metadata": {},
   "outputs": [
    {
     "name": "stdout",
     "output_type": "stream",
     "text": [
      "[0. 0. 0. 0. 0. 0. 0. 0. 0. 0.]\n",
      "[0.  3.4 0.  0.  0.  0.  0.  0.  0.  0. ]\n",
      "[0.  3.4 0.  0.  0.  0.  0.  0.  0.  0. ]\n",
      "0.33999999999999997\n",
      "(10, 5)\n",
      "(10, 5)\n",
      "[0 0 0 0 0 0 0 0 0 0]\n",
      "[1 2 3]\n",
      "[1.  2.  3.  4.5]\n",
      "2.6666666666666665\n",
      "[[1 2 3]\n",
      " [3 4 5]]\n",
      "[[1 2]\n",
      " [3 4]\n",
      " [7 5]]\n",
      "[[28 25]\n",
      " [50 47]]\n"
     ]
    },
    {
     "data": {
      "text/plain": [
       "array([1, 2, 3])"
      ]
     },
     "execution_count": 36,
     "metadata": {},
     "output_type": "execute_result"
    }
   ],
   "source": [
    "# import math\n",
    "# math.sqrt(12)\n",
    "#math.sqrt(23)\n",
    "\n",
    "import math as m\n",
    "m.sqrt(12)     #all operations called on m.\n",
    "\n",
    "\n",
    "#numpy is library in python that has c++ code. for faster.\n",
    "#use numpy array as they r faster tahn list\n",
    "#homogenous entries only.\n",
    "import numpy as np\n",
    "#to make array\n",
    "a=np.zeros(10)   #array of size 10, each 0.  #by default in float\n",
    "print(a)\n",
    "a.dtype   #to check data type of\n",
    "\n",
    "a[1]=3.4\n",
    "print(a)\n",
    "a[1]=\"3.4\"  #convert string to float first\n",
    "print(a)\n",
    "\n",
    "i=a.mean()\n",
    "print(i)\n",
    "i=a.shape  #10-> 1d array of size 10.\n",
    "b=np.zeros((10,5))  #for 2d array pass tuple\n",
    "i=b.shape\n",
    "print(i)\n",
    "print(i)\n",
    "b=np.zeros(10,dtype=int)\n",
    "print(b)\n",
    "b=np.array([1,2,3])  #to make using list\n",
    "print(b)\n",
    "\n",
    "a=np.array([1,2,3])\n",
    "b=np.array([2,3,4])\n",
    "a+b  #instead of concat it does vector addition of each element of a[i] , b[i].\n",
    "a*2   #element wise multiply.\n",
    "\n",
    "a=np.array([1,2,3,4.5]) #concat all to float to make homo\n",
    "print(a)\n",
    "\n",
    "#if in 2d arrays , it broadcasts.\n",
    "a=np.zeros((3,4))   #2d arrays of 3*4\n",
    "b=np.zeros((1,4))\n",
    "a+b  #it broadcasts\n",
    "\n",
    "\n",
    "#to find standard deviation\n",
    "a=np.array([1,3,5])\n",
    "a=a-a.mean()\n",
    "a=a**2\n",
    "a=a.mean()\n",
    "print(a)\n",
    "\n",
    "#multiply\n",
    "a=np.array([[1,2,3],[3,4,5]]) #2d array with 2 rows:1,2,3 & 3,4,5\n",
    "b=np.array([[1,2],[3,4],[7,5]])\n",
    "print(a)\n",
    "print(b)\n",
    "#a*b  erros as it will broadcast\n",
    "a=a.dot(b)  #does dot product i.e actual matrix multiplication of a*b\n",
    "print(a)\n",
    "\n",
    "a=np.array([1,2,3],dtype='int')\n",
    "a.astype(float)  #to typecast all values.\n",
    "a.astype(int)\n"
   ]
  }
 ],
 "metadata": {
  "kernelspec": {
   "display_name": "Python 3",
   "language": "python",
   "name": "python3"
  },
  "language_info": {
   "codemirror_mode": {
    "name": "ipython",
    "version": 3
   },
   "file_extension": ".py",
   "mimetype": "text/x-python",
   "name": "python",
   "nbconvert_exporter": "python",
   "pygments_lexer": "ipython3",
   "version": "3.7.1"
  }
 },
 "nbformat": 4,
 "nbformat_minor": 2
}
