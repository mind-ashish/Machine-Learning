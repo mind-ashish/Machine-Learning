{
  "nbformat": 4,
  "nbformat_minor": 0,
  "metadata": {
    "colab": {
      "name": "k-meansUnsupervisedLearning.ipynb",
      "version": "0.3.2",
      "provenance": [],
      "collapsed_sections": []
    },
    "kernelspec": {
      "name": "python3",
      "display_name": "Python 3"
    }
  },
  "cells": [
    {
      "metadata": {
        "id": "Us8mqZlxWQ_6",
        "colab_type": "code",
        "colab": {}
      },
      "cell_type": "code",
      "source": [
        "import numpy as np"
      ],
      "execution_count": 0,
      "outputs": []
    },
    {
      "metadata": {
        "id": "T7tebq6VWxup",
        "colab_type": "code",
        "colab": {}
      },
      "cell_type": "code",
      "source": [
        "import matplotlib.pyplot as plt"
      ],
      "execution_count": 0,
      "outputs": []
    },
    {
      "metadata": {
        "id": "mZ8nxjjNW0tP",
        "colab_type": "code",
        "colab": {}
      },
      "cell_type": "code",
      "source": [
        "X=np.array([[1,2],[2.5,1.8],[3.9,1.2],[5.1,4.1],[7.7,2.2]])"
      ],
      "execution_count": 0,
      "outputs": []
    },
    {
      "metadata": {
        "id": "eNms7hEGXChP",
        "colab_type": "code",
        "outputId": "56bec86b-6d1a-4adc-b9be-7d07ccfcc9fb",
        "colab": {
          "base_uri": "https://localhost:8080/",
          "height": 269
        }
      },
      "cell_type": "code",
      "source": [
        "plt.scatter(X[:,0],X[:,1])\n",
        "plt.show()"
      ],
      "execution_count": 0,
      "outputs": [
        {
          "output_type": "display_data",
          "data": {
            "image/png": "[encoded data removed]",
            "text/plain": [
              "<Figure size 432x288 with 1 Axes>"
            ]
          },
          "metadata": {
            "tags": []
          }
        }
      ]
    },
    {
      "metadata": {
        "id": "3V_8y1uRXp4m",
        "colab_type": "code",
        "colab": {}
      },
      "cell_type": "code",
      "source": [
        "from sklearn.cluster import KMeans    #sklearn on its own reclustter many times , so need nothing to do"
      ],
      "execution_count": 0,
      "outputs": []
    },
    {
      "metadata": {
        "id": "rI5kt_NKZBYp",
        "colab_type": "code",
        "outputId": "4eed3877-902d-4e30-dbf2-a606c8d30894",
        "colab": {
          "base_uri": "https://localhost:8080/",
          "height": 68
        }
      },
      "cell_type": "code",
      "source": [
        "k_means=KMeans(n_clusters=2)\n",
        "k_means.fit(X)"
      ],
      "execution_count": 0,
      "outputs": [
        {
          "output_type": "execute_result",
          "data": {
            "text/plain": [
              "KMeans(algorithm='auto', copy_x=True, init='k-means++', max_iter=300,\n",
              "    n_clusters=2, n_init=10, n_jobs=None, precompute_distances='auto',\n",
              "    random_state=None, tol=0.0001, verbose=0)"
            ]
          },
          "metadata": {
            "tags": []
          },
          "execution_count": 8
        }
      ]
    },
    {
      "metadata": {
        "id": "tp4og0WhZHvr",
        "colab_type": "code",
        "outputId": "7bc1873a-cbb0-4b7f-8b3a-a24a9e0a68ea",
        "colab": {
          "base_uri": "https://localhost:8080/",
          "height": 34
        }
      },
      "cell_type": "code",
      "source": [
        "k_means.labels_        #labels cluster has given"
      ],
      "execution_count": 0,
      "outputs": [
        {
          "output_type": "execute_result",
          "data": {
            "text/plain": [
              "array([0, 0, 0, 1, 1], dtype=int32)"
            ]
          },
          "metadata": {
            "tags": []
          },
          "execution_count": 9
        }
      ]
    },
    {
      "metadata": {
        "id": "UKukK5nIZKaQ",
        "colab_type": "code",
        "outputId": "1f8ad40e-7bc9-415b-8361-7029aba5b2f9",
        "colab": {
          "base_uri": "https://localhost:8080/",
          "height": 269
        }
      },
      "cell_type": "code",
      "source": [
        "plt.scatter(X[:,0],X[:,1],c=k_means.labels_)   #plotting cluster made based on labels\n",
        "plt.show()"
      ],
      "execution_count": 0,
      "outputs": [
        {
          "output_type": "display_data",
          "data": {
            "image/png": "[encoded data removed]",
            "text/plain": [
              "<Figure size 432x288 with 1 Axes>"
            ]
          },
          "metadata": {
            "tags": []
          }
        }
      ]
    },
    {
      "metadata": {
        "id": "8j0Ola8PZZbL",
        "colab_type": "code",
        "outputId": "284924e4-2bb2-40f0-f4f7-ce4f7fac1a5c",
        "colab": {
          "base_uri": "https://localhost:8080/",
          "height": 51
        }
      },
      "cell_type": "code",
      "source": [
        "k_means.cluster_centers_"
      ],
      "execution_count": 0,
      "outputs": [
        {
          "output_type": "execute_result",
          "data": {
            "text/plain": [
              "array([[2.46666667, 1.66666667],\n",
              "       [6.4       , 3.15      ]])"
            ]
          },
          "metadata": {
            "tags": []
          },
          "execution_count": 11
        }
      ]
    },
    {
      "metadata": {
        "id": "Gqzxq-ETZdBJ",
        "colab_type": "code",
        "outputId": "6365a23d-7877-4714-cdbf-60c5ddfe25c9",
        "colab": {
          "base_uri": "https://localhost:8080/",
          "height": 269
        }
      },
      "cell_type": "code",
      "source": [
        "plt.scatter(k_means.cluster_centers_[0],k_means.cluster_centers_[1])     #plotting the centre of clusters made.\n",
        "plt.show()"
      ],
      "execution_count": 0,
      "outputs": [
        {
          "output_type": "display_data",
          "data": {
            "image/png": "[encoded data removed]",
            "text/plain": [
              "<Figure size 432x288 with 1 Axes>"
            ]
          },
          "metadata": {
            "tags": []
          }
        }
      ]
    },
    {
      "metadata": {
        "id": "auVybtPxZlpT",
        "colab_type": "code",
        "colab": {}
      },
      "cell_type": "code",
      "source": [
        "#read documentation for K-means cluster to see arguement u can ask."
      ],
      "execution_count": 0,
      "outputs": []
    },
    {
      "metadata": {
        "id": "UMtFXSIyXTPx",
        "colab_type": "code",
        "colab": {}
      },
      "cell_type": "code",
      "source": [
        ""
      ],
      "execution_count": 0,
      "outputs": []
    },
    {
      "metadata": {
        "id": "IudPPmYZrLDL",
        "colab_type": "code",
        "colab": {}
      },
      "cell_type": "code",
      "source": [
        "#finding the best k for clustering,i.e no of cluster"
      ],
      "execution_count": 0,
      "outputs": []
    },
    {
      "metadata": {
        "id": "s4XKF_hWrLHg",
        "colab_type": "code",
        "colab": {}
      },
      "cell_type": "code",
      "source": [
        "#use silhouette score of sklearn to find best k. #By tying different k's try to maximise silhouette score, that is ur best k."
      ],
      "execution_count": 0,
      "outputs": []
    },
    {
      "metadata": {
        "id": "QCyfIUJ7uJzw",
        "colab_type": "code",
        "colab": {}
      },
      "cell_type": "code",
      "source": [
        "#search silhouette score in documenation of sklearn."
      ],
      "execution_count": 0,
      "outputs": []
    },
    {
      "metadata": {
        "id": "43JvVV46rLLX",
        "colab_type": "code",
        "colab": {}
      },
      "cell_type": "code",
      "source": [
        ""
      ],
      "execution_count": 0,
      "outputs": []
    },
    {
      "metadata": {
        "id": "GBAbPmp_uhjv",
        "colab_type": "code",
        "colab": {}
      },
      "cell_type": "code",
      "source": [
        ""
      ],
      "execution_count": 0,
      "outputs": []
    },
    {
      "metadata": {
        "id": "aAPzGWkmuhnU",
        "colab_type": "code",
        "colab": {}
      },
      "cell_type": "code",
      "source": [
        "\n"
      ],
      "execution_count": 0,
      "outputs": []
    },
    {
      "metadata": {
        "id": "WsvCd_a8rLOR",
        "colab_type": "code",
        "colab": {}
      },
      "cell_type": "code",
      "source": [
        ""
      ],
      "execution_count": 0,
      "outputs": []
    },
    {
      "metadata": {
        "id": "jVn5pP0urLRH",
        "colab_type": "code",
        "colab": {}
      },
      "cell_type": "code",
      "source": [
        ""
      ],
      "execution_count": 0,
      "outputs": []
    },
    {
      "metadata": {
        "id": "SsXc50h4rLT_",
        "colab_type": "code",
        "colab": {}
      },
      "cell_type": "code",
      "source": [
        ""
      ],
      "execution_count": 0,
      "outputs": []
    },
    {
      "metadata": {
        "id": "jHbVSD_rXHFh",
        "colab_type": "code",
        "colab": {}
      },
      "cell_type": "code",
      "source": [
        "#Making our own fn for K-means"
      ],
      "execution_count": 0,
      "outputs": []
    },
    {
      "metadata": {
        "id": "cuhDLsfJbMnm",
        "colab_type": "code",
        "colab": {}
      },
      "cell_type": "code",
      "source": [
        "class K_Means:\n",
        "  def _init__(self,k=2,max_iter=300):\n",
        "    self.k=k\n",
        "    self.max_iter=max_iter\n",
        "    \n",
        "  def fit(self,data):\n",
        "    self.means=[]\n",
        "    #select random k means values\n",
        "    mean=np.mean(data)\n",
        "    for i range(k):\n",
        "      value=randint(mean-5,mean+5)\n",
        "      self.means.append(value)\n",
        "      \n",
        "    \n",
        "    \n",
        "    for it in range(self.max_iter):\n",
        "      #initialise empty 2d array of size (K,0) to have K cluster which will get points.\n",
        "      array=np.zeros[k,0]\n",
        "      self.clusters=[]\n",
        "      for i in range(self.k):\n",
        "        self.clusters.append([])\n",
        "        \n",
        "      \n",
        "        distance=[]\n",
        "        for i in range(self.k):\n",
        "          distance.append([])\n",
        "          for p in data:\n",
        "            distance_from_ith_mean =np.absolute(p-self.mean[i])\n",
        "            distance[i].append(distance_from_ith_mean)\n",
        "        #pick the index of the min value\n",
        "        #this index is your cluster\n",
        "        #insert p in self.clusters[index]\n",
        "      #find new mean values\n",
        "      self.labels=self.predict(data)\n",
        "    def predict(self,test_data):\n",
        "      predictions=[]\n",
        "      for p in test data:\n",
        "        #find distance of p from all means value\n",
        "        #use argmin to find cluster"
      ],
      "execution_count": 0,
      "outputs": []
    },
    {
      "metadata": {
        "id": "GWTWXbEAa5Ph",
        "colab_type": "code",
        "colab": {}
      },
      "cell_type": "code",
      "source": [
        "def fit(data,k,max_iter):"
      ],
      "execution_count": 0,
      "outputs": []
    }
  ]
}