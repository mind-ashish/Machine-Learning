{
 "cells": [
  {
   "cell_type": "code",
   "execution_count": null,
   "metadata": {},
   "outputs": [],
   "source": [
    "import numpy as np\n",
    "from sklearn.linear_model import LinearRegression\n",
    "# x=np.array([10,2,31,4,15,6])\n",
    "# y=np.array([20,30,400,5,6,7])\n",
    "alg=LinearRegression()\n",
    "alg.fit(x.reshape(6,1),y)\n",
    "print(alg.coef_)\n",
    "print(alg.intercept_)\n",
    "\n",
    "def step_gradient(x,y,learning_rate,m,b):\n",
    "    k=x.shape[0]  #no of rows\n",
    "    slope_m=0\n",
    "    slope_b=0\n",
    "    for i in range(k):\n",
    "        for j in range k:\n",
    "        slope_m+=(2/k)*x[i]*(m[j]*x[i]+b-y[i])\n",
    "        slope_b+=(2/k)*(m[j]*x[i]+b-y[i])\n",
    "        m[j]=m[j]-learning_rate*slope_m\n",
    "        b=b-learning_rate*slope_b\n",
    "    return m,b\n",
    "        \n",
    "def cost(x,y,m,b):\n",
    "    \n",
    "    return ((y-(m*x+b))**2).mean()\n",
    "\n",
    "def gradient_descent(x,y,learning_rate=0.01,num_iter=1000):\n",
    "    m=[0]\n",
    "    m=[0 for i in range(len(x))]\n",
    "    m[len(x)]=b\n",
    "    #print(\"start: \",cost(x,y,m,b))\n",
    "    for i in range(num_iter):\n",
    "        m,b=step_gradient(x,y,learning_rate,m,b)\n",
    "        print(i,\": \",cost(x,y,m,b),\"m= \",m,\"b= \",b)   #mx=b=yp\n",
    "    return m,b\n",
    "\n",
    "def run(x,y):\n",
    "    learning_rate=0.01\n",
    "    num_iter=2000\n",
    "    m,b=gradient_descent(x,y,learning_rate,num_iter)\n",
    "    return m,b\n",
    "\n",
    "run(x,y)"
   ]
  }
 ],
 "metadata": {
  "kernelspec": {
   "display_name": "Python 3",
   "language": "python",
   "name": "python3"
  },
  "language_info": {
   "codemirror_mode": {
    "name": "ipython",
    "version": 3
   },
   "file_extension": ".py",
   "mimetype": "text/x-python",
   "name": "python",
   "nbconvert_exporter": "python",
   "pygments_lexer": "ipython3",
   "version": "3.7.1"
  }
 },
 "nbformat": 4,
 "nbformat_minor": 2
}
