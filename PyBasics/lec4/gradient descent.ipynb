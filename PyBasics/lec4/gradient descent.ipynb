{
 "cells": [
  {
   "cell_type": "code",
   "execution_count": null,
   "metadata": {},
   "outputs": [],
   "source": [
    "import numpy as np\n",
    "\n",
    "def step_gradient(x,y,learning_rate,m,b):\n",
    "    k=x.shape[0]  #no of rows\n",
    "    slope_m=0\n",
    "    slope_b=0\n",
    "    for i in range(k):\n",
    "        slope_m+=(2/k)*x[i]*(m*x[i]+b-y[i])\n",
    "        slope_b+=(2/k)*(m*x[i]+b-y[i])\n",
    "    m=m-learning_rate*slope_m\n",
    "    b=b-learning_rate*slope_b\n",
    "    return m,b\n",
    "        \n",
    "def cost(x,y,m,b):\n",
    "    return ((y-(m*x+b))**2).mean()\n",
    "\n",
    "def gradient_descent(x,y,learning_rate=0.01,num_iter=1000,initial_m=0,initial_b=0):\n",
    "    m=initial_m\n",
    "    b=initial_b\n",
    "    print(\"start: \",cost(x,y,m,b))\n",
    "    for i in range(num_iter):\n",
    "        m,b=step_gradient(x,y,learning_rate,m,b)\n",
    "        print(i,\": \",cost(x,y,m,b),\"m= \",m,\"b= \",b)   #mx=b=yp\n",
    "    return m,b\n",
    "\n",
    "def run(x,y):\n",
    "    learning_rate=0.01\n",
    "    num_iter=100\n",
    "    m,b=gradient_descent(x,y,learning_rate,num_iter)\n",
    "    return m,b\n",
    "        "
   ]
  }
 ],
 "metadata": {
  "kernelspec": {
   "display_name": "Python 3",
   "language": "python",
   "name": "python3"
  },
  "language_info": {
   "codemirror_mode": {
    "name": "ipython",
    "version": 3
   },
   "file_extension": ".py",
   "mimetype": "text/x-python",
   "name": "python",
   "nbconvert_exporter": "python",
   "pygments_lexer": "ipython3",
   "version": "3.7.1"
  }
 },
 "nbformat": 4,
 "nbformat_minor": 2
}
