{
 "cells": [
  {
   "cell_type": "code",
   "execution_count": 84,
   "metadata": {},
   "outputs": [],
   "source": [
    "#here we are trying to apply different classification algos, on pca transformed data on lfw dataset and check accuracy\n",
    "#in each case.\n",
    "#different classification algos:\n",
    "#logisticRegression\n",
    "#naive bayes\n",
    "#random forests\n",
    "#decision trees\n",
    "#svm\n",
    "#knn"
   ]
  },
  {
   "cell_type": "code",
   "execution_count": 85,
   "metadata": {},
   "outputs": [],
   "source": [
    "from sklearn import datasets\n",
    "from sklearn.linear_model import LogisticRegression\n",
    "from sklearn.naive_bayes import GaussianNB\n",
    "from sklearn.naive_bayes import MultinomialNB\n",
    "from sklearn.ensemble import RandomForestClassifier\n",
    "from sklearn.tree import DecisionTreeClassifier\n",
    "from sklearn import svm\n",
    "from sklearn.neighbors import KNeighborsClassifier\n",
    "from sklearn.model_selection import train_test_split\n",
    "from sklearn.decomposition import PCA\n",
    "from sklearn.metrics import confusion_matrix\n",
    "from sklearn.metrics import classification_report\n",
    "from sklearn.model_selection import GridSearchCV    #for finding best combination of paramenters"
   ]
  },
  {
   "cell_type": "code",
   "execution_count": 86,
   "metadata": {},
   "outputs": [],
   "source": [
    "lfw=datasets.fetch_lfw_people(min_faces_per_person=100,resize=0.4)"
   ]
  },
  {
   "cell_type": "code",
   "execution_count": 87,
   "metadata": {},
   "outputs": [
    {
     "data": {
      "text/plain": [
       "dict_keys(['data', 'images', 'target', 'target_names', 'DESCR'])"
      ]
     },
     "execution_count": 87,
     "metadata": {},
     "output_type": "execute_result"
    }
   ],
   "source": [
    "lfw.keys()"
   ]
  },
  {
   "cell_type": "code",
   "execution_count": 88,
   "metadata": {},
   "outputs": [],
   "source": [
    "#since these are images ,no need to do feaure scaling before.\n"
   ]
  },
  {
   "cell_type": "code",
   "execution_count": 89,
   "metadata": {},
   "outputs": [],
   "source": [
    "X=lfw.data"
   ]
  },
  {
   "cell_type": "code",
   "execution_count": 90,
   "metadata": {},
   "outputs": [],
   "source": [
    "Y=lfw.target"
   ]
  },
  {
   "cell_type": "code",
   "execution_count": 91,
   "metadata": {},
   "outputs": [],
   "source": [
    "x_train,x_test,y_train,y_test=train_test_split(X,Y,random_state=0)"
   ]
  },
  {
   "cell_type": "code",
   "execution_count": 92,
   "metadata": {},
   "outputs": [],
   "source": [
    "pca=PCA()   #initiallly not passing n_componets =k, as we are still trying best k."
   ]
  },
  {
   "cell_type": "code",
   "execution_count": 93,
   "metadata": {},
   "outputs": [
    {
     "data": {
      "text/plain": [
       "PCA(copy=True, iterated_power='auto', n_components=None, random_state=None,\n",
       "  svd_solver='auto', tol=0.0, whiten=False)"
      ]
     },
     "execution_count": 93,
     "metadata": {},
     "output_type": "execute_result"
    }
   ],
   "source": [
    "pca.fit(x_train)"
   ]
  },
  {
   "cell_type": "code",
   "execution_count": 94,
   "metadata": {},
   "outputs": [
    {
     "data": {
      "text/plain": [
       "array([4.83559188e+05, 4.21049406e+05, 1.85467703e+05, 1.52713578e+05,\n",
       "       1.37901984e+05, 7.91334453e+04, 6.65560312e+04, 5.67629336e+04,\n",
       "       5.26333125e+04, 4.91668320e+04, 3.97866172e+04, 3.67396445e+04,\n",
       "       3.45940547e+04, 2.78019434e+04, 2.61085293e+04, 2.47647168e+04,\n",
       "       2.34815566e+04, 2.24296934e+04, 2.12212246e+04, 1.89539688e+04,\n",
       "       1.78013867e+04, 1.75217188e+04, 1.58070215e+04, 1.47426602e+04,\n",
       "       1.41662578e+04, 1.36058574e+04, 1.29047188e+04, 1.21215117e+04,\n",
       "       1.17997344e+04, 1.13332471e+04, 1.01976494e+04, 9.76716797e+03,\n",
       "       9.52379492e+03, 9.24495215e+03, 8.61826172e+03, 8.53404785e+03,\n",
       "       8.34165234e+03, 8.06421777e+03, 7.86919824e+03, 7.57776123e+03,\n",
       "       7.45386768e+03, 7.25952637e+03, 6.79561768e+03, 6.56742432e+03,\n",
       "       6.50352832e+03, 6.35414355e+03, 6.05674805e+03, 5.88387451e+03,\n",
       "       5.77712842e+03, 5.54030957e+03, 5.28675342e+03, 5.21347559e+03,\n",
       "       5.03800879e+03, 4.89313037e+03, 4.87861719e+03, 4.71101416e+03,\n",
       "       4.69318457e+03, 4.59304492e+03, 4.51785645e+03, 4.43535205e+03,\n",
       "       4.27577490e+03, 4.19039404e+03, 4.16218555e+03, 4.07732593e+03,\n",
       "       3.94502612e+03, 3.88212524e+03, 3.79722314e+03, 3.73662598e+03,\n",
       "       3.59523120e+03, 3.56745825e+03, 3.48488794e+03, 3.40124121e+03,\n",
       "       3.35289209e+03, 3.30567456e+03, 3.27180273e+03, 3.22801489e+03,\n",
       "       3.08716870e+03, 3.04477173e+03, 3.01795459e+03, 2.96785718e+03,\n",
       "       2.90479272e+03, 2.87328979e+03, 2.77139258e+03, 2.67995679e+03,\n",
       "       2.66929883e+03, 2.58845288e+03, 2.56826221e+03, 2.55426489e+03,\n",
       "       2.48568579e+03, 2.44762842e+03, 2.41833765e+03, 2.36060693e+03,\n",
       "       2.29671558e+03, 2.28319531e+03, 2.27328027e+03, 2.19580518e+03,\n",
       "       2.17532959e+03, 2.10812988e+03, 2.10527881e+03, 2.04354089e+03,\n",
       "       2.01871899e+03, 2.00159351e+03, 1.97962341e+03, 1.92732275e+03,\n",
       "       1.91306885e+03, 1.87569775e+03, 1.81895081e+03, 1.80851367e+03,\n",
       "       1.76431189e+03, 1.75966016e+03, 1.69992041e+03, 1.68115076e+03,\n",
       "       1.67771240e+03, 1.65473767e+03, 1.62358533e+03, 1.58611865e+03,\n",
       "       1.56254028e+03, 1.55976843e+03, 1.52754626e+03, 1.49428284e+03,\n",
       "       1.48615393e+03, 1.44076599e+03, 1.42858313e+03, 1.42121985e+03,\n",
       "       1.39733582e+03, 1.37658533e+03, 1.35059900e+03, 1.33331189e+03,\n",
       "       1.32219800e+03, 1.31849182e+03, 1.29369983e+03, 1.28162122e+03,\n",
       "       1.26448926e+03, 1.24108826e+03, 1.23453809e+03, 1.21331494e+03,\n",
       "       1.20654077e+03, 1.19024548e+03, 1.16941150e+03, 1.15307190e+03,\n",
       "       1.13818213e+03, 1.11585413e+03, 1.11094592e+03, 1.10141296e+03,\n",
       "       1.09623999e+03, 1.08443677e+03, 1.08148340e+03, 1.06693774e+03,\n",
       "       1.04603723e+03, 1.03171375e+03, 1.02228668e+03, 1.00920557e+03,\n",
       "       1.00433344e+03, 9.81039429e+02, 9.73192688e+02, 9.60652222e+02,\n",
       "       9.54142700e+02, 9.34673096e+02, 9.28903320e+02, 9.19747131e+02,\n",
       "       9.11214417e+02, 9.04540100e+02, 8.84949890e+02, 8.71199890e+02,\n",
       "       8.63101501e+02, 8.59673218e+02, 8.36920227e+02, 8.22956116e+02,\n",
       "       8.19782410e+02, 8.16434875e+02, 8.00382385e+02, 7.97573547e+02,\n",
       "       7.90177307e+02, 7.78175598e+02, 7.70198669e+02, 7.65425110e+02,\n",
       "       7.47917725e+02, 7.42224854e+02, 7.36104309e+02, 7.28241028e+02,\n",
       "       7.20259216e+02, 7.17042786e+02, 7.12229187e+02, 7.04371277e+02,\n",
       "       6.98967407e+02, 6.87862915e+02, 6.79799622e+02, 6.68925842e+02,\n",
       "       6.63631165e+02, 6.53427673e+02, 6.51648682e+02, 6.40977173e+02,\n",
       "       6.30474304e+02, 6.23906860e+02, 6.23696472e+02, 6.09972717e+02,\n",
       "       6.00124939e+02, 5.99044556e+02, 5.91965881e+02, 5.90039001e+02,\n",
       "       5.81872925e+02, 5.75231445e+02, 5.68329529e+02, 5.63803772e+02,\n",
       "       5.60208862e+02, 5.53822388e+02, 5.49827393e+02, 5.46937256e+02,\n",
       "       5.39617371e+02, 5.30423401e+02, 5.26804993e+02, 5.16026978e+02,\n",
       "       5.14108704e+02, 5.10837250e+02, 5.08656677e+02, 5.00989929e+02,\n",
       "       4.98647125e+02, 4.90200806e+02, 4.85529449e+02, 4.80507690e+02,\n",
       "       4.77838531e+02, 4.72560059e+02, 4.63788788e+02, 4.62447418e+02,\n",
       "       4.57541412e+02, 4.55769867e+02, 4.48919281e+02, 4.47445801e+02,\n",
       "       4.45074585e+02, 4.42800018e+02, 4.36751892e+02, 4.34555298e+02,\n",
       "       4.23319153e+02, 4.20531372e+02, 4.13752686e+02, 4.08552612e+02,\n",
       "       4.06821655e+02, 4.01595520e+02, 4.00096100e+02, 3.96466125e+02,\n",
       "       3.95452637e+02, 3.85095215e+02, 3.84807465e+02, 3.80919128e+02,\n",
       "       3.78887634e+02, 3.73104980e+02, 3.72286560e+02, 3.67705811e+02,\n",
       "       3.64569153e+02, 3.59144928e+02, 3.56590027e+02, 3.50284180e+02,\n",
       "       3.47648132e+02, 3.46549042e+02, 3.42715302e+02, 3.40636444e+02,\n",
       "       3.33711182e+02, 3.28718140e+02, 3.27518433e+02, 3.24711945e+02,\n",
       "       3.21154572e+02, 3.19888062e+02, 3.17155884e+02, 3.12157654e+02,\n",
       "       3.10544708e+02, 3.09252747e+02, 3.07712067e+02, 3.02836945e+02,\n",
       "       3.00344818e+02, 2.95567444e+02, 2.94945129e+02, 2.92795715e+02,\n",
       "       2.89727905e+02, 2.87814484e+02, 2.85920441e+02, 2.82940399e+02,\n",
       "       2.82070618e+02, 2.79248505e+02, 2.76161255e+02, 2.72419159e+02,\n",
       "       2.70533295e+02, 2.67566589e+02, 2.65506836e+02, 2.64568817e+02,\n",
       "       2.60558319e+02, 2.58032471e+02, 2.56381378e+02, 2.55042191e+02,\n",
       "       2.52687744e+02, 2.51435272e+02, 2.47922943e+02, 2.45812256e+02,\n",
       "       2.44533813e+02, 2.41624756e+02, 2.40475830e+02, 2.39053711e+02,\n",
       "       2.35747406e+02, 2.33280853e+02, 2.32601807e+02, 2.30647156e+02,\n",
       "       2.29944504e+02, 2.27908447e+02, 2.26112625e+02, 2.22778610e+02,\n",
       "       2.20555893e+02, 2.18618591e+02, 2.18256149e+02, 2.14852539e+02,\n",
       "       2.12764954e+02, 2.10890503e+02, 2.08915054e+02, 2.08078094e+02,\n",
       "       2.06962753e+02, 2.06228241e+02, 2.04425262e+02, 2.02479996e+02,\n",
       "       1.99815781e+02, 1.99319199e+02, 1.96646942e+02, 1.93984619e+02,\n",
       "       1.93232162e+02, 1.91909744e+02, 1.89831223e+02, 1.87421448e+02,\n",
       "       1.85780396e+02, 1.85137512e+02, 1.83094482e+02, 1.81965134e+02,\n",
       "       1.81726776e+02, 1.80409775e+02, 1.79939270e+02, 1.77420563e+02,\n",
       "       1.74793716e+02, 1.74503281e+02, 1.72792740e+02, 1.70102325e+02,\n",
       "       1.68385956e+02, 1.67238235e+02, 1.66070435e+02, 1.64138855e+02,\n",
       "       1.63489426e+02, 1.62437393e+02, 1.62019135e+02, 1.60083191e+02,\n",
       "       1.58170319e+02, 1.55880676e+02, 1.55621140e+02, 1.55159180e+02,\n",
       "       1.54433838e+02, 1.52643188e+02, 1.51198578e+02, 1.50254974e+02,\n",
       "       1.49074478e+02, 1.47536270e+02, 1.46526794e+02, 1.45955917e+02,\n",
       "       1.44366684e+02, 1.43152328e+02, 1.42107437e+02, 1.40276352e+02,\n",
       "       1.39849152e+02, 1.38244217e+02, 1.37314545e+02, 1.36126740e+02,\n",
       "       1.35743088e+02, 1.34869263e+02, 1.33041656e+02, 1.32689270e+02,\n",
       "       1.31752060e+02, 1.30320694e+02, 1.29350998e+02, 1.28261566e+02,\n",
       "       1.27354523e+02, 1.26693443e+02, 1.26266586e+02, 1.25451866e+02,\n",
       "       1.24760773e+02, 1.23025673e+02, 1.21909325e+02, 1.21373634e+02,\n",
       "       1.20463882e+02, 1.20036720e+02, 1.18096031e+02, 1.17507362e+02,\n",
       "       1.16170174e+02, 1.15316505e+02, 1.14838089e+02, 1.13644257e+02,\n",
       "       1.12228462e+02, 1.11290062e+02, 1.11034645e+02, 1.10071274e+02,\n",
       "       1.08834602e+02, 1.07682381e+02, 1.06633591e+02, 1.06415291e+02,\n",
       "       1.06025566e+02, 1.04963295e+02, 1.04833862e+02, 1.04294853e+02,\n",
       "       1.02628387e+02, 1.02289932e+02, 1.01582130e+02, 1.01116257e+02,\n",
       "       9.99950485e+01, 9.83375320e+01, 9.76489029e+01, 9.74180222e+01,\n",
       "       9.64206848e+01, 9.56954193e+01, 9.49057083e+01, 9.44465256e+01,\n",
       "       9.33765259e+01, 9.30245361e+01, 9.24796066e+01, 9.16238174e+01,\n",
       "       9.13845596e+01, 9.04704971e+01, 9.03057632e+01, 8.93667450e+01,\n",
       "       8.82618103e+01, 8.72721634e+01, 8.70958939e+01, 8.68293762e+01,\n",
       "       8.58368149e+01, 8.54845734e+01, 8.46299667e+01, 8.36112976e+01,\n",
       "       8.32093353e+01, 8.26734314e+01, 8.22603989e+01, 8.18871918e+01,\n",
       "       8.09840546e+01, 8.06788025e+01, 8.02560959e+01, 7.97485123e+01,\n",
       "       7.85440750e+01, 7.82828903e+01, 7.79547424e+01, 7.76570892e+01,\n",
       "       7.61336594e+01, 7.56411591e+01, 7.53793945e+01, 7.47874908e+01,\n",
       "       7.41415329e+01, 7.38809814e+01, 7.37543716e+01, 7.29024658e+01,\n",
       "       7.25116959e+01, 7.21842880e+01, 7.13059921e+01, 7.08552475e+01,\n",
       "       7.02064285e+01, 6.96704865e+01, 6.94739456e+01, 6.92254639e+01,\n",
       "       6.84722824e+01, 6.82332230e+01, 6.73342667e+01, 6.67353973e+01,\n",
       "       6.61882858e+01, 6.59751587e+01, 6.56337891e+01, 6.43620987e+01,\n",
       "       6.42255325e+01, 6.39946022e+01, 6.37818031e+01, 6.32768059e+01,\n",
       "       6.24723396e+01, 6.21076202e+01, 6.15854530e+01, 6.11224403e+01,\n",
       "       6.05223656e+01, 6.04612503e+01, 5.99079781e+01, 5.93851547e+01,\n",
       "       5.88867683e+01, 5.82898636e+01, 5.82556267e+01, 5.75824814e+01,\n",
       "       5.70478210e+01, 5.69605103e+01, 5.65719948e+01, 5.62315102e+01,\n",
       "       5.58575134e+01, 5.56412773e+01, 5.51109657e+01, 5.48095360e+01,\n",
       "       5.43785820e+01, 5.37913971e+01, 5.32605057e+01, 5.28615265e+01,\n",
       "       5.25831184e+01, 5.19467621e+01, 5.14047050e+01, 5.12394562e+01,\n",
       "       5.10555992e+01, 5.07823219e+01, 5.04130821e+01, 4.99306717e+01,\n",
       "       4.95377350e+01, 4.94029694e+01, 4.88931160e+01, 4.85755348e+01,\n",
       "       4.83133087e+01, 4.80962334e+01, 4.76028404e+01, 4.70440445e+01,\n",
       "       4.68534203e+01, 4.67757568e+01, 4.61864014e+01, 4.57167816e+01,\n",
       "       4.54487991e+01, 4.50948563e+01, 4.50313911e+01, 4.47104721e+01,\n",
       "       4.45900688e+01, 4.39414291e+01, 4.35131950e+01, 4.31556969e+01,\n",
       "       4.30202980e+01, 4.29406967e+01, 4.28538094e+01, 4.21315193e+01,\n",
       "       4.17425613e+01, 4.15455208e+01, 4.12823143e+01, 4.10990982e+01,\n",
       "       4.09569588e+01, 4.06083908e+01, 4.04441605e+01, 3.99488068e+01,\n",
       "       3.97295570e+01, 3.94541893e+01, 3.93217888e+01, 3.88729134e+01,\n",
       "       3.85808868e+01, 3.81528702e+01, 3.80423737e+01, 3.79205818e+01,\n",
       "       3.77831764e+01, 3.72490311e+01, 3.70101929e+01, 3.68829880e+01,\n",
       "       3.65610123e+01, 3.63752823e+01, 3.60128555e+01, 3.57242928e+01,\n",
       "       3.55318184e+01, 3.53548546e+01, 3.48347015e+01, 3.45246468e+01,\n",
       "       3.42039185e+01, 3.41442261e+01, 3.37205467e+01, 3.36316032e+01,\n",
       "       3.32472305e+01, 3.32285767e+01, 3.29820175e+01, 3.25772667e+01,\n",
       "       3.22024078e+01, 3.19481888e+01, 3.19145470e+01, 3.18989525e+01,\n",
       "       3.14560680e+01, 3.12754364e+01, 3.09352570e+01, 3.08062801e+01,\n",
       "       3.03481312e+01, 3.02255535e+01, 3.00721931e+01, 2.98400364e+01,\n",
       "       2.96004410e+01, 2.93423691e+01, 2.91377430e+01, 2.88648815e+01,\n",
       "       2.87961121e+01, 2.85463009e+01, 2.83054085e+01, 2.82318459e+01,\n",
       "       2.80568581e+01, 2.80021725e+01, 2.75410881e+01, 2.73875732e+01,\n",
       "       2.71279488e+01, 2.70584373e+01, 2.68199291e+01, 2.67408333e+01,\n",
       "       2.66213112e+01, 2.63837471e+01, 2.61838512e+01, 2.60063801e+01,\n",
       "       2.58329639e+01, 2.57183342e+01, 2.52850227e+01, 2.51224270e+01,\n",
       "       2.50849113e+01, 2.48433514e+01, 2.47986145e+01, 2.45724525e+01,\n",
       "       2.42568970e+01, 2.41679268e+01, 2.39655170e+01, 2.38310642e+01,\n",
       "       2.37069321e+01, 2.36836967e+01, 2.33432751e+01, 2.32341671e+01,\n",
       "       2.31414070e+01, 2.27132797e+01, 2.27007504e+01, 2.22716770e+01,\n",
       "       2.20865021e+01, 2.20280781e+01, 2.18908463e+01, 2.17573643e+01,\n",
       "       2.17276974e+01, 2.16093826e+01, 2.13146935e+01, 2.12269878e+01,\n",
       "       2.10156555e+01, 2.09166451e+01, 2.08132610e+01, 2.05783386e+01,\n",
       "       2.05059166e+01, 2.02726688e+01, 2.01789207e+01, 2.00588932e+01,\n",
       "       2.00154285e+01, 1.97177963e+01, 1.95943432e+01, 1.94744301e+01,\n",
       "       1.94139919e+01, 1.93468895e+01, 1.90871468e+01, 1.89786720e+01,\n",
       "       1.88206863e+01, 1.86380978e+01, 1.84997787e+01, 1.82621574e+01,\n",
       "       1.81651974e+01, 1.80002689e+01, 1.78875122e+01, 1.77759895e+01,\n",
       "       1.76373005e+01, 1.75088940e+01, 1.72894955e+01, 1.72623520e+01,\n",
       "       1.71742668e+01, 1.70504951e+01, 1.69680004e+01, 1.69323711e+01,\n",
       "       1.67022572e+01, 1.65154667e+01, 1.64870262e+01, 1.62632904e+01,\n",
       "       1.61461086e+01, 1.60390377e+01, 1.58538084e+01, 1.58146887e+01,\n",
       "       1.57321749e+01, 1.56353359e+01, 1.54875727e+01, 1.53470764e+01,\n",
       "       1.52505207e+01, 1.51950817e+01, 1.50264091e+01, 1.49761257e+01,\n",
       "       1.49082909e+01, 1.48066711e+01, 1.46783905e+01, 1.45240450e+01,\n",
       "       1.44059381e+01, 1.42671661e+01, 1.41810026e+01, 1.39024372e+01,\n",
       "       1.38390303e+01, 1.37792816e+01, 1.37386208e+01, 1.36625786e+01,\n",
       "       1.36313229e+01, 1.34144135e+01, 1.33736334e+01, 1.32052450e+01,\n",
       "       1.30899954e+01, 1.29247856e+01, 1.29111710e+01, 1.26476316e+01,\n",
       "       1.25383854e+01, 1.25031691e+01, 1.24899912e+01, 1.23335094e+01,\n",
       "       1.22386408e+01, 1.21748066e+01, 1.20510674e+01, 1.20093355e+01,\n",
       "       1.18909883e+01, 1.18180428e+01, 1.17184410e+01, 1.16174679e+01,\n",
       "       1.15585089e+01, 1.14401875e+01, 1.14016924e+01, 1.13462486e+01,\n",
       "       1.12920914e+01, 1.12234812e+01, 1.09994020e+01, 1.09169855e+01,\n",
       "       1.07930908e+01, 1.07795973e+01, 1.05332127e+01, 1.04524632e+01,\n",
       "       1.04225111e+01, 1.03287096e+01, 1.02471838e+01, 1.00859241e+01,\n",
       "       1.00330753e+01, 9.97730541e+00, 9.90088558e+00, 9.81683254e+00,\n",
       "       9.67492390e+00, 9.64724350e+00, 9.59971905e+00, 9.56221104e+00,\n",
       "       9.38238525e+00, 9.35367775e+00, 9.27249336e+00, 9.15689087e+00,\n",
       "       9.10059452e+00, 9.01892853e+00, 8.92937374e+00, 8.89995193e+00,\n",
       "       8.82367420e+00, 8.76841640e+00, 8.74001217e+00, 8.60827732e+00,\n",
       "       8.51424503e+00, 8.49933720e+00, 8.42968655e+00, 8.32713795e+00,\n",
       "       8.24381924e+00, 8.16542244e+00, 8.09508324e+00, 8.05244446e+00,\n",
       "       8.04608631e+00, 7.95020056e+00, 7.84718466e+00, 7.77838850e+00,\n",
       "       7.58947849e+00, 7.58236122e+00, 7.51824808e+00, 7.46655750e+00,\n",
       "       7.33237553e+00, 7.27272987e+00, 7.24611759e+00, 7.15487385e+00,\n",
       "       7.10796070e+00, 7.08256054e+00, 7.03580809e+00, 6.91530228e+00,\n",
       "       6.88803720e+00, 6.81864357e+00, 6.80859137e+00, 6.75071192e+00,\n",
       "       6.61686897e+00, 6.57069254e+00, 6.49012518e+00, 6.48752594e+00,\n",
       "       6.44303274e+00, 6.40848446e+00, 6.30145597e+00, 6.26883364e+00,\n",
       "       6.18950939e+00, 6.15355873e+00, 6.11641693e+00, 6.09703636e+00,\n",
       "       5.97028399e+00, 5.91113281e+00, 5.81305408e+00, 5.80511189e+00,\n",
       "       5.75897408e+00, 5.74515533e+00, 5.65576363e+00, 5.64359474e+00,\n",
       "       5.54589176e+00, 5.48098898e+00, 5.44493103e+00, 5.37716913e+00,\n",
       "       5.33162975e+00, 5.23596334e+00, 5.22368670e+00, 5.16101551e+00,\n",
       "       5.10284328e+00, 5.01899529e+00, 4.97848988e+00, 4.92721224e+00,\n",
       "       4.82257700e+00, 4.79777956e+00, 4.74263716e+00, 4.69372034e+00,\n",
       "       4.66791439e+00, 4.64423990e+00, 4.63443375e+00, 4.50498247e+00,\n",
       "       4.46418095e+00, 4.43073654e+00, 4.33618307e+00, 4.28656101e+00,\n",
       "       4.26099586e+00, 4.19830227e+00, 4.15036249e+00, 4.13420010e+00,\n",
       "       4.08964634e+00, 4.01928186e+00, 3.96437836e+00, 3.89560938e+00,\n",
       "       3.86874151e+00, 3.79078317e+00, 3.74782872e+00, 3.74147511e+00,\n",
       "       3.61415982e+00, 3.60310078e+00, 3.57729387e+00, 3.53788090e+00,\n",
       "       3.48527670e+00, 3.44578838e+00, 3.42800093e+00, 3.38957572e+00,\n",
       "       3.30858088e+00, 3.25606298e+00, 3.21729064e+00, 3.14754438e+00,\n",
       "       3.11622643e+00, 3.07590365e+00, 3.06975389e+00, 3.00142288e+00,\n",
       "       2.96739268e+00, 2.94659376e+00, 2.92120957e+00, 2.81337571e+00,\n",
       "       2.75152254e+00, 2.72833204e+00, 2.69299054e+00, 2.64866185e+00,\n",
       "       2.61002135e+00, 2.51388860e+00, 2.45261407e+00, 2.38987994e+00,\n",
       "       2.34981489e+00, 2.34143090e+00, 2.21715617e+00, 2.20069456e+00,\n",
       "       2.07037830e+00, 2.04349279e+00, 3.13481928e-06], dtype=float32)"
      ]
     },
     "execution_count": 94,
     "metadata": {},
     "output_type": "execute_result"
    }
   ],
   "source": [
    "pca.explained_variance_"
   ]
  },
  {
   "cell_type": "code",
   "execution_count": 95,
   "metadata": {},
   "outputs": [],
   "source": [
    "#finding best k for this training data"
   ]
  },
  {
   "cell_type": "code",
   "execution_count": 96,
   "metadata": {},
   "outputs": [],
   "source": [
    "k=0\n",
    "total=sum(pca.explained_variance_)\n",
    "currentVarianceSum=0\n",
    "while currentVarianceSum/total<0.99:\n",
    "    currentVarianceSum+=pca.explained_variance_[k]\n",
    "    k+=1"
   ]
  },
  {
   "cell_type": "code",
   "execution_count": 97,
   "metadata": {},
   "outputs": [
    {
     "data": {
      "text/plain": [
       "316"
      ]
     },
     "execution_count": 97,
     "metadata": {},
     "output_type": "execute_result"
    }
   ],
   "source": [
    "k          #so best k=316, for keeping 99% variance"
   ]
  },
  {
   "cell_type": "code",
   "execution_count": 98,
   "metadata": {},
   "outputs": [
    {
     "data": {
      "text/plain": [
       "(855, 1850)"
      ]
     },
     "execution_count": 98,
     "metadata": {},
     "output_type": "execute_result"
    }
   ],
   "source": [
    "x_train.shape     #initially 1850 features"
   ]
  },
  {
   "cell_type": "code",
   "execution_count": 99,
   "metadata": {},
   "outputs": [],
   "source": [
    "pca=PCA(n_components=316,whiten=True) "
   ]
  },
  {
   "cell_type": "code",
   "execution_count": 100,
   "metadata": {},
   "outputs": [],
   "source": [
    "x_train_pca=pca.fit_transform(x_train)\n",
    "x_test_pca=pca.transform(x_test)"
   ]
  },
  {
   "cell_type": "code",
   "execution_count": 101,
   "metadata": {},
   "outputs": [
    {
     "data": {
      "text/plain": [
       "((855, 316), (285, 316))"
      ]
     },
     "execution_count": 101,
     "metadata": {},
     "output_type": "execute_result"
    }
   ],
   "source": [
    "x_train_pca.shape,x_test_pca.shape       #features reduced to 316"
   ]
  },
  {
   "cell_type": "code",
   "execution_count": 102,
   "metadata": {},
   "outputs": [],
   "source": [
    "#now applying various classification algos"
   ]
  },
  {
   "cell_type": "code",
   "execution_count": 103,
   "metadata": {},
   "outputs": [],
   "source": [
    "#1. Logistic regression classifier.\n",
    "lr=LogisticRegression()"
   ]
  },
  {
   "cell_type": "code",
   "execution_count": 104,
   "metadata": {},
   "outputs": [
    {
     "name": "stderr",
     "output_type": "stream",
     "text": [
      "/anaconda3/lib/python3.7/site-packages/sklearn/linear_model/logistic.py:433: FutureWarning: Default solver will be changed to 'lbfgs' in 0.22. Specify a solver to silence this warning.\n",
      "  FutureWarning)\n",
      "/anaconda3/lib/python3.7/site-packages/sklearn/linear_model/logistic.py:460: FutureWarning: Default multi_class will be changed to 'auto' in 0.22. Specify the multi_class option to silence this warning.\n",
      "  \"this warning.\", FutureWarning)\n"
     ]
    },
    {
     "data": {
      "text/plain": [
       "LogisticRegression(C=1.0, class_weight=None, dual=False, fit_intercept=True,\n",
       "          intercept_scaling=1, max_iter=100, multi_class='warn',\n",
       "          n_jobs=None, penalty='l2', random_state=None, solver='warn',\n",
       "          tol=0.0001, verbose=0, warm_start=False)"
      ]
     },
     "execution_count": 104,
     "metadata": {},
     "output_type": "execute_result"
    }
   ],
   "source": [
    "lr.fit(x_train_pca,y_train)"
   ]
  },
  {
   "cell_type": "code",
   "execution_count": 105,
   "metadata": {},
   "outputs": [],
   "source": [
    "y_pred=lr.predict(x_test_pca)"
   ]
  },
  {
   "cell_type": "code",
   "execution_count": 106,
   "metadata": {},
   "outputs": [
    {
     "data": {
      "text/plain": [
       "0.8280701754385965"
      ]
     },
     "execution_count": 106,
     "metadata": {},
     "output_type": "execute_result"
    }
   ],
   "source": [
    "lr.score(x_test_pca,y_test)"
   ]
  },
  {
   "cell_type": "code",
   "execution_count": 107,
   "metadata": {},
   "outputs": [
    {
     "name": "stdout",
     "output_type": "stream",
     "text": [
      "[[ 52   2   4   1   2]\n",
      " [  2  28   5   1   0]\n",
      " [  4   5 109   4   0]\n",
      " [  4   1   6  20   0]\n",
      " [  1   0   6   1  27]]\n"
     ]
    }
   ],
   "source": [
    "print(confusion_matrix(y_true=y_test,y_pred=y_pred))"
   ]
  },
  {
   "cell_type": "code",
   "execution_count": 109,
   "metadata": {},
   "outputs": [
    {
     "name": "stdout",
     "output_type": "stream",
     "text": [
      "              precision    recall  f1-score   support\n",
      "\n",
      "           0       0.83      0.85      0.84        61\n",
      "           1       0.78      0.78      0.78        36\n",
      "           2       0.84      0.89      0.87       122\n",
      "           3       0.74      0.65      0.69        31\n",
      "           4       0.93      0.77      0.84        35\n",
      "\n",
      "   micro avg       0.83      0.83      0.83       285\n",
      "   macro avg       0.82      0.79      0.80       285\n",
      "weighted avg       0.83      0.83      0.83       285\n",
      "\n"
     ]
    }
   ],
   "source": [
    "print(classification_report(y_true=y_test,y_pred=y_pred))"
   ]
  },
  {
   "cell_type": "code",
   "execution_count": 110,
   "metadata": {},
   "outputs": [],
   "source": [
    "grid={\"C\":[1e0,1e2,1e3,1e4,5e3,5e4]}"
   ]
  },
  {
   "cell_type": "code",
   "execution_count": 111,
   "metadata": {},
   "outputs": [],
   "source": [
    "abc=GridSearchCV(lr,grid)"
   ]
  },
  {
   "cell_type": "code",
   "execution_count": 112,
   "metadata": {},
   "outputs": [
    {
     "name": "stderr",
     "output_type": "stream",
     "text": [
      "/anaconda3/lib/python3.7/site-packages/sklearn/model_selection/_split.py:2053: FutureWarning: You should specify a value for 'cv' instead of relying on the default value. The default value will change from 3 to 5 in version 0.22.\n",
      "  warnings.warn(CV_WARNING, FutureWarning)\n",
      "/anaconda3/lib/python3.7/site-packages/sklearn/linear_model/logistic.py:433: FutureWarning: Default solver will be changed to 'lbfgs' in 0.22. Specify a solver to silence this warning.\n",
      "  FutureWarning)\n",
      "/anaconda3/lib/python3.7/site-packages/sklearn/linear_model/logistic.py:460: FutureWarning: Default multi_class will be changed to 'auto' in 0.22. Specify the multi_class option to silence this warning.\n",
      "  \"this warning.\", FutureWarning)\n",
      "/anaconda3/lib/python3.7/site-packages/sklearn/linear_model/logistic.py:433: FutureWarning: Default solver will be changed to 'lbfgs' in 0.22. Specify a solver to silence this warning.\n",
      "  FutureWarning)\n",
      "/anaconda3/lib/python3.7/site-packages/sklearn/linear_model/logistic.py:460: FutureWarning: Default multi_class will be changed to 'auto' in 0.22. Specify the multi_class option to silence this warning.\n",
      "  \"this warning.\", FutureWarning)\n",
      "/anaconda3/lib/python3.7/site-packages/sklearn/linear_model/logistic.py:433: FutureWarning: Default solver will be changed to 'lbfgs' in 0.22. Specify a solver to silence this warning.\n",
      "  FutureWarning)\n",
      "/anaconda3/lib/python3.7/site-packages/sklearn/linear_model/logistic.py:460: FutureWarning: Default multi_class will be changed to 'auto' in 0.22. Specify the multi_class option to silence this warning.\n",
      "  \"this warning.\", FutureWarning)\n",
      "/anaconda3/lib/python3.7/site-packages/sklearn/linear_model/logistic.py:433: FutureWarning: Default solver will be changed to 'lbfgs' in 0.22. Specify a solver to silence this warning.\n",
      "  FutureWarning)\n",
      "/anaconda3/lib/python3.7/site-packages/sklearn/linear_model/logistic.py:460: FutureWarning: Default multi_class will be changed to 'auto' in 0.22. Specify the multi_class option to silence this warning.\n",
      "  \"this warning.\", FutureWarning)\n",
      "/anaconda3/lib/python3.7/site-packages/sklearn/linear_model/logistic.py:433: FutureWarning: Default solver will be changed to 'lbfgs' in 0.22. Specify a solver to silence this warning.\n",
      "  FutureWarning)\n",
      "/anaconda3/lib/python3.7/site-packages/sklearn/linear_model/logistic.py:460: FutureWarning: Default multi_class will be changed to 'auto' in 0.22. Specify the multi_class option to silence this warning.\n",
      "  \"this warning.\", FutureWarning)\n",
      "/anaconda3/lib/python3.7/site-packages/sklearn/linear_model/logistic.py:433: FutureWarning: Default solver will be changed to 'lbfgs' in 0.22. Specify a solver to silence this warning.\n",
      "  FutureWarning)\n",
      "/anaconda3/lib/python3.7/site-packages/sklearn/linear_model/logistic.py:460: FutureWarning: Default multi_class will be changed to 'auto' in 0.22. Specify the multi_class option to silence this warning.\n",
      "  \"this warning.\", FutureWarning)\n",
      "/anaconda3/lib/python3.7/site-packages/sklearn/linear_model/logistic.py:433: FutureWarning: Default solver will be changed to 'lbfgs' in 0.22. Specify a solver to silence this warning.\n",
      "  FutureWarning)\n",
      "/anaconda3/lib/python3.7/site-packages/sklearn/linear_model/logistic.py:460: FutureWarning: Default multi_class will be changed to 'auto' in 0.22. Specify the multi_class option to silence this warning.\n",
      "  \"this warning.\", FutureWarning)\n",
      "/anaconda3/lib/python3.7/site-packages/sklearn/linear_model/logistic.py:433: FutureWarning: Default solver will be changed to 'lbfgs' in 0.22. Specify a solver to silence this warning.\n",
      "  FutureWarning)\n",
      "/anaconda3/lib/python3.7/site-packages/sklearn/linear_model/logistic.py:460: FutureWarning: Default multi_class will be changed to 'auto' in 0.22. Specify the multi_class option to silence this warning.\n",
      "  \"this warning.\", FutureWarning)\n",
      "/anaconda3/lib/python3.7/site-packages/sklearn/linear_model/logistic.py:433: FutureWarning: Default solver will be changed to 'lbfgs' in 0.22. Specify a solver to silence this warning.\n",
      "  FutureWarning)\n",
      "/anaconda3/lib/python3.7/site-packages/sklearn/linear_model/logistic.py:460: FutureWarning: Default multi_class will be changed to 'auto' in 0.22. Specify the multi_class option to silence this warning.\n",
      "  \"this warning.\", FutureWarning)\n",
      "/anaconda3/lib/python3.7/site-packages/sklearn/linear_model/logistic.py:433: FutureWarning: Default solver will be changed to 'lbfgs' in 0.22. Specify a solver to silence this warning.\n",
      "  FutureWarning)\n",
      "/anaconda3/lib/python3.7/site-packages/sklearn/linear_model/logistic.py:460: FutureWarning: Default multi_class will be changed to 'auto' in 0.22. Specify the multi_class option to silence this warning.\n",
      "  \"this warning.\", FutureWarning)\n",
      "/anaconda3/lib/python3.7/site-packages/sklearn/linear_model/logistic.py:433: FutureWarning: Default solver will be changed to 'lbfgs' in 0.22. Specify a solver to silence this warning.\n",
      "  FutureWarning)\n",
      "/anaconda3/lib/python3.7/site-packages/sklearn/linear_model/logistic.py:460: FutureWarning: Default multi_class will be changed to 'auto' in 0.22. Specify the multi_class option to silence this warning.\n",
      "  \"this warning.\", FutureWarning)\n",
      "/anaconda3/lib/python3.7/site-packages/sklearn/linear_model/logistic.py:433: FutureWarning: Default solver will be changed to 'lbfgs' in 0.22. Specify a solver to silence this warning.\n",
      "  FutureWarning)\n",
      "/anaconda3/lib/python3.7/site-packages/sklearn/linear_model/logistic.py:460: FutureWarning: Default multi_class will be changed to 'auto' in 0.22. Specify the multi_class option to silence this warning.\n",
      "  \"this warning.\", FutureWarning)\n",
      "/anaconda3/lib/python3.7/site-packages/sklearn/linear_model/logistic.py:433: FutureWarning: Default solver will be changed to 'lbfgs' in 0.22. Specify a solver to silence this warning.\n",
      "  FutureWarning)\n",
      "/anaconda3/lib/python3.7/site-packages/sklearn/linear_model/logistic.py:460: FutureWarning: Default multi_class will be changed to 'auto' in 0.22. Specify the multi_class option to silence this warning.\n",
      "  \"this warning.\", FutureWarning)\n",
      "/anaconda3/lib/python3.7/site-packages/sklearn/linear_model/logistic.py:433: FutureWarning: Default solver will be changed to 'lbfgs' in 0.22. Specify a solver to silence this warning.\n",
      "  FutureWarning)\n",
      "/anaconda3/lib/python3.7/site-packages/sklearn/linear_model/logistic.py:460: FutureWarning: Default multi_class will be changed to 'auto' in 0.22. Specify the multi_class option to silence this warning.\n",
      "  \"this warning.\", FutureWarning)\n",
      "/anaconda3/lib/python3.7/site-packages/sklearn/linear_model/logistic.py:433: FutureWarning: Default solver will be changed to 'lbfgs' in 0.22. Specify a solver to silence this warning.\n",
      "  FutureWarning)\n",
      "/anaconda3/lib/python3.7/site-packages/sklearn/linear_model/logistic.py:460: FutureWarning: Default multi_class will be changed to 'auto' in 0.22. Specify the multi_class option to silence this warning.\n",
      "  \"this warning.\", FutureWarning)\n",
      "/anaconda3/lib/python3.7/site-packages/sklearn/linear_model/logistic.py:433: FutureWarning: Default solver will be changed to 'lbfgs' in 0.22. Specify a solver to silence this warning.\n",
      "  FutureWarning)\n",
      "/anaconda3/lib/python3.7/site-packages/sklearn/linear_model/logistic.py:460: FutureWarning: Default multi_class will be changed to 'auto' in 0.22. Specify the multi_class option to silence this warning.\n",
      "  \"this warning.\", FutureWarning)\n",
      "/anaconda3/lib/python3.7/site-packages/sklearn/linear_model/logistic.py:433: FutureWarning: Default solver will be changed to 'lbfgs' in 0.22. Specify a solver to silence this warning.\n",
      "  FutureWarning)\n",
      "/anaconda3/lib/python3.7/site-packages/sklearn/linear_model/logistic.py:460: FutureWarning: Default multi_class will be changed to 'auto' in 0.22. Specify the multi_class option to silence this warning.\n",
      "  \"this warning.\", FutureWarning)\n",
      "/anaconda3/lib/python3.7/site-packages/sklearn/linear_model/logistic.py:433: FutureWarning: Default solver will be changed to 'lbfgs' in 0.22. Specify a solver to silence this warning.\n",
      "  FutureWarning)\n",
      "/anaconda3/lib/python3.7/site-packages/sklearn/linear_model/logistic.py:460: FutureWarning: Default multi_class will be changed to 'auto' in 0.22. Specify the multi_class option to silence this warning.\n",
      "  \"this warning.\", FutureWarning)\n",
      "/anaconda3/lib/python3.7/site-packages/sklearn/linear_model/logistic.py:433: FutureWarning: Default solver will be changed to 'lbfgs' in 0.22. Specify a solver to silence this warning.\n",
      "  FutureWarning)\n",
      "/anaconda3/lib/python3.7/site-packages/sklearn/linear_model/logistic.py:460: FutureWarning: Default multi_class will be changed to 'auto' in 0.22. Specify the multi_class option to silence this warning.\n",
      "  \"this warning.\", FutureWarning)\n"
     ]
    },
    {
     "data": {
      "text/plain": [
       "GridSearchCV(cv='warn', error_score='raise-deprecating',\n",
       "       estimator=LogisticRegression(C=1.0, class_weight=None, dual=False, fit_intercept=True,\n",
       "          intercept_scaling=1, max_iter=100, multi_class='warn',\n",
       "          n_jobs=None, penalty='l2', random_state=None, solver='warn',\n",
       "          tol=0.0001, verbose=0, warm_start=False),\n",
       "       fit_params=None, iid='warn', n_jobs=None,\n",
       "       param_grid={'C': [1.0, 100.0, 1000.0, 10000.0, 5000.0, 50000.0]},\n",
       "       pre_dispatch='2*n_jobs', refit=True, return_train_score='warn',\n",
       "       scoring=None, verbose=0)"
      ]
     },
     "execution_count": 112,
     "metadata": {},
     "output_type": "execute_result"
    }
   ],
   "source": [
    "abc.fit(x_train_pca,y_train)"
   ]
  },
  {
   "cell_type": "code",
   "execution_count": 113,
   "metadata": {},
   "outputs": [
    {
     "data": {
      "text/plain": [
       "LogisticRegression(C=1.0, class_weight=None, dual=False, fit_intercept=True,\n",
       "          intercept_scaling=1, max_iter=100, multi_class='warn',\n",
       "          n_jobs=None, penalty='l2', random_state=None, solver='warn',\n",
       "          tol=0.0001, verbose=0, warm_start=False)"
      ]
     },
     "execution_count": 113,
     "metadata": {},
     "output_type": "execute_result"
    }
   ],
   "source": [
    "abc.best_estimator_"
   ]
  },
  {
   "cell_type": "code",
   "execution_count": 114,
   "metadata": {},
   "outputs": [],
   "source": [
    "#c=1.0 (best) by grid search. So keep it as it is."
   ]
  },
  {
   "cell_type": "code",
   "execution_count": null,
   "metadata": {},
   "outputs": [],
   "source": []
  },
  {
   "cell_type": "code",
   "execution_count": null,
   "metadata": {},
   "outputs": [],
   "source": []
  },
  {
   "cell_type": "code",
   "execution_count": 34,
   "metadata": {},
   "outputs": [],
   "source": [
    "#2.Naive bayes classifier: gaussian and multinomial"
   ]
  },
  {
   "cell_type": "code",
   "execution_count": 35,
   "metadata": {},
   "outputs": [],
   "source": [
    "gnb=GaussianNB()"
   ]
  },
  {
   "cell_type": "code",
   "execution_count": 36,
   "metadata": {},
   "outputs": [
    {
     "data": {
      "text/plain": [
       "GaussianNB(priors=None, var_smoothing=1e-09)"
      ]
     },
     "execution_count": 36,
     "metadata": {},
     "output_type": "execute_result"
    }
   ],
   "source": [
    "gnb.fit(x_train_pca,y_train)"
   ]
  },
  {
   "cell_type": "code",
   "execution_count": 37,
   "metadata": {},
   "outputs": [],
   "source": [
    "y_pred=gnb.predict(x_test_pca)"
   ]
  },
  {
   "cell_type": "code",
   "execution_count": 38,
   "metadata": {},
   "outputs": [
    {
     "data": {
      "text/plain": [
       "0.6140350877192983"
      ]
     },
     "execution_count": 38,
     "metadata": {},
     "output_type": "execute_result"
    }
   ],
   "source": [
    "gnb.score(x_test_pca,y_test)"
   ]
  },
  {
   "cell_type": "code",
   "execution_count": 41,
   "metadata": {},
   "outputs": [
    {
     "name": "stdout",
     "output_type": "stream",
     "text": [
      "gaussian nb:\n",
      "              precision    recall  f1-score   support\n",
      "\n",
      "           0       0.46      0.72      0.56        61\n",
      "           1       0.63      0.67      0.65        36\n",
      "           2       0.68      0.69      0.69       122\n",
      "           3       0.89      0.26      0.40        31\n",
      "           4       0.75      0.43      0.55        35\n",
      "\n",
      "   micro avg       0.61      0.61      0.61       285\n",
      "   macro avg       0.68      0.55      0.57       285\n",
      "weighted avg       0.66      0.61      0.61       285\n",
      "\n",
      "[[44  2 14  1  0]\n",
      " [ 8 24  4  0  0]\n",
      " [29  7 84  0  2]\n",
      " [ 8  2 10  8  3]\n",
      " [ 6  3 11  0 15]]\n"
     ]
    }
   ],
   "source": [
    "print('gaussian nb:')\n",
    "print(classification_report(y_test,y_pred))\n",
    "print(confusion_matrix(y_test,y_pred))"
   ]
  },
  {
   "cell_type": "code",
   "execution_count": null,
   "metadata": {},
   "outputs": [],
   "source": []
  },
  {
   "cell_type": "code",
   "execution_count": 42,
   "metadata": {},
   "outputs": [],
   "source": [
    "mnb=MultinomialNB()"
   ]
  },
  {
   "cell_type": "code",
   "execution_count": 44,
   "metadata": {},
   "outputs": [],
   "source": [
    "#mnb.fit(x_train_pca,y_train) : didn't work"
   ]
  },
  {
   "cell_type": "code",
   "execution_count": null,
   "metadata": {},
   "outputs": [],
   "source": []
  },
  {
   "cell_type": "code",
   "execution_count": 45,
   "metadata": {},
   "outputs": [],
   "source": [
    "#3. randomForest"
   ]
  },
  {
   "cell_type": "code",
   "execution_count": 46,
   "metadata": {},
   "outputs": [],
   "source": [
    "rf=RandomForestClassifier()"
   ]
  },
  {
   "cell_type": "code",
   "execution_count": 47,
   "metadata": {},
   "outputs": [
    {
     "name": "stderr",
     "output_type": "stream",
     "text": [
      "/anaconda3/lib/python3.7/site-packages/sklearn/ensemble/forest.py:246: FutureWarning: The default value of n_estimators will change from 10 in version 0.20 to 100 in 0.22.\n",
      "  \"10 in version 0.20 to 100 in 0.22.\", FutureWarning)\n"
     ]
    },
    {
     "data": {
      "text/plain": [
       "RandomForestClassifier(bootstrap=True, class_weight=None, criterion='gini',\n",
       "            max_depth=None, max_features='auto', max_leaf_nodes=None,\n",
       "            min_impurity_decrease=0.0, min_impurity_split=None,\n",
       "            min_samples_leaf=1, min_samples_split=2,\n",
       "            min_weight_fraction_leaf=0.0, n_estimators=10, n_jobs=None,\n",
       "            oob_score=False, random_state=None, verbose=0,\n",
       "            warm_start=False)"
      ]
     },
     "execution_count": 47,
     "metadata": {},
     "output_type": "execute_result"
    }
   ],
   "source": [
    "rf.fit(x_train_pca,y_train)"
   ]
  },
  {
   "cell_type": "code",
   "execution_count": 48,
   "metadata": {},
   "outputs": [],
   "source": [
    "y_pred=rf.predict(x_test_pca)"
   ]
  },
  {
   "cell_type": "code",
   "execution_count": 49,
   "metadata": {},
   "outputs": [
    {
     "data": {
      "text/plain": [
       "0.47368421052631576"
      ]
     },
     "execution_count": 49,
     "metadata": {},
     "output_type": "execute_result"
    }
   ],
   "source": [
    "rf.score(x_test_pca,y_test)"
   ]
  },
  {
   "cell_type": "code",
   "execution_count": 50,
   "metadata": {},
   "outputs": [
    {
     "name": "stdout",
     "output_type": "stream",
     "text": [
      "Random forest:\n",
      "              precision    recall  f1-score   support\n",
      "\n",
      "           0       0.47      0.44      0.46        61\n",
      "           1       0.18      0.06      0.09        36\n",
      "           2       0.52      0.84      0.64       122\n",
      "           3       0.25      0.06      0.10        31\n",
      "           4       0.11      0.03      0.05        35\n",
      "\n",
      "   micro avg       0.47      0.47      0.47       285\n",
      "   macro avg       0.31      0.29      0.27       285\n",
      "weighted avg       0.39      0.47      0.40       285\n",
      "\n",
      "[[ 27   1  29   1   3]\n",
      " [  9   2  22   2   1]\n",
      " [ 10   5 103   2   2]\n",
      " [  1   1  25   2   2]\n",
      " [ 10   2  21   1   1]]\n"
     ]
    }
   ],
   "source": [
    "print('Random forest:')\n",
    "print(classification_report(y_test,y_pred))\n",
    "print(confusion_matrix(y_test,y_pred))"
   ]
  },
  {
   "cell_type": "code",
   "execution_count": null,
   "metadata": {},
   "outputs": [],
   "source": []
  },
  {
   "cell_type": "code",
   "execution_count": 51,
   "metadata": {},
   "outputs": [],
   "source": [
    "#4. decision trees\n"
   ]
  },
  {
   "cell_type": "code",
   "execution_count": 52,
   "metadata": {},
   "outputs": [],
   "source": [
    "dtree=DecisionTreeClassifier()"
   ]
  },
  {
   "cell_type": "code",
   "execution_count": 54,
   "metadata": {},
   "outputs": [],
   "source": [
    "dtree.fit(x_train_pca,y_train)\n",
    "y_pred=dtree.predict(x_test_pca)"
   ]
  },
  {
   "cell_type": "code",
   "execution_count": 55,
   "metadata": {},
   "outputs": [
    {
     "data": {
      "text/plain": [
       "0.47719298245614034"
      ]
     },
     "execution_count": 55,
     "metadata": {},
     "output_type": "execute_result"
    }
   ],
   "source": [
    "dtree.score(x_test_pca,y_test)"
   ]
  },
  {
   "cell_type": "code",
   "execution_count": 56,
   "metadata": {},
   "outputs": [
    {
     "name": "stdout",
     "output_type": "stream",
     "text": [
      "Decision tree:\n",
      "              precision    recall  f1-score   support\n",
      "\n",
      "           0       0.52      0.44      0.48        61\n",
      "           1       0.22      0.19      0.21        36\n",
      "           2       0.59      0.69      0.63       122\n",
      "           3       0.32      0.26      0.29        31\n",
      "           4       0.30      0.29      0.29        35\n",
      "\n",
      "   micro avg       0.48      0.48      0.48       285\n",
      "   macro avg       0.39      0.37      0.38       285\n",
      "weighted avg       0.46      0.48      0.47       285\n",
      "\n",
      "[[27  6 19  3  6]\n",
      " [ 9  7 14  2  4]\n",
      " [10 12 84  6 10]\n",
      " [ 3  6 11  8  3]\n",
      " [ 3  1 15  6 10]]\n"
     ]
    }
   ],
   "source": [
    "print('Decision tree:')\n",
    "print(classification_report(y_test,y_pred))\n",
    "print(confusion_matrix(y_test,y_pred))"
   ]
  },
  {
   "cell_type": "code",
   "execution_count": null,
   "metadata": {},
   "outputs": [],
   "source": []
  },
  {
   "cell_type": "code",
   "execution_count": 58,
   "metadata": {},
   "outputs": [],
   "source": [
    "#4.knn\n"
   ]
  },
  {
   "cell_type": "code",
   "execution_count": 115,
   "metadata": {},
   "outputs": [],
   "source": [
    "knn=KNeighborsClassifier()     #using grid search to find best k"
   ]
  },
  {
   "cell_type": "code",
   "execution_count": 117,
   "metadata": {},
   "outputs": [],
   "source": [
    "grid={\"n_neighbors\":[1,3,5,7,9,11]}"
   ]
  },
  {
   "cell_type": "code",
   "execution_count": 118,
   "metadata": {},
   "outputs": [],
   "source": [
    "abc=GridSearchCV(knn,grid)"
   ]
  },
  {
   "cell_type": "code",
   "execution_count": 119,
   "metadata": {},
   "outputs": [
    {
     "name": "stderr",
     "output_type": "stream",
     "text": [
      "/anaconda3/lib/python3.7/site-packages/sklearn/model_selection/_split.py:2053: FutureWarning: You should specify a value for 'cv' instead of relying on the default value. The default value will change from 3 to 5 in version 0.22.\n",
      "  warnings.warn(CV_WARNING, FutureWarning)\n"
     ]
    },
    {
     "data": {
      "text/plain": [
       "GridSearchCV(cv='warn', error_score='raise-deprecating',\n",
       "       estimator=KNeighborsClassifier(algorithm='auto', leaf_size=30, metric='minkowski',\n",
       "           metric_params=None, n_jobs=None, n_neighbors=5, p=2,\n",
       "           weights='uniform'),\n",
       "       fit_params=None, iid='warn', n_jobs=None,\n",
       "       param_grid={'n_neighbors': [1, 3, 5, 7, 9, 11]},\n",
       "       pre_dispatch='2*n_jobs', refit=True, return_train_score='warn',\n",
       "       scoring=None, verbose=0)"
      ]
     },
     "execution_count": 119,
     "metadata": {},
     "output_type": "execute_result"
    }
   ],
   "source": [
    "abc.fit(x_train_pca,y_train)"
   ]
  },
  {
   "cell_type": "code",
   "execution_count": 120,
   "metadata": {},
   "outputs": [
    {
     "data": {
      "text/plain": [
       "KNeighborsClassifier(algorithm='auto', leaf_size=30, metric='minkowski',\n",
       "           metric_params=None, n_jobs=None, n_neighbors=3, p=2,\n",
       "           weights='uniform')"
      ]
     },
     "execution_count": 120,
     "metadata": {},
     "output_type": "execute_result"
    }
   ],
   "source": [
    "abc.best_estimator_"
   ]
  },
  {
   "cell_type": "code",
   "execution_count": 121,
   "metadata": {},
   "outputs": [],
   "source": [
    "#k or n_neighbors=3 (best), #so use k=3"
   ]
  },
  {
   "cell_type": "code",
   "execution_count": 122,
   "metadata": {},
   "outputs": [],
   "source": [
    "knn=KNeighborsClassifier(n_neighbors=3)"
   ]
  },
  {
   "cell_type": "code",
   "execution_count": 123,
   "metadata": {},
   "outputs": [
    {
     "data": {
      "text/plain": [
       "KNeighborsClassifier(algorithm='auto', leaf_size=30, metric='minkowski',\n",
       "           metric_params=None, n_jobs=None, n_neighbors=3, p=2,\n",
       "           weights='uniform')"
      ]
     },
     "execution_count": 123,
     "metadata": {},
     "output_type": "execute_result"
    }
   ],
   "source": [
    "knn.fit(x_train_pca,y_train)"
   ]
  },
  {
   "cell_type": "code",
   "execution_count": 124,
   "metadata": {},
   "outputs": [],
   "source": [
    "y_pred=knn.predict(x_test_pca)"
   ]
  },
  {
   "cell_type": "code",
   "execution_count": 125,
   "metadata": {},
   "outputs": [
    {
     "data": {
      "text/plain": [
       "0.5614035087719298"
      ]
     },
     "execution_count": 125,
     "metadata": {},
     "output_type": "execute_result"
    }
   ],
   "source": [
    "knn.score(x_test_pca,y_test)"
   ]
  },
  {
   "cell_type": "code",
   "execution_count": 126,
   "metadata": {},
   "outputs": [
    {
     "name": "stdout",
     "output_type": "stream",
     "text": [
      "KNN:\n",
      "              precision    recall  f1-score   support\n",
      "\n",
      "           0       0.93      0.44      0.60        61\n",
      "           1       0.88      0.19      0.32        36\n",
      "           2       0.52      0.93      0.66       122\n",
      "           3       1.00      0.03      0.06        31\n",
      "           4       0.41      0.34      0.38        35\n",
      "\n",
      "   micro avg       0.56      0.56      0.56       285\n",
      "   macro avg       0.75      0.39      0.40       285\n",
      "weighted avg       0.69      0.56      0.51       285\n",
      "\n",
      "[[ 27   0  30   0   4]\n",
      " [  1   7  27   0   1]\n",
      " [  1   0 113   0   8]\n",
      " [  0   1  25   1   4]\n",
      " [  0   0  23   0  12]]\n"
     ]
    }
   ],
   "source": [
    "print('KNN:')\n",
    "print(classification_report(y_test,y_pred))\n",
    "print(confusion_matrix(y_test,y_pred))"
   ]
  },
  {
   "cell_type": "code",
   "execution_count": null,
   "metadata": {},
   "outputs": [],
   "source": []
  },
  {
   "cell_type": "code",
   "execution_count": 57,
   "metadata": {},
   "outputs": [],
   "source": [
    "#4.svm: linear kernel, linear svm, gaussian svm, polynomial svm"
   ]
  },
  {
   "cell_type": "code",
   "execution_count": 127,
   "metadata": {},
   "outputs": [],
   "source": [
    "#since svm also support multiclass , we can work on all features instead of just 2."
   ]
  },
  {
   "cell_type": "code",
   "execution_count": 128,
   "metadata": {},
   "outputs": [],
   "source": [
    "clf=svm.SVC(kernel='linear')"
   ]
  },
  {
   "cell_type": "code",
   "execution_count": 129,
   "metadata": {},
   "outputs": [],
   "source": [
    "grid={\"C\":[1e0,1e2,1e3,1e4,5e3,5e2]}"
   ]
  },
  {
   "cell_type": "code",
   "execution_count": 130,
   "metadata": {},
   "outputs": [],
   "source": [
    "abc=GridSearchCV(clf,grid)"
   ]
  },
  {
   "cell_type": "code",
   "execution_count": 131,
   "metadata": {},
   "outputs": [
    {
     "name": "stderr",
     "output_type": "stream",
     "text": [
      "/anaconda3/lib/python3.7/site-packages/sklearn/model_selection/_split.py:2053: FutureWarning: You should specify a value for 'cv' instead of relying on the default value. The default value will change from 3 to 5 in version 0.22.\n",
      "  warnings.warn(CV_WARNING, FutureWarning)\n"
     ]
    },
    {
     "data": {
      "text/plain": [
       "GridSearchCV(cv='warn', error_score='raise-deprecating',\n",
       "       estimator=SVC(C=1.0, cache_size=200, class_weight=None, coef0=0.0,\n",
       "  decision_function_shape='ovr', degree=3, gamma='auto_deprecated',\n",
       "  kernel='linear', max_iter=-1, probability=False, random_state=None,\n",
       "  shrinking=True, tol=0.001, verbose=False),\n",
       "       fit_params=None, iid='warn', n_jobs=None,\n",
       "       param_grid={'C': [1.0, 100.0, 1000.0, 10000.0, 5000.0, 500.0]},\n",
       "       pre_dispatch='2*n_jobs', refit=True, return_train_score='warn',\n",
       "       scoring=None, verbose=0)"
      ]
     },
     "execution_count": 131,
     "metadata": {},
     "output_type": "execute_result"
    }
   ],
   "source": [
    "abc.fit(x_train_pca,y_train)"
   ]
  },
  {
   "cell_type": "code",
   "execution_count": 132,
   "metadata": {},
   "outputs": [
    {
     "data": {
      "text/plain": [
       "SVC(C=1.0, cache_size=200, class_weight=None, coef0=0.0,\n",
       "  decision_function_shape='ovr', degree=3, gamma='auto_deprecated',\n",
       "  kernel='linear', max_iter=-1, probability=False, random_state=None,\n",
       "  shrinking=True, tol=0.001, verbose=False)"
      ]
     },
     "execution_count": 132,
     "metadata": {},
     "output_type": "execute_result"
    }
   ],
   "source": [
    "abc.best_estimator_"
   ]
  },
  {
   "cell_type": "code",
   "execution_count": 133,
   "metadata": {},
   "outputs": [],
   "source": [
    "#C=1.0 (best) for kernel=linear, so now using it"
   ]
  },
  {
   "cell_type": "code",
   "execution_count": 134,
   "metadata": {},
   "outputs": [],
   "source": [
    "clf=svm.SVC(kernel='linear',C=1.0)"
   ]
  },
  {
   "cell_type": "code",
   "execution_count": 135,
   "metadata": {},
   "outputs": [
    {
     "data": {
      "text/plain": [
       "SVC(C=1.0, cache_size=200, class_weight=None, coef0=0.0,\n",
       "  decision_function_shape='ovr', degree=3, gamma='auto_deprecated',\n",
       "  kernel='linear', max_iter=-1, probability=False, random_state=None,\n",
       "  shrinking=True, tol=0.001, verbose=False)"
      ]
     },
     "execution_count": 135,
     "metadata": {},
     "output_type": "execute_result"
    }
   ],
   "source": [
    "clf.fit(x_train_pca,y_train)"
   ]
  },
  {
   "cell_type": "code",
   "execution_count": 136,
   "metadata": {},
   "outputs": [
    {
     "data": {
      "text/plain": [
       "0.8421052631578947"
      ]
     },
     "execution_count": 136,
     "metadata": {},
     "output_type": "execute_result"
    }
   ],
   "source": [
    "clf.score(x_test_pca,y_test)"
   ]
  },
  {
   "cell_type": "code",
   "execution_count": 137,
   "metadata": {},
   "outputs": [],
   "source": [
    "y_pred=clf.predict(x_test_pca)"
   ]
  },
  {
   "cell_type": "code",
   "execution_count": 138,
   "metadata": {},
   "outputs": [
    {
     "name": "stdout",
     "output_type": "stream",
     "text": [
      "SVM with linear kernel:\n",
      "              precision    recall  f1-score   support\n",
      "\n",
      "           0       0.78      0.85      0.81        61\n",
      "           1       0.81      0.72      0.76        36\n",
      "           2       0.86      0.92      0.89       122\n",
      "           3       0.88      0.71      0.79        31\n",
      "           4       0.90      0.80      0.85        35\n",
      "\n",
      "   micro avg       0.84      0.84      0.84       285\n",
      "   macro avg       0.85      0.80      0.82       285\n",
      "weighted avg       0.84      0.84      0.84       285\n",
      "\n",
      "[[ 52   1   4   1   3]\n",
      " [  5  26   5   0   0]\n",
      " [  5   3 112   2   0]\n",
      " [  3   2   4  22   0]\n",
      " [  2   0   5   0  28]]\n"
     ]
    }
   ],
   "source": [
    "print('SVM with linear kernel:')\n",
    "print(classification_report(y_test,y_pred))\n",
    "print(confusion_matrix(y_test,y_pred))"
   ]
  },
  {
   "cell_type": "code",
   "execution_count": null,
   "metadata": {},
   "outputs": [],
   "source": []
  },
  {
   "cell_type": "code",
   "execution_count": 139,
   "metadata": {},
   "outputs": [],
   "source": [
    "#svm with gaussian kernel"
   ]
  },
  {
   "cell_type": "code",
   "execution_count": 141,
   "metadata": {},
   "outputs": [],
   "source": [
    "clf=svm.SVC()"
   ]
  },
  {
   "cell_type": "code",
   "execution_count": 142,
   "metadata": {},
   "outputs": [],
   "source": [
    "grid={\"C\":[1,1e2,1e3,1e4,5e2,5e3],    #here parameters are C and gamma ,so used them as key in dictionary\n",
    "      \"gamma\":[1e-2,1e-3,1e-4,5e-2,5e-3,5e-4]}"
   ]
  },
  {
   "cell_type": "code",
   "execution_count": 143,
   "metadata": {},
   "outputs": [],
   "source": [
    "abc=GridSearchCV(clf,grid)"
   ]
  },
  {
   "cell_type": "code",
   "execution_count": 144,
   "metadata": {},
   "outputs": [
    {
     "name": "stderr",
     "output_type": "stream",
     "text": [
      "/anaconda3/lib/python3.7/site-packages/sklearn/model_selection/_split.py:2053: FutureWarning: You should specify a value for 'cv' instead of relying on the default value. The default value will change from 3 to 5 in version 0.22.\n",
      "  warnings.warn(CV_WARNING, FutureWarning)\n"
     ]
    },
    {
     "data": {
      "text/plain": [
       "GridSearchCV(cv='warn', error_score='raise-deprecating',\n",
       "       estimator=SVC(C=1.0, cache_size=200, class_weight=None, coef0=0.0,\n",
       "  decision_function_shape='ovr', degree=3, gamma='auto_deprecated',\n",
       "  kernel='rbf', max_iter=-1, probability=False, random_state=None,\n",
       "  shrinking=True, tol=0.001, verbose=False),\n",
       "       fit_params=None, iid='warn', n_jobs=None,\n",
       "       param_grid={'C': [1, 100.0, 1000.0, 10000.0, 500.0, 5000.0], 'gamma': [0.01, 0.001, 0.0001, 0.05, 0.005, 0.0005]},\n",
       "       pre_dispatch='2*n_jobs', refit=True, return_train_score='warn',\n",
       "       scoring=None, verbose=0)"
      ]
     },
     "execution_count": 144,
     "metadata": {},
     "output_type": "execute_result"
    }
   ],
   "source": [
    "abc.fit(x_train_pca,y_train)"
   ]
  },
  {
   "cell_type": "code",
   "execution_count": 145,
   "metadata": {},
   "outputs": [
    {
     "data": {
      "text/plain": [
       "SVC(C=100.0, cache_size=200, class_weight=None, coef0=0.0,\n",
       "  decision_function_shape='ovr', degree=3, gamma=0.001, kernel='rbf',\n",
       "  max_iter=-1, probability=False, random_state=None, shrinking=True,\n",
       "  tol=0.001, verbose=False)"
      ]
     },
     "execution_count": 145,
     "metadata": {},
     "output_type": "execute_result"
    }
   ],
   "source": [
    "abc.best_estimator_"
   ]
  },
  {
   "cell_type": "code",
   "execution_count": null,
   "metadata": {},
   "outputs": [],
   "source": [
    "#C=100, gamma=0.001 (best) and best kernel to use is rbf, i.e gaussian"
   ]
  },
  {
   "cell_type": "code",
   "execution_count": 146,
   "metadata": {},
   "outputs": [],
   "source": [
    "clf=svm.SVC(kernel='rbf',C=100.0,gamma=0.001)"
   ]
  },
  {
   "cell_type": "code",
   "execution_count": 147,
   "metadata": {},
   "outputs": [
    {
     "data": {
      "text/plain": [
       "SVC(C=100.0, cache_size=200, class_weight=None, coef0=0.0,\n",
       "  decision_function_shape='ovr', degree=3, gamma=0.001, kernel='rbf',\n",
       "  max_iter=-1, probability=False, random_state=None, shrinking=True,\n",
       "  tol=0.001, verbose=False)"
      ]
     },
     "execution_count": 147,
     "metadata": {},
     "output_type": "execute_result"
    }
   ],
   "source": [
    "clf.fit(x_train_pca,y_train)"
   ]
  },
  {
   "cell_type": "code",
   "execution_count": 148,
   "metadata": {},
   "outputs": [],
   "source": [
    "y_pred=clf.predict(x_test_pca)"
   ]
  },
  {
   "cell_type": "code",
   "execution_count": 149,
   "metadata": {},
   "outputs": [
    {
     "data": {
      "text/plain": [
       "0.8736842105263158"
      ]
     },
     "execution_count": 149,
     "metadata": {},
     "output_type": "execute_result"
    }
   ],
   "source": [
    "clf.score(x_test_pca,y_test)"
   ]
  },
  {
   "cell_type": "code",
   "execution_count": 150,
   "metadata": {},
   "outputs": [
    {
     "name": "stdout",
     "output_type": "stream",
     "text": [
      "SVM with rbf kernel:\n",
      "              precision    recall  f1-score   support\n",
      "\n",
      "           0       0.84      0.92      0.88        61\n",
      "           1       0.90      0.72      0.80        36\n",
      "           2       0.86      0.94      0.90       122\n",
      "           3       0.96      0.74      0.84        31\n",
      "           4       0.94      0.83      0.88        35\n",
      "\n",
      "   micro avg       0.87      0.87      0.87       285\n",
      "   macro avg       0.90      0.83      0.86       285\n",
      "weighted avg       0.88      0.87      0.87       285\n",
      "\n",
      "[[ 56   1   1   1   2]\n",
      " [  2  26   8   0   0]\n",
      " [  6   1 115   0   0]\n",
      " [  2   1   5  23   0]\n",
      " [  1   0   5   0  29]]\n"
     ]
    }
   ],
   "source": [
    "print('SVM with rbf kernel:')\n",
    "print(classification_report(y_test,y_pred))\n",
    "print(confusion_matrix(y_test,y_pred))"
   ]
  },
  {
   "cell_type": "code",
   "execution_count": null,
   "metadata": {},
   "outputs": [],
   "source": []
  }
 ],
 "metadata": {
  "kernelspec": {
   "display_name": "Python 3",
   "language": "python",
   "name": "python3"
  },
  "language_info": {
   "codemirror_mode": {
    "name": "ipython",
    "version": 3
   },
   "file_extension": ".py",
   "mimetype": "text/x-python",
   "name": "python",
   "nbconvert_exporter": "python",
   "pygments_lexer": "ipython3",
   "version": "3.7.1"
  }
 },
 "nbformat": 4,
 "nbformat_minor": 2
}
