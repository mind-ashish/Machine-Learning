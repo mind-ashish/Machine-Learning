{
 "cells": [
  {
   "cell_type": "code",
   "execution_count": 1,
   "metadata": {
    "collapsed": true
   },
   "outputs": [],
   "source": [
    "import numpy as np\n",
    "import matplotlib.pyplot as plt\n"
   ]
  },
  {
   "cell_type": "code",
   "execution_count": 2,
   "metadata": {
    "collapsed": true
   },
   "outputs": [],
   "source": [
    "x = np.array([1,2,3,4,5,6])\n",
    "y = np.array([5,4,6,5,6,7])"
   ]
  },
  {
   "cell_type": "code",
   "execution_count": 3,
   "metadata": {},
   "outputs": [
    {
     "data": {
      "image/png": "[encoded data removed]",
      "text/plain": [
       "<Figure size 432x288 with 1 Axes>"
      ]
     },
     "metadata": {},
     "output_type": "display_data"
    }
   ],
   "source": [
    "plt.scatter(x, y)\n",
    "plt.show()"
   ]
  },
  {
   "cell_type": "code",
   "execution_count": 5,
   "metadata": {
    "collapsed": true
   },
   "outputs": [],
   "source": [
    "def fit(x, y):\n",
    "    m_num = ((x * y).mean() - x.mean() * y.mean())\n",
    "    m_den = (x**2).mean() - (x.mean())**2\n",
    "    m = m_num/m_den\n",
    "    \n",
    "    b = y.mean() - m*x.mean()\n",
    "    return m, b"
   ]
  },
  {
   "cell_type": "code",
   "execution_count": 7,
   "metadata": {
    "collapsed": true
   },
   "outputs": [],
   "source": [
    "def predict(x, m, b):\n",
    "    return m* x + b"
   ]
  },
  {
   "cell_type": "code",
   "execution_count": 10,
   "metadata": {},
   "outputs": [
    {
     "data": {
      "text/plain": [
       "array([ 4.42857143,  4.85714286,  5.28571429,  5.71428571,  6.14285714,\n",
       "        6.57142857])"
      ]
     },
     "execution_count": 10,
     "metadata": {},
     "output_type": "execute_result"
    }
   ],
   "source": [
    "m,b = fit(x, y)\n",
    "y_p = predict(x, m, b)\n",
    "y_p\n",
    "#s = score(y_a, y_p)"
   ]
  },
  {
   "cell_type": "code",
   "execution_count": 16,
   "metadata": {
    "collapsed": true
   },
   "outputs": [],
   "source": [
    "def cost(x, y, m, b ):\n",
    "    return ((y - (m*x + b))**2).mean()"
   ]
  },
  {
   "cell_type": "code",
   "execution_count": 49,
   "metadata": {
    "collapsed": true
   },
   "outputs": [],
   "source": [
    "def step_gradient(x, y, learning_rate, m, b):\n",
    "    k = x.shape[0]\n",
    "    slope_m = 0\n",
    "    slope_b = 0\n",
    "    for i in range(k):\n",
    "        slope_m += (2/k)*x[i]*(m*x[i] + b - y[i])\n",
    "        slope_b += (2/k)*(m*x[i] + b - y[i])\n",
    "    m = m - learning_rate * slope_m\n",
    "    b = b - learning_rate * slope_b\n",
    "    return m,b"
   ]
  },
  {
   "cell_type": "code",
   "execution_count": null,
   "metadata": {
    "collapsed": true
   },
   "outputs": [],
   "source": [
    "def stochastic_step_gradient(x, y, learning_rate, m, b):\n",
    "    k = x.shape[0]\n",
    "    slope_m = 0\n",
    "    slope_b = 0\n",
    "    for i in range(k):\n",
    "        slope_m = (2/k)*x[i]*(m*x[i] + b - y[i])\n",
    "        slope_b = (2/k)*(m*x[i] + b - y[i])\n",
    "        m = m - learning_rate * slope_m\n",
    "        b = b - learning_rate * slope_b\n",
    "    return m,b"
   ]
  },
  {
   "cell_type": "code",
   "execution_count": 46,
   "metadata": {},
   "outputs": [],
   "source": [
    "def gradient_descent(x, y, learning_rate = 0.01, num_iter=1000, initial_m = 0, initial_b=0):\n",
    "    m = initial_m\n",
    "    b = initial_b\n",
    "    print(\"start: \", cost(x, y, m, b))\n",
    "    for i in range(num_iter):\n",
    "        m,b = step_gradient(x,y, learning_rate, m, b)\n",
    "        if i % 100 == 0:\n",
    "            print(i, \" : \", cost(x, y, m, b), \" m = \", m, \" b = \", b)\n",
    "    return m,b"
   ]
  },
  {
   "cell_type": "code",
   "execution_count": 45,
   "metadata": {
    "collapsed": true
   },
   "outputs": [],
   "source": [
    "def run(x, y):\n",
    "    learning_rate = 0.05\n",
    "    num_iter = 1000\n",
    "    m, b = gradient_descent(x, y, learning_rate, num_iter)\n",
    "    return m, b"
   ]
  },
  {
   "cell_type": "code",
   "execution_count": 18,
   "metadata": {},
   "outputs": [
    {
     "data": {
      "text/plain": [
       "6"
      ]
     },
     "execution_count": 18,
     "metadata": {},
     "output_type": "execute_result"
    }
   ],
   "source": [
    "x.shape[0]"
   ]
  },
  {
   "cell_type": "code",
   "execution_count": 47,
   "metadata": {},
   "outputs": [
    {
     "name": "stdout",
     "output_type": "stream",
     "text": [
      "start:  31.1666666667\n",
      "0  :  12.9995833333  m =  2.05  b =  0.55\n",
      "100  :  0.444729584794  m =  0.563044040147  b =  3.42429605707\n",
      "200  :  0.382555980474  m =  0.449894465596  b =  3.90871184588\n",
      "300  :  0.380992701494  m =  0.431952577362  b =  3.98552463087\n",
      "400  :  0.380953394763  m =  0.429107570169  b =  3.9977046714\n",
      "500  :  0.380952406443  m =  0.428656443408  b =  3.99963603461\n",
      "600  :  0.380952381593  m =  0.428584909194  b =  3.99994228678\n",
      "700  :  0.380952380968  m =  0.428573566165  b =  3.99999084854\n",
      "800  :  0.380952380953  m =  0.428571767525  b =  3.99999854887\n",
      "900  :  0.380952380952  m =  0.428571482319  b =  3.9999997699\n"
     ]
    }
   ],
   "source": [
    "m, b = run(x, y)"
   ]
  },
  {
   "cell_type": "code",
   "execution_count": 38,
   "metadata": {},
   "outputs": [
    {
     "data": {
      "text/plain": [
       "(1.0278565019609776,\n",
       " 1.4343416428868005,\n",
       " array([1, 2, 3, 4, 5, 6]),\n",
       " array([5, 4, 6, 5, 6, 7]))"
      ]
     },
     "execution_count": 38,
     "metadata": {},
     "output_type": "execute_result"
    }
   ],
   "source": [
    "m, b, x, y"
   ]
  },
  {
   "cell_type": "code",
   "execution_count": 39,
   "metadata": {},
   "outputs": [
    {
     "data": {
      "text/plain": [
       "(0.42857142857142866, 4.0)"
      ]
     },
     "execution_count": 39,
     "metadata": {},
     "output_type": "execute_result"
    }
   ],
   "source": [
    "m_lr, b_lr = fit(x, y)\n",
    "m_lr, b_lr"
   ]
  },
  {
   "cell_type": "code",
   "execution_count": 48,
   "metadata": {},
   "outputs": [
    {
     "data": {
      "image/png": "[encoded data removed]",
      "text/plain": [
       "<Figure size 432x288 with 1 Axes>"
      ]
     },
     "metadata": {},
     "output_type": "display_data"
    }
   ],
   "source": [
    "plt.scatter(x, y)\n",
    "x_t = np.array([1, 4, 8])\n",
    "y_p = m*x_t + b\n",
    "y_p_lr = m_lr*x_t + b_lr\n",
    "plt.plot(x_t, y_p)\n",
    "plt.plot(x_t, y_p_lr)\n",
    "plt.show()"
   ]
  }
 ],
 "metadata": {
  "anaconda-cloud": {},
  "kernelspec": {
   "display_name": "Python 3",
   "language": "python",
   "name": "python3"
  },
  "language_info": {
   "codemirror_mode": {
    "name": "ipython",
    "version": 3
   },
   "file_extension": ".py",
   "mimetype": "text/x-python",
   "name": "python",
   "nbconvert_exporter": "python",
   "pygments_lexer": "ipython3",
   "version": "3.7.1"
  }
 },
 "nbformat": 4,
 "nbformat_minor": 1
}
